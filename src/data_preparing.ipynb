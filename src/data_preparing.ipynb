{
 "cells": [
  {
   "cell_type": "code",
   "execution_count": 18,
   "metadata": {},
   "outputs": [
    {
     "name": "stderr",
     "output_type": "stream",
     "text": [
      "[nltk_data] Downloading package stopwords to\n",
      "[nltk_data]     /home/developer/nltk_data...\n",
      "[nltk_data]   Package stopwords is already up-to-date!\n"
     ]
    }
   ],
   "source": [
    "import pandas as pd\n",
    "import re\n",
    "import string\n",
    "from nltk.corpus import stopwords\n",
    "from wordcloud import WordCloud, STOPWORDS\n",
    "from collections import Counter\n",
    "import warnings\n",
    "import nltk\n",
    "\n",
    "\n",
    "nltk.download('stopwords')\n",
    "\n",
    "warnings.filterwarnings(\"ignore\")"
   ]
  },
  {
   "cell_type": "code",
   "execution_count": 19,
   "metadata": {},
   "outputs": [],
   "source": [
    "def text_cleaning(text):\n",
    "    \"\"\"\n",
    "    Clean the text using NLP and regular expressions\n",
    "    \n",
    "    text = Uncleaned text\n",
    "    \"\"\"\n",
    "    text = re.sub(r'https?://\\S+|www\\.\\S+', 'URL', text)\n",
    "    text = re.sub(r'<.*?>', '', text)\n",
    "    text = ''.join([char for char in text if char in string.printable])\n",
    "    text = re.sub(r'@\\S+', 'USER', text)\n",
    "    table = str.maketrans('', '', string.punctuation)\n",
    "    text = text.translate(table)\n",
    "    text = ' '.join([word for word in text.split() if word not in stopwords.words(\"english\")])\n",
    "    return text"
   ]
  },
  {
   "cell_type": "code",
   "execution_count": 21,
   "metadata": {},
   "outputs": [],
   "source": [
    "data = pd.read_csv('/home/developer/Documents/Master/TFM/train_cleaned.csv')\n",
    "data[\"tweet\"] = data[\"tweet\"].apply(text_cleaning)\n",
    "train_df_cleaned.to_csv('btc_cleaned.csv', index=False)"
   ]
  },
  {
   "cell_type": "code",
   "execution_count": null,
   "metadata": {},
   "outputs": [],
   "source": [
    "data.to_csv('btc_cleaned.csv', index=False)"
   ]
  },
  {
   "cell_type": "code",
   "execution_count": 12,
   "metadata": {},
   "outputs": [],
   "source": [
    "data = pd.read_csv('/home/developer/Documents/Master/TFM/data/train_cleaned.csv')\n",
    "data.drop_duplicates(inplace=True)\n",
    "data.dropna(inplace=True)\n",
    "data[\"clean_text\"] = data[\"clean_text\"].apply(text_cleaning)\n",
    "mapping = {0: 'Neutral', 1: 'Positive', -1: 'Negative'}\n",
    "data['category'] = data['category'].map(mapping)\n",
    "data.rename(columns={'clean_text': 'tweet'}, inplace=True)\n",
    "data.rename(columns={'category': 'Sentiment'}, inplace=True)\n",
    "train_df_cleaned = data\n",
    "# Filtrar filas donde la etiqueta no sea 'Neutral'\n",
    "train_df_cleaned = train_df_cleaned[train_df_cleaned['Sentiment'] != 'Neutral']\n",
    "\n",
    "# Reemplazar etiquetas 'Negative' con 0 y 'Positive' con 1\n",
    "train_df_cleaned['label'] = train_df_cleaned['Sentiment'].apply(lambda x: 0 if x == 'Negative' else 1)\n",
    "\n",
    "# Eliminar la columna 'Sentiment' si ya no la necesitas\n",
    "train_df_cleaned.drop(columns=['Sentiment'], inplace=True)\n"
   ]
  },
  {
   "cell_type": "code",
   "execution_count": 15,
   "metadata": {},
   "outputs": [],
   "source": [
    "df = train_df_cleaned"
   ]
  },
  {
   "cell_type": "code",
   "execution_count": 16,
   "metadata": {},
   "outputs": [
    {
     "name": "stdout",
     "output_type": "stream",
     "text": [
      "Longitud máxima del tweet: 260\n"
     ]
    }
   ],
   "source": [
    "# Accede a la columna que contiene los tweets y calcula la longitud de cada tweet\n",
    "df['tweet_length'] = df['tweet'].apply(len)\n",
    "\n",
    "# Encuentra la longitud máxima de todos los tweets\n",
    "longitud_maxima = df['tweet_length'].max()\n",
    "\n",
    "print(\"Longitud máxima del tweet:\", longitud_maxima)"
   ]
  },
  {
   "cell_type": "code",
   "execution_count": 17,
   "metadata": {},
   "outputs": [],
   "source": [
    "train_df_cleaned.to_csv('tweeter_cleaned.csv', index=False)"
   ]
  }
 ],
 "metadata": {
  "kernelspec": {
   "display_name": "Python 3",
   "language": "python",
   "name": "python3"
  },
  "language_info": {
   "codemirror_mode": {
    "name": "ipython",
    "version": 3
   },
   "file_extension": ".py",
   "mimetype": "text/x-python",
   "name": "python",
   "nbconvert_exporter": "python",
   "pygments_lexer": "ipython3",
   "version": "3.9.18"
  }
 },
 "nbformat": 4,
 "nbformat_minor": 2
}
