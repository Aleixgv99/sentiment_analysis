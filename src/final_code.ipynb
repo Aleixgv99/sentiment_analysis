{
 "cells": [
  {
   "cell_type": "code",
   "execution_count": 1,
   "metadata": {},
   "outputs": [
    {
     "name": "stderr",
     "output_type": "stream",
     "text": [
      "/tmp/ipykernel_11285/912505187.py:1: DeprecationWarning: \n",
      "Pyarrow will become a required dependency of pandas in the next major release of pandas (pandas 3.0),\n",
      "(to allow more performant data types, such as the Arrow string type, and better interoperability with other libraries)\n",
      "but was not found to be installed on your system.\n",
      "If this would cause problems for you,\n",
      "please provide us feedback at https://github.com/pandas-dev/pandas/issues/54466\n",
      "        \n",
      "  import pandas as pd\n"
     ]
    }
   ],
   "source": [
    "import pandas as pd\n",
    "import numpy as np\n",
    "import nltk\n",
    "from nltk.stem import WordNetLemmatizer\n",
    "from copy import deepcopy\n"
   ]
  },
  {
   "cell_type": "markdown",
   "metadata": {},
   "source": [
    "## Data cleaning"
   ]
  },
  {
   "cell_type": "code",
   "execution_count": 2,
   "metadata": {},
   "outputs": [],
   "source": [
    "import pandas as pd\n",
    "import re\n",
    "import string\n",
    "from nltk.corpus import stopwords\n",
    "from wordcloud import WordCloud, STOPWORDS\n",
    "from collections import Counter\n",
    "import warnings\n",
    "import nltk\n",
    "\n",
    "\n",
    "#nltk.download('stopwords')\n",
    "\n",
    "warnings.filterwarnings(\"ignore\")"
   ]
  },
  {
   "cell_type": "code",
   "execution_count": 9,
   "metadata": {},
   "outputs": [],
   "source": [
    "train_df = pd.read_csv('/home/developer/Documents/Master/TFM/data/raw/archive (2)/twitter_training.csv')"
   ]
  },
  {
   "cell_type": "code",
   "execution_count": 10,
   "metadata": {},
   "outputs": [
    {
     "name": "stdout",
     "output_type": "stream",
     "text": [
      "                                                    text Sentiment\n",
      "0      I am coming to the borders and I will kill you...  Positive\n",
      "1      im getting on borderlands and i will kill you ...  Positive\n",
      "2      im coming on borderlands and i will murder you...  Positive\n",
      "3      im getting on borderlands 2 and i will murder ...  Positive\n",
      "4      im getting into borderlands and i can murder y...  Positive\n",
      "...                                                  ...       ...\n",
      "74676  Just realized that the Windows partition of my...  Positive\n",
      "74677  Just realized that my Mac window partition is ...  Positive\n",
      "74678  Just realized the windows partition of my Mac ...  Positive\n",
      "74679  Just realized between the windows partition of...  Positive\n",
      "74680  Just like the windows partition of my Mac is l...  Positive\n",
      "\n",
      "[74681 rows x 2 columns]\n"
     ]
    }
   ],
   "source": [
    "import pandas as pd\n",
    "\n",
    "# Leer el archivo CSV\n",
    "train_df = pd.read_csv('/home/developer/Documents/Master/TFM/data/raw/archive (2)/twitter_training.csv')\n",
    "\n",
    "# Asignar nombres de columnas\n",
    "train_df.columns = [\"ID\", \"Game\", \"Sentiment\", \"Text\"]\n",
    "\n",
    "# Renombrar columnas y eliminar columnas innecesarias\n",
    "train_df = train_df.rename(columns={\"Text\": \"text\", \"Sentiment\": \"Sentiment\"})\n",
    "train_df = train_df[[\"text\", \"Sentiment\"]]\n",
    "\n",
    "# Imprimir DataFrame\n",
    "print(train_df)\n"
   ]
  },
  {
   "cell_type": "code",
   "execution_count": 11,
   "metadata": {},
   "outputs": [
    {
     "data": {
      "text/html": [
       "<div>\n",
       "<style scoped>\n",
       "    .dataframe tbody tr th:only-of-type {\n",
       "        vertical-align: middle;\n",
       "    }\n",
       "\n",
       "    .dataframe tbody tr th {\n",
       "        vertical-align: top;\n",
       "    }\n",
       "\n",
       "    .dataframe thead th {\n",
       "        text-align: right;\n",
       "    }\n",
       "</style>\n",
       "<table border=\"1\" class=\"dataframe\">\n",
       "  <thead>\n",
       "    <tr style=\"text-align: right;\">\n",
       "      <th></th>\n",
       "      <th>text</th>\n",
       "      <th>Sentiment</th>\n",
       "    </tr>\n",
       "  </thead>\n",
       "  <tbody>\n",
       "    <tr>\n",
       "      <th>0</th>\n",
       "      <td>I am coming to the borders and I will kill you...</td>\n",
       "      <td>Positive</td>\n",
       "    </tr>\n",
       "    <tr>\n",
       "      <th>1</th>\n",
       "      <td>im getting on borderlands and i will kill you ...</td>\n",
       "      <td>Positive</td>\n",
       "    </tr>\n",
       "    <tr>\n",
       "      <th>2</th>\n",
       "      <td>im coming on borderlands and i will murder you...</td>\n",
       "      <td>Positive</td>\n",
       "    </tr>\n",
       "    <tr>\n",
       "      <th>3</th>\n",
       "      <td>im getting on borderlands 2 and i will murder ...</td>\n",
       "      <td>Positive</td>\n",
       "    </tr>\n",
       "    <tr>\n",
       "      <th>4</th>\n",
       "      <td>im getting into borderlands and i can murder y...</td>\n",
       "      <td>Positive</td>\n",
       "    </tr>\n",
       "  </tbody>\n",
       "</table>\n",
       "</div>"
      ],
      "text/plain": [
       "                                                text Sentiment\n",
       "0  I am coming to the borders and I will kill you...  Positive\n",
       "1  im getting on borderlands and i will kill you ...  Positive\n",
       "2  im coming on borderlands and i will murder you...  Positive\n",
       "3  im getting on borderlands 2 and i will murder ...  Positive\n",
       "4  im getting into borderlands and i can murder y...  Positive"
      ]
     },
     "execution_count": 11,
     "metadata": {},
     "output_type": "execute_result"
    }
   ],
   "source": [
    "train_df.head()"
   ]
  },
  {
   "cell_type": "markdown",
   "metadata": {},
   "source": [
    "## Dataset Merge"
   ]
  },
  {
   "cell_type": "code",
   "execution_count": 12,
   "metadata": {},
   "outputs": [],
   "source": [
    "train_df = pd.read_csv('/home/developer/Documents/Master/TFM/data/cleaned/btc_cleaned_200.csv')"
   ]
  },
  {
   "cell_type": "code",
   "execution_count": 13,
   "metadata": {},
   "outputs": [
    {
     "data": {
      "text/html": [
       "<div>\n",
       "<style scoped>\n",
       "    .dataframe tbody tr th:only-of-type {\n",
       "        vertical-align: middle;\n",
       "    }\n",
       "\n",
       "    .dataframe tbody tr th {\n",
       "        vertical-align: top;\n",
       "    }\n",
       "\n",
       "    .dataframe thead th {\n",
       "        text-align: right;\n",
       "    }\n",
       "</style>\n",
       "<table border=\"1\" class=\"dataframe\">\n",
       "  <thead>\n",
       "    <tr style=\"text-align: right;\">\n",
       "      <th></th>\n",
       "      <th>Date</th>\n",
       "      <th>tweet</th>\n",
       "      <th>label</th>\n",
       "    </tr>\n",
       "  </thead>\n",
       "  <tbody>\n",
       "    <tr>\n",
       "      <th>4</th>\n",
       "      <td>2019-10-10</td>\n",
       "      <td>MIZO Hemp CBD Isolate order URL ad wsj nytimes...</td>\n",
       "      <td>0</td>\n",
       "    </tr>\n",
       "    <tr>\n",
       "      <th>18</th>\n",
       "      <td>2019-09-30</td>\n",
       "      <td>A lesson bitcoiners still think statism okay L...</td>\n",
       "      <td>1</td>\n",
       "    </tr>\n",
       "    <tr>\n",
       "      <th>24</th>\n",
       "      <td>2019-06-22</td>\n",
       "      <td>BTC I HOPE NO BODY falls stupid shit like Dont...</td>\n",
       "      <td>1</td>\n",
       "    </tr>\n",
       "    <tr>\n",
       "      <th>31</th>\n",
       "      <td>2019-05-17</td>\n",
       "      <td>USER hate say likely correct I missed cycle ti...</td>\n",
       "      <td>0</td>\n",
       "    </tr>\n",
       "    <tr>\n",
       "      <th>47</th>\n",
       "      <td>2019-07-10</td>\n",
       "      <td>Current prices changes last hour BTC 1242920 1...</td>\n",
       "      <td>0</td>\n",
       "    </tr>\n",
       "    <tr>\n",
       "      <th>...</th>\n",
       "      <td>...</td>\n",
       "      <td>...</td>\n",
       "      <td>...</td>\n",
       "    </tr>\n",
       "    <tr>\n",
       "      <th>136221</th>\n",
       "      <td>2019-07-12</td>\n",
       "      <td>NEXCF NexTech Signs AR eCommerce Deal Cannabis...</td>\n",
       "      <td>1</td>\n",
       "    </tr>\n",
       "    <tr>\n",
       "      <th>136226</th>\n",
       "      <td>2019-09-29</td>\n",
       "      <td>USER Setup FREE account Now URL Automatic Bitc...</td>\n",
       "      <td>0</td>\n",
       "    </tr>\n",
       "    <tr>\n",
       "      <th>136242</th>\n",
       "      <td>2019-08-14</td>\n",
       "      <td>CarSmartt CRSM Uber amp Lyft new competition c...</td>\n",
       "      <td>0</td>\n",
       "    </tr>\n",
       "    <tr>\n",
       "      <th>136249</th>\n",
       "      <td>2019-07-06</td>\n",
       "      <td>Binance gives free money airdrops forks Join t...</td>\n",
       "      <td>1</td>\n",
       "    </tr>\n",
       "    <tr>\n",
       "      <th>136261</th>\n",
       "      <td>2018-01-13</td>\n",
       "      <td>CryptoMarkets top 10 price update 1h BTC 14244...</td>\n",
       "      <td>1</td>\n",
       "    </tr>\n",
       "  </tbody>\n",
       "</table>\n",
       "<p>9395 rows × 3 columns</p>\n",
       "</div>"
      ],
      "text/plain": [
       "              Date                                              tweet  label\n",
       "4       2019-10-10  MIZO Hemp CBD Isolate order URL ad wsj nytimes...      0\n",
       "18      2019-09-30  A lesson bitcoiners still think statism okay L...      1\n",
       "24      2019-06-22  BTC I HOPE NO BODY falls stupid shit like Dont...      1\n",
       "31      2019-05-17  USER hate say likely correct I missed cycle ti...      0\n",
       "47      2019-07-10  Current prices changes last hour BTC 1242920 1...      0\n",
       "...            ...                                                ...    ...\n",
       "136221  2019-07-12  NEXCF NexTech Signs AR eCommerce Deal Cannabis...      1\n",
       "136226  2019-09-29  USER Setup FREE account Now URL Automatic Bitc...      0\n",
       "136242  2019-08-14  CarSmartt CRSM Uber amp Lyft new competition c...      0\n",
       "136249  2019-07-06  Binance gives free money airdrops forks Join t...      1\n",
       "136261  2018-01-13  CryptoMarkets top 10 price update 1h BTC 14244...      1\n",
       "\n",
       "[9395 rows x 3 columns]"
      ]
     },
     "execution_count": 13,
     "metadata": {},
     "output_type": "execute_result"
    }
   ],
   "source": [
    "# Filter tweets with more than 30 words\n",
    "train_df['word_count'] = train_df['tweet'].apply(lambda x: len(str(x).split()))\n",
    "filtered_df = train_df[train_df['word_count'] > 30]\n",
    "\n",
    "filtered_df.drop(columns=['word_count'], inplace=True)\n",
    "filtered_df"
   ]
  },
  {
   "cell_type": "code",
   "execution_count": 14,
   "metadata": {},
   "outputs": [
    {
     "data": {
      "text/html": [
       "<div>\n",
       "<style scoped>\n",
       "    .dataframe tbody tr th:only-of-type {\n",
       "        vertical-align: middle;\n",
       "    }\n",
       "\n",
       "    .dataframe tbody tr th {\n",
       "        vertical-align: top;\n",
       "    }\n",
       "\n",
       "    .dataframe thead th {\n",
       "        text-align: right;\n",
       "    }\n",
       "</style>\n",
       "<table border=\"1\" class=\"dataframe\">\n",
       "  <thead>\n",
       "    <tr style=\"text-align: right;\">\n",
       "      <th></th>\n",
       "      <th>tweet</th>\n",
       "      <th>label</th>\n",
       "    </tr>\n",
       "  </thead>\n",
       "  <tbody>\n",
       "    <tr>\n",
       "      <th>4</th>\n",
       "      <td>MIZO Hemp CBD Isolate order URL ad wsj nytimes...</td>\n",
       "      <td>0</td>\n",
       "    </tr>\n",
       "    <tr>\n",
       "      <th>18</th>\n",
       "      <td>A lesson bitcoiners still think statism okay L...</td>\n",
       "      <td>1</td>\n",
       "    </tr>\n",
       "    <tr>\n",
       "      <th>24</th>\n",
       "      <td>BTC I HOPE NO BODY falls stupid shit like Dont...</td>\n",
       "      <td>1</td>\n",
       "    </tr>\n",
       "    <tr>\n",
       "      <th>31</th>\n",
       "      <td>USER hate say likely correct I missed cycle ti...</td>\n",
       "      <td>0</td>\n",
       "    </tr>\n",
       "    <tr>\n",
       "      <th>47</th>\n",
       "      <td>Current prices changes last hour BTC 1242920 1...</td>\n",
       "      <td>0</td>\n",
       "    </tr>\n",
       "    <tr>\n",
       "      <th>...</th>\n",
       "      <td>...</td>\n",
       "      <td>...</td>\n",
       "    </tr>\n",
       "    <tr>\n",
       "      <th>136221</th>\n",
       "      <td>NEXCF NexTech Signs AR eCommerce Deal Cannabis...</td>\n",
       "      <td>1</td>\n",
       "    </tr>\n",
       "    <tr>\n",
       "      <th>136226</th>\n",
       "      <td>USER Setup FREE account Now URL Automatic Bitc...</td>\n",
       "      <td>0</td>\n",
       "    </tr>\n",
       "    <tr>\n",
       "      <th>136242</th>\n",
       "      <td>CarSmartt CRSM Uber amp Lyft new competition c...</td>\n",
       "      <td>0</td>\n",
       "    </tr>\n",
       "    <tr>\n",
       "      <th>136249</th>\n",
       "      <td>Binance gives free money airdrops forks Join t...</td>\n",
       "      <td>1</td>\n",
       "    </tr>\n",
       "    <tr>\n",
       "      <th>136261</th>\n",
       "      <td>CryptoMarkets top 10 price update 1h BTC 14244...</td>\n",
       "      <td>1</td>\n",
       "    </tr>\n",
       "  </tbody>\n",
       "</table>\n",
       "<p>9395 rows × 2 columns</p>\n",
       "</div>"
      ],
      "text/plain": [
       "                                                    tweet  label\n",
       "4       MIZO Hemp CBD Isolate order URL ad wsj nytimes...      0\n",
       "18      A lesson bitcoiners still think statism okay L...      1\n",
       "24      BTC I HOPE NO BODY falls stupid shit like Dont...      1\n",
       "31      USER hate say likely correct I missed cycle ti...      0\n",
       "47      Current prices changes last hour BTC 1242920 1...      0\n",
       "...                                                   ...    ...\n",
       "136221  NEXCF NexTech Signs AR eCommerce Deal Cannabis...      1\n",
       "136226  USER Setup FREE account Now URL Automatic Bitc...      0\n",
       "136242  CarSmartt CRSM Uber amp Lyft new competition c...      0\n",
       "136249  Binance gives free money airdrops forks Join t...      1\n",
       "136261  CryptoMarkets top 10 price update 1h BTC 14244...      1\n",
       "\n",
       "[9395 rows x 2 columns]"
      ]
     },
     "execution_count": 14,
     "metadata": {},
     "output_type": "execute_result"
    }
   ],
   "source": [
    "filtered_df.drop(columns=['Date'], inplace=True)\n",
    "filtered_df"
   ]
  },
  {
   "cell_type": "code",
   "execution_count": 15,
   "metadata": {},
   "outputs": [
    {
     "name": "stdout",
     "output_type": "stream",
     "text": [
      "                                                   tweet Sentiment\n",
      "0      I am coming to the borders and I will kill you...  Positive\n",
      "1      im getting on borderlands and i will kill you ...  Positive\n",
      "2      im coming on borderlands and i will murder you...  Positive\n",
      "3      im getting on borderlands 2 and i will murder ...  Positive\n",
      "4      im getting into borderlands and i can murder y...  Positive\n",
      "...                                                  ...       ...\n",
      "74676  Just realized that the Windows partition of my...  Positive\n",
      "74677  Just realized that my Mac window partition is ...  Positive\n",
      "74678  Just realized the windows partition of my Mac ...  Positive\n",
      "74679  Just realized between the windows partition of...  Positive\n",
      "74680  Just like the windows partition of my Mac is l...  Positive\n",
      "\n",
      "[74681 rows x 2 columns]\n"
     ]
    }
   ],
   "source": [
    "import pandas as pd\n",
    "\n",
    "# Leer el archivo CSV\n",
    "train_df = pd.read_csv('/home/developer/Documents/Master/TFM/data/raw/archive (2)/twitter_training.csv')\n",
    "\n",
    "# Asignar nombres de columnas\n",
    "train_df.columns = [\"ID\", \"Game\", \"Sentiment\", \"Text\"]\n",
    "\n",
    "# Renombrar columnas y eliminar columnas innecesarias\n",
    "train_df = train_df.rename(columns={\"Text\": \"tweet\", \"Sentiment\": \"Sentiment\"})\n",
    "train_df = train_df[[\"tweet\", \"Sentiment\"]]\n",
    "\n",
    "# Imprimir DataFrame\n",
    "print(train_df)\n"
   ]
  },
  {
   "cell_type": "code",
   "execution_count": 16,
   "metadata": {},
   "outputs": [
    {
     "data": {
      "text/html": [
       "<div>\n",
       "<style scoped>\n",
       "    .dataframe tbody tr th:only-of-type {\n",
       "        vertical-align: middle;\n",
       "    }\n",
       "\n",
       "    .dataframe tbody tr th {\n",
       "        vertical-align: top;\n",
       "    }\n",
       "\n",
       "    .dataframe thead th {\n",
       "        text-align: right;\n",
       "    }\n",
       "</style>\n",
       "<table border=\"1\" class=\"dataframe\">\n",
       "  <thead>\n",
       "    <tr style=\"text-align: right;\">\n",
       "      <th></th>\n",
       "      <th>tweet</th>\n",
       "      <th>label</th>\n",
       "    </tr>\n",
       "  </thead>\n",
       "  <tbody>\n",
       "    <tr>\n",
       "      <th>0</th>\n",
       "      <td>I am coming to the borders and I will kill you...</td>\n",
       "      <td>1</td>\n",
       "    </tr>\n",
       "    <tr>\n",
       "      <th>1</th>\n",
       "      <td>im getting on borderlands and i will kill you ...</td>\n",
       "      <td>1</td>\n",
       "    </tr>\n",
       "    <tr>\n",
       "      <th>2</th>\n",
       "      <td>im coming on borderlands and i will murder you...</td>\n",
       "      <td>1</td>\n",
       "    </tr>\n",
       "    <tr>\n",
       "      <th>3</th>\n",
       "      <td>im getting on borderlands 2 and i will murder ...</td>\n",
       "      <td>1</td>\n",
       "    </tr>\n",
       "    <tr>\n",
       "      <th>4</th>\n",
       "      <td>im getting into borderlands and i can murder y...</td>\n",
       "      <td>1</td>\n",
       "    </tr>\n",
       "    <tr>\n",
       "      <th>...</th>\n",
       "      <td>...</td>\n",
       "      <td>...</td>\n",
       "    </tr>\n",
       "    <tr>\n",
       "      <th>74676</th>\n",
       "      <td>Just realized that the Windows partition of my...</td>\n",
       "      <td>1</td>\n",
       "    </tr>\n",
       "    <tr>\n",
       "      <th>74677</th>\n",
       "      <td>Just realized that my Mac window partition is ...</td>\n",
       "      <td>1</td>\n",
       "    </tr>\n",
       "    <tr>\n",
       "      <th>74678</th>\n",
       "      <td>Just realized the windows partition of my Mac ...</td>\n",
       "      <td>1</td>\n",
       "    </tr>\n",
       "    <tr>\n",
       "      <th>74679</th>\n",
       "      <td>Just realized between the windows partition of...</td>\n",
       "      <td>1</td>\n",
       "    </tr>\n",
       "    <tr>\n",
       "      <th>74680</th>\n",
       "      <td>Just like the windows partition of my Mac is l...</td>\n",
       "      <td>1</td>\n",
       "    </tr>\n",
       "  </tbody>\n",
       "</table>\n",
       "<p>43373 rows × 2 columns</p>\n",
       "</div>"
      ],
      "text/plain": [
       "                                                   tweet  label\n",
       "0      I am coming to the borders and I will kill you...      1\n",
       "1      im getting on borderlands and i will kill you ...      1\n",
       "2      im coming on borderlands and i will murder you...      1\n",
       "3      im getting on borderlands 2 and i will murder ...      1\n",
       "4      im getting into borderlands and i can murder y...      1\n",
       "...                                                  ...    ...\n",
       "74676  Just realized that the Windows partition of my...      1\n",
       "74677  Just realized that my Mac window partition is ...      1\n",
       "74678  Just realized the windows partition of my Mac ...      1\n",
       "74679  Just realized between the windows partition of...      1\n",
       "74680  Just like the windows partition of my Mac is l...      1\n",
       "\n",
       "[43373 rows x 2 columns]"
      ]
     },
     "execution_count": 16,
     "metadata": {},
     "output_type": "execute_result"
    }
   ],
   "source": [
    "# Filtrar filas donde la etiqueta no sea 'Neutral'\n",
    "train_df_cleaned = train_df\n",
    "train_df_cleaned = train_df_cleaned[train_df_cleaned['Sentiment'] != 'Neutral']\n",
    "train_df_cleaned = train_df_cleaned[train_df_cleaned['Sentiment'] != 'Irrelevant']\n",
    "\n",
    "# Reemplazar etiquetas 'Negative' con 0 y 'Positive' con 1\n",
    "train_df_cleaned['label'] = train_df_cleaned['Sentiment'].apply(lambda x: 0 if x == 'Negative' else 1)\n",
    "\n",
    "# Eliminar la columna 'Sentiment' si ya no la necesitas\n",
    "train_df_cleaned.drop(columns=['Sentiment'], inplace=True)\n",
    "train_df = train_df_cleaned\n",
    "train_df"
   ]
  },
  {
   "cell_type": "code",
   "execution_count": 19,
   "metadata": {},
   "outputs": [],
   "source": [
    "# Concatenating `selected_df` and `df`\n",
    "combined_df = pd.concat([filtered_df, train_df], ignore_index=True)\n",
    "combined_df['tweet'] = combined_df['tweet'].astype(str)\n",
    "combined_df.rename(columns={\"label\": \"Sentiment\"}, inplace=True)\n",
    "combined_df.to_csv('/home/developer/Documents/Master/TFM/data/final/final_dataset.csv', index=False)"
   ]
  },
  {
   "cell_type": "markdown",
   "metadata": {},
   "source": [
    "## Análisis exploratorio de los datos"
   ]
  },
  {
   "cell_type": "code",
   "execution_count": 8,
   "metadata": {},
   "outputs": [],
   "source": [
    "df = train_df"
   ]
  },
  {
   "cell_type": "code",
   "execution_count": 9,
   "metadata": {},
   "outputs": [
    {
     "name": "stdout",
     "output_type": "stream",
     "text": [
      "              label\n",
      "count  48731.000000\n",
      "mean       0.496214\n",
      "std        0.499991\n",
      "min        0.000000\n",
      "25%        0.000000\n",
      "50%        0.000000\n",
      "75%        1.000000\n",
      "max        1.000000\n",
      "label\n",
      "0    24550\n",
      "1    24181\n",
      "Name: count, dtype: int64\n"
     ]
    }
   ],
   "source": [
    "# Descripción básica del dataset\n",
    "print(df.describe())\n",
    "\n",
    "# Conteo de valores únicos para 'Sentiment'\n",
    "print(df['label'].value_counts())"
   ]
  },
  {
   "cell_type": "markdown",
   "metadata": {},
   "source": [
    "La muestra contiene tweets de 1,773 fechas distintas, con un pico notable el 3 de agosto de 2018, donde se registraron 5,200 tweets. La repetición del contenido es considerable, con 82,918 tweets únicos. El mensaje más repetido  está 4500 poniendo de manifiesto la fuerte difusión que pueden tener las redes sociales y lo que pueden influir en los sentimeintos del mercado. Desde la perspectiva del sentimiento, se observa una distribución donde predominan las opiniones negativas, constituyendo 50.4% de los tweets cuyos sentimientos fueron identificados (50,400 de 95,406). Las opiniones positivas siguen de cerca, con 47.2% (45,005), y un solo tweet clasificado como neutral.\n",
    "\n"
   ]
  },
  {
   "cell_type": "code",
   "execution_count": 10,
   "metadata": {},
   "outputs": [
    {
     "data": {
      "image/png": "[encoded data removed]",
      "text/plain": [
       "<Figure size 640x480 with 1 Axes>"
      ]
     },
     "metadata": {},
     "output_type": "display_data"
    }
   ],
   "source": [
    "import seaborn as sns\n",
    "import matplotlib.pyplot as plt\n",
    "\n",
    "# Conteo de tweets por sentimiento\n",
    "sns.countplot(x='label', data=df)\n",
    "plt.title('Distribución de Sentimientos en Tweets')\n",
    "plt.xlabel('Sentimiento')\n",
    "plt.ylabel('Número de Tweets')\n",
    "plt.show()\n",
    "\n"
   ]
  },
  {
   "cell_type": "code",
   "execution_count": 11,
   "metadata": {},
   "outputs": [
    {
     "data": {
      "image/png": "[encoded data removed]",
      "text/plain": [
       "<Figure size 640x480 with 1 Axes>"
      ]
     },
     "metadata": {},
     "output_type": "display_data"
    }
   ],
   "source": [
    "df['tweet'] = df['tweet'].astype(str)\n",
    "# Cálculo de la longitud de cada tweet\n",
    "df['Tweet Length'] = df['tweet'].apply(len)\n",
    "\n",
    "# Boxplot de la longitud de tweets por sentimiento\n",
    "sns.boxplot(x='label', y='Tweet Length', data=df)\n",
    "plt.title('Distribución de la Longitud de Tweets por Sentimiento')\n",
    "plt.xlabel('Sentimiento')\n",
    "plt.ylabel('Longitud de Tweet')\n",
    "plt.show()\n"
   ]
  },
  {
   "cell_type": "code",
   "execution_count": 12,
   "metadata": {},
   "outputs": [
    {
     "data": {
      "image/png": "[encoded data removed]",
      "text/plain": [
       "<Figure size 640x480 with 1 Axes>"
      ]
     },
     "metadata": {},
     "output_type": "display_data"
    }
   ],
   "source": [
    "\n",
    "# Primero, calculamos el número de palabras en cada tweet\n",
    "df['Word Count'] = df['tweet'].apply(lambda x: len(str(x).split()))\n",
    "\n",
    "# Ahora, creamos un boxplot de la cantidad de palabras por sentimiento\n",
    "sns.boxplot(x='label', y='Word Count', data=df)\n",
    "plt.title('Distribución del Número de Palabras por Sentimiento en Tweets')\n",
    "plt.xlabel('Sentimiento')\n",
    "plt.ylabel('Número de Palabras')\n",
    "plt.show()\n"
   ]
  },
  {
   "cell_type": "code",
   "execution_count": 13,
   "metadata": {},
   "outputs": [
    {
     "name": "stdout",
     "output_type": "stream",
     "text": [
      "El tweet más largo tiene 602 caracteres y es:\n",
      "At time many lowincome countries world today including United States United Kingdom France Germany Italy Italy Italy Italy Italy Italy Italy Italy Italy Italy Italy Italy Italy Italy Italy Italy Italy Italy Italy Italy Italy Italy Italy Italy Italy Italy Italy Italy Italy Italy Italy Italy Italy Italy Italy Italy Italy Italy Italy Italy Italy Italy Italy Italy Italy Italy Italy Italy Italy Italy Italy Italy Italy Italy Italy Italy Italy Italy Italy Italy Italy Italy Italy Italy Italy Italy Italy Italy Italy Italy Italy Italy Italy Italy Italy Italy Italy Italy Italy Italy Italy Italy Italy Italy\n"
     ]
    }
   ],
   "source": [
    "# Encuentra el índice del tweet más largo\n",
    "indice_max_longitud = df['Tweet Length'].idxmax()\n",
    "\n",
    "# Imprime el tweet más largo junto con su longitud\n",
    "tweet_mas_largo = df.loc[indice_max_longitud, 'tweet']\n",
    "longitud_tweet_mas_largo = df.loc[indice_max_longitud, 'Tweet Length']\n",
    "\n",
    "print(f\"El tweet más largo tiene {longitud_tweet_mas_largo} caracteres y es:\\n{tweet_mas_largo}\")\n"
   ]
  },
  {
   "cell_type": "code",
   "execution_count": 14,
   "metadata": {},
   "outputs": [
    {
     "name": "stdout",
     "output_type": "stream",
     "text": [
      "El tweet con más palabras tiene 101 palabras y es:\n",
      "USER USER USER USER USER USER USER USER USER USER USER USER USER USER USER USER USER USER USER USER USER USER USER USER USER USER USER USER USER USER USER USER USER USER USER USER USER USER USER USER USER USER USER USER USER USER USER USER USER USER NOW WE TRIGGERED ALL OF YOU HEY I HAVE A prophecy FOR YOU buy TRUMP minted coin OR bitcoin OR EXTRA spyware TO COMPLIMENT YOUR applemicrosoft spyware WE RUN WIDE OPEN DO THE WALK SEARCH jesus HERE WE TOLD THE STORY IN DETAIL WE SPHINCTER THE old aas ALSO Qanon MAGA\n"
     ]
    }
   ],
   "source": [
    "# Cálculo del número de palabras en cada tweet\n",
    "df['Word Count'] = df['tweet'].apply(lambda x: len(x.split()))\n",
    "\n",
    "# Encuentra el índice del tweet con el mayor número de palabras\n",
    "indice_max_palabras = df['Word Count'].idxmax()\n",
    "\n",
    "# Imprime el tweet con el mayor número de palabras junto con su cuenta\n",
    "tweet_mas_palabras = df.loc[indice_max_palabras, 'tweet']\n",
    "num_palabras_tweet_mas_palabras = df.loc[indice_max_palabras, 'Word Count']\n",
    "\n",
    "print(f\"El tweet con más palabras tiene {num_palabras_tweet_mas_palabras} palabras y es:\\n{tweet_mas_palabras}\")\n"
   ]
  },
  {
   "cell_type": "code",
   "execution_count": 15,
   "metadata": {},
   "outputs": [
    {
     "name": "stdout",
     "output_type": "stream",
     "text": [
      "language\n",
      "en    48237\n",
      "fr       61\n",
      "no       45\n",
      "nl       44\n",
      "de       42\n",
      "da       39\n",
      "af       37\n",
      "sv       34\n",
      "tl       33\n",
      "it       31\n",
      "cy       17\n",
      "so       16\n",
      "ro       15\n",
      "ca       12\n",
      "pl       11\n",
      "sw       10\n",
      "id        9\n",
      "et        9\n",
      "sq        7\n",
      "pt        5\n",
      "es        5\n",
      "tr        3\n",
      "hr        2\n",
      "sk        2\n",
      "sl        1\n",
      "vi        1\n",
      "cs        1\n",
      "fi        1\n",
      "hu        1\n",
      "Name: count, dtype: int64\n"
     ]
    }
   ],
   "source": [
    "from langdetect import detect\n",
    "\n",
    "# Definimos una función para detectar el idioma\n",
    "def detect_language(text):\n",
    "    try:\n",
    "        return detect(text)\n",
    "    except:\n",
    "        return 'error'\n",
    "\n",
    "# Aplicamos la función al dataset\n",
    "df['language'] = df['tweet'].apply(detect_language)\n",
    "\n",
    "# Contamos cuántos tweets hay por idioma\n",
    "print(df['language'].value_counts())\n"
   ]
  },
  {
   "cell_type": "code",
   "execution_count": 16,
   "metadata": {},
   "outputs": [
    {
     "data": {
      "image/png": "[encoded data removed]",
      "text/plain": [
       "<Figure size 640x480 with 1 Axes>"
      ]
     },
     "metadata": {},
     "output_type": "display_data"
    }
   ],
   "source": [
    "import seaborn as sns\n",
    "import matplotlib.pyplot as plt\n",
    "\n",
    "# Asegúrate de que los datos están en el formato correcto\n",
    "idiomas = df['language'].value_counts()\n",
    "\n",
    "# Selecciona solo los top 5 idiomas\n",
    "top_5_idiomas = idiomas.head(5)\n",
    "\n",
    "# Crea un gráfico de barras para los top 5 idiomas\n",
    "sns.barplot(x=top_5_idiomas.values, y=top_5_idiomas.index)\n",
    "\n",
    "# Añade títulos y etiquetas para hacerlo más informativo\n",
    "plt.title('Top 5 Idiomas en Tweets sobre Criptomonedas')\n",
    "plt.xlabel('Número de Tweets')\n",
    "plt.ylabel('Idioma')\n",
    "\n",
    "# Muestra el gráfico\n",
    "plt.show()\n"
   ]
  },
  {
   "cell_type": "code",
   "execution_count": 17,
   "metadata": {},
   "outputs": [
    {
     "name": "stderr",
     "output_type": "stream",
     "text": [
      "[nltk_data] Downloading package punkt to /home/developer/nltk_data...\n",
      "[nltk_data]   Package punkt is already up-to-date!\n",
      "[nltk_data] Downloading package stopwords to\n",
      "[nltk_data]     /home/developer/nltk_data...\n",
      "[nltk_data]   Package stopwords is already up-to-date!\n"
     ]
    },
    {
     "data": {
      "image/png": "[encoded data removed]",
      "text/plain": [
       "<Figure size 640x480 with 1 Axes>"
      ]
     },
     "metadata": {},
     "output_type": "display_data"
    }
   ],
   "source": [
    "from nltk.corpus import stopwords\n",
    "from nltk.tokenize import word_tokenize\n",
    "import matplotlib.pyplot as plt\n",
    "import seaborn as sns\n",
    "\n",
    "# Descargamos las stopwords\n",
    "import nltk\n",
    "nltk.download('punkt')\n",
    "nltk.download('stopwords')\n",
    "\n",
    "# Función para extraer las palabras más comunes\n",
    "def get_most_common_words(text_series, num=20):\n",
    "    words = ' '.join(text_series).lower()\n",
    "    tokens = word_tokenize(words)\n",
    "    filtered_words = [word for word in tokens if word.isalpha() and word not in stopwords.words('english')]\n",
    "    fd = nltk.FreqDist(filtered_words)\n",
    "    return fd.most_common(num)\n",
    "\n",
    "# Obtenemos las 20 palabras más comunes\n",
    "common_words = get_most_common_words(df['tweet'])\n",
    "\n",
    "# Visualizamos las palabras más comunes\n",
    "sns.barplot(x=[x[1] for x in common_words], y=[x[0] for x in common_words])\n",
    "plt.xlabel('Frecuencia')\n",
    "plt.ylabel('Palabras')\n",
    "plt.title('20 palabras más comunes')\n",
    "plt.show()\n"
   ]
  },
  {
   "cell_type": "code",
   "execution_count": 18,
   "metadata": {},
   "outputs": [
    {
     "data": {
      "image/png": "[encoded data removed]",
      "text/plain": [
       "<Figure size 1000x800 with 2 Axes>"
      ]
     },
     "metadata": {},
     "output_type": "display_data"
    }
   ],
   "source": [
    "# Filtramos el dataframe para obtener solo los tweets con sentimiento positivo\n",
    "df_positive = df[df['label'] == 1]\n",
    "\n",
    "# Filtramos el dataframe para obtener solo los tweets con sentimiento negativo\n",
    "df_negative = df[df['label'] == 0]\n",
    "\n",
    "# Obtenemos las 20 palabras más comunes en tweets positivos\n",
    "common_words_positive = get_most_common_words(df_positive['tweet'])\n",
    "\n",
    "# Obtenemos las 20 palabras más comunes en tweets negativos\n",
    "common_words_negative = get_most_common_words(df_negative['tweet'])\n",
    "\n",
    "# Configuramos los gráficos para visualizar las palabras más comunes en tweets positivos\n",
    "plt.figure(figsize=(10, 8))\n",
    "plt.subplot(2, 1, 1)  # 2 filas, 1 columna, posición 1\n",
    "sns.barplot(x=[x[1] for x in common_words_positive], y=[x[0] for x in common_words_positive])\n",
    "plt.xlabel('Frecuencia')\n",
    "plt.ylabel('Palabras')\n",
    "plt.title('20 palabras más comunes en Tweets Positivos')\n",
    "\n",
    "# Configuramos los gráficos para visualizar las palabras más comunes en tweets negativos\n",
    "plt.subplot(2, 1, 2)  # 2 filas, 1 columna, posición 2\n",
    "sns.barplot(x=[x[1] for x in common_words_negative], y=[x[0] for x in common_words_negative])\n",
    "plt.xlabel('Frecuencia')\n",
    "plt.ylabel('Palabras')\n",
    "plt.title('20 palabras más comunes en Tweets Negativos')\n",
    "\n",
    "plt.tight_layout()  # Ajusta automáticamente los subplots para que se ajusten en el área de la figura\n",
    "plt.show()\n"
   ]
  },
  {
   "cell_type": "code",
   "execution_count": 19,
   "metadata": {},
   "outputs": [
    {
     "data": {
      "image/png": "[encoded data removed]",
      "text/plain": [
       "<Figure size 1500x1000 with 1 Axes>"
      ]
     },
     "metadata": {},
     "output_type": "display_data"
    }
   ],
   "source": [
    "import pandas as pd\n",
    "\n",
    "# Suponiendo que common_words_positive y common_words_negative están disponibles\n",
    "# Convertimos las listas de palabras comunes en dataframes\n",
    "df_common_words_positive = pd.DataFrame(common_words_positive, columns=['word', 'positive_freq'])\n",
    "df_common_words_negative = pd.DataFrame(common_words_negative, columns=['word', 'negative_freq'])\n",
    "\n",
    "# Unimos los dataframes en uno solo basado en las palabras\n",
    "df_common_words = pd.merge(df_common_words_positive, df_common_words_negative, on='word', how='outer')\n",
    "\n",
    "# Llenamos los valores NaN con 0, ya que significa que la palabra no apareció en ese sentimiento\n",
    "df_common_words.fillna(0, inplace=True)\n",
    "\n",
    "# Creamos un gráfico de barras agrupadas\n",
    "plt.figure(figsize=(15, 10))\n",
    "\n",
    "# Barras para frecuencias positivas\n",
    "sns.barplot(data=df_common_words, x='word', y='positive_freq', color='green', label=1)\n",
    "\n",
    "# Barras para frecuencias negativas\n",
    "sns.barplot(data=df_common_words, x='word', y='negative_freq', color='red', label=0, alpha=0.6)\n",
    "\n",
    "plt.xticks(rotation=45, ha=\"right\")\n",
    "plt.xlabel('Palabras')\n",
    "plt.ylabel('Frecuencia')\n",
    "plt.title('Comparación de Frecuencias de Palabras en Tweets Positivos vs Negativos')\n",
    "plt.legend()\n",
    "plt.show()\n"
   ]
  },
  {
   "cell_type": "markdown",
   "metadata": {},
   "source": [
    "## Preparación del dataset"
   ]
  },
  {
   "cell_type": "code",
   "execution_count": 7,
   "metadata": {},
   "outputs": [],
   "source": [
    "train_df = pd.read_csv('/home/developer/Documents/Master/TFM/src/final_dataset.csv')"
   ]
  },
  {
   "cell_type": "code",
   "execution_count": 117,
   "metadata": {},
   "outputs": [],
   "source": [
    "#train_df = train_df.sample(n=1000, random_state=42)\n",
    "train_df_cleaned = train_df.dropna(subset=['Sentiment'])\n",
    "\n",
    "# Renombrar la columna 'Text' a 'Tweet'\n",
    "train_df_cleaned.rename(columns={'text': 'tweet'}, inplace=True)\n",
    "\n",
    "# Filtrar filas donde la etiqueta no sea 'Neutral'\n",
    "train_df_cleaned = train_df_cleaned[train_df_cleaned['Sentiment'] != 'Neutral']\n",
    "train_df_cleaned = train_df_cleaned[train_df_cleaned['Sentiment'] != 'Irrelevant']\n",
    "\n",
    "# Reemplazar etiquetas 'Negative' con 0 y 'Positive' con 1\n",
    "train_df_cleaned['label'] = train_df_cleaned['Sentiment'].apply(lambda x: 0 if x == 'Negative' else 1)\n",
    "\n",
    "# Eliminar la columna 'Sentiment' si ya no la necesitas\n",
    "train_df_cleaned.drop(columns=['Sentiment'], inplace=True)\n",
    "train_df = train_df_cleaned\n"
   ]
  },
  {
   "cell_type": "code",
   "execution_count": 10,
   "metadata": {},
   "outputs": [],
   "source": [
    "from langdetect import detect\n",
    "\n",
    "# Definimos una función para detectar el idioma\n",
    "def detect_language(text):\n",
    "    try:\n",
    "        return detect(text)\n",
    "    except:\n",
    "        return 'error'\n",
    "\n",
    "# Aplicamos la función al dataset\n",
    "train_df['language'] = train_df['tweet'].apply(detect_language)"
   ]
  },
  {
   "cell_type": "code",
   "execution_count": 11,
   "metadata": {},
   "outputs": [],
   "source": [
    "# Filtrar solo los registros en inglés\n",
    "train_df = train_df[train_df['language'] == 'en']\n",
    "\n",
    "# Eliminar la columna de idioma\n",
    "train_df.drop(columns=['language'], inplace=True)\n"
   ]
  },
  {
   "cell_type": "code",
   "execution_count": 4,
   "metadata": {},
   "outputs": [],
   "source": [
    "df = train_df"
   ]
  },
  {
   "cell_type": "code",
   "execution_count": 5,
   "metadata": {},
   "outputs": [],
   "source": [
    "def text_cleaning(text):\n",
    "    \"\"\"\n",
    "    Clean the text using NLP and regular expressions\n",
    "    \n",
    "    text = Uncleaned text\n",
    "    \"\"\"\n",
    "    text = re.sub(r'https?://\\S+|www\\.\\S+', 'URL', text)\n",
    "    text = re.sub(r'<.*?>', '', text)\n",
    "    text = ''.join([char for char in text if char in string.printable])\n",
    "    text = re.sub(r'@\\S+', 'USER', text)\n",
    "    table = str.maketrans('', '', string.punctuation)\n",
    "    text = text.translate(table)\n",
    "    text = ' '.join([word for word in text.split() if word not in stopwords.words(\"english\")])\n",
    "    return text"
   ]
  },
  {
   "cell_type": "code",
   "execution_count": 6,
   "metadata": {},
   "outputs": [],
   "source": [
    "#train_df = pd.read_csv('/home/developer/Documents/Master/TFM/train_cleaned.csv')\n",
    "df['tweet'] = df['tweet'].astype(str)\n",
    "df[\"tweet\"] = df[\"tweet\"].apply(text_cleaning)\n",
    "df.to_csv('final_dataset.csv', index=False)"
   ]
  },
  {
   "cell_type": "markdown",
   "metadata": {},
   "source": [
    "## NLP"
   ]
  },
  {
   "cell_type": "code",
   "execution_count": 3,
   "metadata": {},
   "outputs": [],
   "source": [
    "train_df = pd.read_csv('final_dataset.csv')"
   ]
  },
  {
   "cell_type": "code",
   "execution_count": 4,
   "metadata": {},
   "outputs": [
    {
     "data": {
      "text/html": [
       "<div>\n",
       "<style scoped>\n",
       "    .dataframe tbody tr th:only-of-type {\n",
       "        vertical-align: middle;\n",
       "    }\n",
       "\n",
       "    .dataframe tbody tr th {\n",
       "        vertical-align: top;\n",
       "    }\n",
       "\n",
       "    .dataframe thead th {\n",
       "        text-align: right;\n",
       "    }\n",
       "</style>\n",
       "<table border=\"1\" class=\"dataframe\">\n",
       "  <thead>\n",
       "    <tr style=\"text-align: right;\">\n",
       "      <th></th>\n",
       "      <th>tweet</th>\n",
       "      <th>label</th>\n",
       "    </tr>\n",
       "  </thead>\n",
       "  <tbody>\n",
       "    <tr>\n",
       "      <th>0</th>\n",
       "      <td>MIZO Hemp CBD Isolate order URL ad wsj nytimes...</td>\n",
       "      <td>0</td>\n",
       "    </tr>\n",
       "    <tr>\n",
       "      <th>1</th>\n",
       "      <td>A lesson bitcoiners still think statism okay L...</td>\n",
       "      <td>1</td>\n",
       "    </tr>\n",
       "    <tr>\n",
       "      <th>2</th>\n",
       "      <td>BTC I HOPE NO BODY falls stupid shit like Dont...</td>\n",
       "      <td>1</td>\n",
       "    </tr>\n",
       "    <tr>\n",
       "      <th>3</th>\n",
       "      <td>USER hate say likely correct I missed cycle ti...</td>\n",
       "      <td>0</td>\n",
       "    </tr>\n",
       "    <tr>\n",
       "      <th>4</th>\n",
       "      <td>Current prices changes last hour BTC 1242920 1...</td>\n",
       "      <td>0</td>\n",
       "    </tr>\n",
       "    <tr>\n",
       "      <th>...</th>\n",
       "      <td>...</td>\n",
       "      <td>...</td>\n",
       "    </tr>\n",
       "    <tr>\n",
       "      <th>48726</th>\n",
       "      <td>With regulatory clarity still elusive investor...</td>\n",
       "      <td>0</td>\n",
       "    </tr>\n",
       "    <tr>\n",
       "      <th>48727</th>\n",
       "      <td>As crypto market enters new phase maturity inv...</td>\n",
       "      <td>0</td>\n",
       "    </tr>\n",
       "    <tr>\n",
       "      <th>48728</th>\n",
       "      <td>Despite regulatory crackdowns heightened scrut...</td>\n",
       "      <td>1</td>\n",
       "    </tr>\n",
       "    <tr>\n",
       "      <th>48729</th>\n",
       "      <td>In absence regulatory clarity investors left n...</td>\n",
       "      <td>0</td>\n",
       "    </tr>\n",
       "    <tr>\n",
       "      <th>48730</th>\n",
       "      <td>The recent influx institutional capital crypto...</td>\n",
       "      <td>1</td>\n",
       "    </tr>\n",
       "  </tbody>\n",
       "</table>\n",
       "<p>48731 rows × 2 columns</p>\n",
       "</div>"
      ],
      "text/plain": [
       "                                                   tweet  label\n",
       "0      MIZO Hemp CBD Isolate order URL ad wsj nytimes...      0\n",
       "1      A lesson bitcoiners still think statism okay L...      1\n",
       "2      BTC I HOPE NO BODY falls stupid shit like Dont...      1\n",
       "3      USER hate say likely correct I missed cycle ti...      0\n",
       "4      Current prices changes last hour BTC 1242920 1...      0\n",
       "...                                                  ...    ...\n",
       "48726  With regulatory clarity still elusive investor...      0\n",
       "48727  As crypto market enters new phase maturity inv...      0\n",
       "48728  Despite regulatory crackdowns heightened scrut...      1\n",
       "48729  In absence regulatory clarity investors left n...      0\n",
       "48730  The recent influx institutional capital crypto...      1\n",
       "\n",
       "[48731 rows x 2 columns]"
      ]
     },
     "execution_count": 4,
     "metadata": {},
     "output_type": "execute_result"
    }
   ],
   "source": [
    "train_df\n"
   ]
  },
  {
   "cell_type": "code",
   "execution_count": 5,
   "metadata": {},
   "outputs": [
    {
     "name": "stdout",
     "output_type": "stream",
     "text": [
      "Tamaño del conjunto de datos seleccionado: (48731, 2)\n"
     ]
    },
    {
     "data": {
      "image/png": "[encoded data removed]",
      "text/plain": [
       "<Figure size 640x480 with 1 Axes>"
      ]
     },
     "metadata": {},
     "output_type": "display_data"
    }
   ],
   "source": [
    "# Seleccionar un 10% aleatorio del conjunto de datos\n",
    "percent = 1\n",
    "train_df = train_df.sample(frac=percent, random_state=42)\n",
    "\n",
    "# Imprimir información sobre el tamaño del conjunto de datos seleccionado\n",
    "print(\"Tamaño del conjunto de datos seleccionado:\", train_df.shape)\n",
    "\n",
    "\n",
    "words = dict()\n",
    "\n",
    "def add_to_dict(d, filename):\n",
    "  with open(filename, 'r') as f:\n",
    "    for line in f.readlines():\n",
    "      line = line.split(' ')\n",
    "\n",
    "      try:\n",
    "        d[line[0]] = np.array(line[1:], dtype=float)\n",
    "      except:\n",
    "        continue\n",
    "    \n",
    "add_to_dict(words, '/home/developer/Documents/Master/TFM/Glove/glove.6B.50d.txt')\n",
    "\n",
    "\n",
    "tokenizer = nltk.RegexpTokenizer(r\"\\w+\")\n",
    "\n",
    "\n",
    "lemmatizer = WordNetLemmatizer()\n",
    "\n",
    "\n",
    "def message_to_token_list(s):\n",
    "  tokens = tokenizer.tokenize(s)\n",
    "  lowercased_tokens = [t.lower() for t in tokens]\n",
    "  lemmatized_tokens = [lemmatizer.lemmatize(t) for t in lowercased_tokens]\n",
    "  useful_tokens = [t for t in lemmatized_tokens if t in words]\n",
    "\n",
    "  return useful_tokens\n",
    "\n",
    "def message_to_word_vectors(message, word_dict=words):\n",
    "  processed_list_of_tokens = message_to_token_list(message)\n",
    "\n",
    "  vectors = []\n",
    "\n",
    "  for token in processed_list_of_tokens:\n",
    "    if token not in word_dict:\n",
    "      continue\n",
    "\n",
    "    token_vector = word_dict[token]\n",
    "    vectors.append(token_vector)\n",
    "\n",
    "  return np.array(vectors, dtype=float)\n",
    "\n",
    "train_df = train_df.sample(frac=1, random_state=1)\n",
    "train_df.reset_index(drop=True, inplace=True)\n",
    "\n",
    "split_index_1 = int(len(train_df) * 0.7)\n",
    "split_index_2 = int(len(train_df) * 0.85)\n",
    "\n",
    "train_df, val_df, test_df = train_df[:split_index_1], train_df[split_index_1:split_index_2], train_df[split_index_2:]\n",
    "\n",
    "def df_to_X_y(dff):\n",
    "    # Eliminar registros con valores NaN en la columna 'tweet'\n",
    "    dff = dff.dropna(subset=['tweet'])\n",
    "\n",
    "    y = dff['label'].to_numpy().astype(int)\n",
    "\n",
    "    all_word_vector_sequences = []\n",
    "\n",
    "    for message in dff['tweet']:\n",
    "        if isinstance(message, str):  # Comprobar si el mensaje es una cadena\n",
    "            message_as_vector_seq = message_to_word_vectors(message)\n",
    "\n",
    "            if message_as_vector_seq.shape[0] == 0:\n",
    "                message_as_vector_seq = np.zeros(shape=(1, 50))\n",
    "\n",
    "            all_word_vector_sequences.append(message_as_vector_seq)\n",
    "        else:\n",
    "            print(\"Mensaje no válido:\", message)\n",
    "            continue\n",
    "\n",
    "    # Asegurar que X y y tengan la misma longitud\n",
    "    min_length = min(len(all_word_vector_sequences), len(y))\n",
    "    all_word_vector_sequences = all_word_vector_sequences[:min_length]\n",
    "    y = y[:min_length]\n",
    "\n",
    "    return all_word_vector_sequences, y\n",
    "\n",
    "    \n",
    "\n",
    "def pad_X(X, desired_sequence_length=60):\n",
    "    X_copy = deepcopy(X)\n",
    "    padded_sequences = []\n",
    "\n",
    "    for x in X_copy:\n",
    "        x_seq_len = x.shape[0]\n",
    "        \n",
    "        if x_seq_len > desired_sequence_length:\n",
    "            # Recortar la secuencia si es más larga que la longitud deseada\n",
    "            padded_sequence = x[:desired_sequence_length]\n",
    "        else:\n",
    "            # Rellenar con ceros si la secuencia es más corta que la longitud deseada\n",
    "            sequence_length_difference = desired_sequence_length - x_seq_len\n",
    "            pad = np.zeros(shape=(sequence_length_difference, 50))\n",
    "            padded_sequence = np.concatenate([x, pad])\n",
    "\n",
    "        padded_sequences.append(padded_sequence)\n",
    "\n",
    "    return np.array(padded_sequences).astype(float)\n",
    "\n",
    "X_train, y_train = df_to_X_y(train_df)\n",
    "sequence_lengths = []\n",
    "\n",
    "for i in range(len(X_train)):\n",
    "  sequence_lengths.append(len(X_train[i]))\n",
    "\n",
    "import matplotlib.pyplot as plt\n",
    "\n",
    "plt.hist(sequence_lengths)\n",
    "pd.Series(sequence_lengths).describe()\n",
    "\n",
    "X_train = pad_X(X_train)\n",
    "\n",
    "\n",
    "X_val, y_val = df_to_X_y(val_df)\n",
    "X_val = pad_X(X_val)\n",
    "\n",
    "X_test, y_test = df_to_X_y(test_df)\n",
    "X_test = pad_X(X_test)"
   ]
  },
  {
   "cell_type": "markdown",
   "metadata": {},
   "source": [
    "# Modelos Redes neuronales"
   ]
  },
  {
   "cell_type": "code",
   "execution_count": 6,
   "metadata": {},
   "outputs": [
    {
     "name": "stderr",
     "output_type": "stream",
     "text": [
      "2024-03-31 10:53:04.568298: I tensorflow/core/platform/cpu_feature_guard.cc:193] This TensorFlow binary is optimized with oneAPI Deep Neural Network Library (oneDNN) to use the following CPU instructions in performance-critical operations:  AVX2 FMA\n",
      "To enable them in other operations, rebuild TensorFlow with the appropriate compiler flags.\n",
      "2024-03-31 10:53:06.133080: W tensorflow/compiler/xla/stream_executor/platform/default/dso_loader.cc:64] Could not load dynamic library 'libnvinfer.so.7'; dlerror: libnvinfer.so.7: cannot open shared object file: No such file or directory; LD_LIBRARY_PATH: :/home/developer/anaconda3/envs/tf/lib/\n",
      "2024-03-31 10:53:06.133311: W tensorflow/compiler/xla/stream_executor/platform/default/dso_loader.cc:64] Could not load dynamic library 'libnvinfer_plugin.so.7'; dlerror: libnvinfer_plugin.so.7: cannot open shared object file: No such file or directory; LD_LIBRARY_PATH: :/home/developer/anaconda3/envs/tf/lib/\n",
      "2024-03-31 10:53:06.133316: W tensorflow/compiler/tf2tensorrt/utils/py_utils.cc:38] TF-TRT Warning: Cannot dlopen some TensorRT libraries. If you would like to use Nvidia GPU with TensorRT, please make sure the missing libraries mentioned above are installed properly.\n"
     ]
    }
   ],
   "source": [
    "from tensorflow.keras import layers, Sequential\n",
    "from tensorflow.keras.losses import BinaryCrossentropy\n",
    "from tensorflow.keras.optimizers import Adam\n",
    "from tensorflow.keras.metrics import AUC\n",
    "from tensorflow.keras.callbacks import ModelCheckpoint\n",
    "import matplotlib.pyplot as plt\n",
    "from tensorflow.keras.models import load_model\n",
    "from sklearn.metrics import classification_report\n",
    "import tensorflow as tf\n",
    "\n"
   ]
  },
  {
   "cell_type": "markdown",
   "metadata": {},
   "source": [
    "## Perceptrón multicapa"
   ]
  },
  {
   "cell_type": "code",
   "execution_count": 10,
   "metadata": {},
   "outputs": [
    {
     "name": "stdout",
     "output_type": "stream",
     "text": [
      "Model: \"sequential\"\n",
      "_________________________________________________________________\n",
      " Layer (type)                Output Shape              Param #   \n",
      "=================================================================\n",
      " flatten (Flatten)           (None, 3000)              0         \n",
      "                                                                 \n",
      " dense (Dense)               (None, 128)               384128    \n",
      "                                                                 \n",
      " dropout (Dropout)           (None, 128)               0         \n",
      "                                                                 \n",
      " dense_1 (Dense)             (None, 64)                8256      \n",
      "                                                                 \n",
      " dropout_1 (Dropout)         (None, 64)                0         \n",
      "                                                                 \n",
      " dense_2 (Dense)             (None, 1)                 65        \n",
      "                                                                 \n",
      "=================================================================\n",
      "Total params: 392,449\n",
      "Trainable params: 392,449\n",
      "Non-trainable params: 0\n",
      "_________________________________________________________________\n"
     ]
    }
   ],
   "source": [
    "# Aplanando la entrada para ajustarla a un MLP\n",
    "model_mlp= Sequential()\n",
    "model_mlp.add(layers.Flatten(input_shape=(60, 50)))\n",
    "model_mlp.add(layers.Dense(128, activation='relu'))\n",
    "model_mlp.add(layers.Dropout(0.2))\n",
    "model_mlp.add(layers.Dense(64, activation='relu'))\n",
    "model_mlp.add(layers.Dropout(0.2))\n",
    "model_mlp.add(layers.Dense(1, activation='sigmoid'))\n",
    "\n",
    "\n",
    "cp = ModelCheckpoint('/home/developer/Documents/Master/TFM/models/model_mp/', save_best_only=True)\n",
    "\n",
    "model_mlp.compile(optimizer=Adam(learning_rate=0.0001),\n",
    "              loss=BinaryCrossentropy(),\n",
    "              metrics=['accuracy', AUC(name='auc')])\n",
    "model_mlp.summary()"
   ]
  },
  {
   "cell_type": "code",
   "execution_count": 11,
   "metadata": {},
   "outputs": [
    {
     "name": "stdout",
     "output_type": "stream",
     "text": [
      "Epoch 1/10\n",
      "2113/2132 [============================>.] - ETA: 0s - loss: 0.6031 - accuracy: 0.6610 - auc: 0.7287INFO:tensorflow:Assets written to: /home/developer/Documents/Master/TFM/models/model_mp/assets\n",
      "2132/2132 [==============================] - 8s 3ms/step - loss: 0.6030 - accuracy: 0.6610 - auc: 0.7285 - val_loss: 0.5372 - val_accuracy: 0.7190 - val_auc: 0.8030\n",
      "Epoch 2/10\n",
      "2131/2132 [============================>.] - ETA: 0s - loss: 0.5134 - accuracy: 0.7362 - auc: 0.8221INFO:tensorflow:Assets written to: /home/developer/Documents/Master/TFM/models/model_mp/assets\n",
      "2132/2132 [==============================] - 6s 3ms/step - loss: 0.5133 - accuracy: 0.7362 - auc: 0.8221 - val_loss: 0.5087 - val_accuracy: 0.7347 - val_auc: 0.8244\n",
      "Epoch 3/10\n",
      "2126/2132 [============================>.] - ETA: 0s - loss: 0.4662 - accuracy: 0.7721 - auc: 0.8598INFO:tensorflow:Assets written to: /home/developer/Documents/Master/TFM/models/model_mp/assets\n",
      "2132/2132 [==============================] - 7s 3ms/step - loss: 0.4662 - accuracy: 0.7722 - auc: 0.8598 - val_loss: 0.4976 - val_accuracy: 0.7425 - val_auc: 0.8344\n",
      "Epoch 4/10\n",
      "2125/2132 [============================>.] - ETA: 0s - loss: 0.4235 - accuracy: 0.8006 - auc: 0.8874INFO:tensorflow:Assets written to: /home/developer/Documents/Master/TFM/models/model_mp/assets\n",
      "2132/2132 [==============================] - 6s 3ms/step - loss: 0.4235 - accuracy: 0.8007 - auc: 0.8874 - val_loss: 0.4909 - val_accuracy: 0.7543 - val_auc: 0.8416\n",
      "Epoch 5/10\n",
      "2132/2132 [==============================] - 6s 3ms/step - loss: 0.3779 - accuracy: 0.8303 - auc: 0.9130 - val_loss: 0.4941 - val_accuracy: 0.7620 - val_auc: 0.8484\n",
      "Epoch 6/10\n",
      "2132/2132 [==============================] - 6s 3ms/step - loss: 0.3331 - accuracy: 0.8554 - auc: 0.9335 - val_loss: 0.5096 - val_accuracy: 0.7640 - val_auc: 0.8482\n",
      "Epoch 7/10\n",
      "2132/2132 [==============================] - 5s 3ms/step - loss: 0.2903 - accuracy: 0.8779 - auc: 0.9501 - val_loss: 0.5153 - val_accuracy: 0.7731 - val_auc: 0.8524\n",
      "Epoch 8/10\n",
      "2132/2132 [==============================] - 6s 3ms/step - loss: 0.2568 - accuracy: 0.8924 - auc: 0.9612 - val_loss: 0.5474 - val_accuracy: 0.7725 - val_auc: 0.8542\n",
      "Epoch 9/10\n",
      "2132/2132 [==============================] - 6s 3ms/step - loss: 0.2266 - accuracy: 0.9055 - auc: 0.9697 - val_loss: 0.5601 - val_accuracy: 0.7798 - val_auc: 0.8574\n",
      "Epoch 10/10\n",
      "2132/2132 [==============================] - 6s 3ms/step - loss: 0.1986 - accuracy: 0.9174 - auc: 0.9768 - val_loss: 0.5950 - val_accuracy: 0.7791 - val_auc: 0.8567\n"
     ]
    }
   ],
   "source": [
    "history = model_mlp.fit(X_train, y_train, validation_data=(X_val, y_val), epochs=10, batch_size=16, callbacks=[cp])"
   ]
  },
  {
   "cell_type": "code",
   "execution_count": 12,
   "metadata": {},
   "outputs": [
    {
     "data": {
      "image/png": "[encoded data removed]",
      "text/plain": [
       "<Figure size 1280x480 with 2 Axes>"
      ]
     },
     "metadata": {},
     "output_type": "display_data"
    }
   ],
   "source": [
    "# Plotting training and testing curves\n",
    "default_size = plt.rcParams['figure.figsize']\n",
    "fig = plt.figure(figsize=[default_size[0] * 2, default_size[1]])\n",
    "\n",
    "fig.add_subplot(1, 2, 1)\n",
    "plt.plot(history.history['accuracy'], label = 'accuracy')         \n",
    "plt.plot(history.history['val_accuracy'], label = 'val_accuracy')  \n",
    "plt.xlabel('Epoch')\n",
    "plt.ylabel('Accuracy')\n",
    "plt.title('Accuracy')\n",
    "plt.legend(loc='lower right')\n",
    "\n",
    "fig.add_subplot(1, 2, 2)\n",
    "plt.plot(history.history['loss'], label='loss')         \n",
    "plt.plot(history.history['val_loss'], label='val_loss')  \n",
    "plt.xlabel('Epoch')\n",
    "plt.ylabel('Loss')\n",
    "plt.title('Loss')\n",
    "plt.legend(loc='upper right')\n",
    "plt.show()"
   ]
  },
  {
   "cell_type": "markdown",
   "metadata": {},
   "source": [
    "## RRNN"
   ]
  },
  {
   "cell_type": "code",
   "execution_count": 12,
   "metadata": {},
   "outputs": [
    {
     "name": "stdout",
     "output_type": "stream",
     "text": [
      "Model: \"sequential_2\"\n",
      "_________________________________________________________________\n",
      " Layer (type)                Output Shape              Param #   \n",
      "=================================================================\n",
      " simple_rnn (SimpleRNN)      (None, 60, 64)            7360      \n",
      "                                                                 \n",
      " dropout_6 (Dropout)         (None, 60, 64)            0         \n",
      "                                                                 \n",
      " simple_rnn_1 (SimpleRNN)    (None, 60, 64)            8256      \n",
      "                                                                 \n",
      " dropout_7 (Dropout)         (None, 60, 64)            0         \n",
      "                                                                 \n",
      " simple_rnn_2 (SimpleRNN)    (None, 60, 64)            8256      \n",
      "                                                                 \n",
      " dropout_8 (Dropout)         (None, 60, 64)            0         \n",
      "                                                                 \n",
      " global_max_pooling1d_2 (Glo  (None, 64)               0         \n",
      " balMaxPooling1D)                                                \n",
      "                                                                 \n",
      " dense_2 (Dense)             (None, 1)                 65        \n",
      "                                                                 \n",
      "=================================================================\n",
      "Total params: 23,937\n",
      "Trainable params: 23,937\n",
      "Non-trainable params: 0\n",
      "_________________________________________________________________\n"
     ]
    }
   ],
   "source": [
    "model_rnn = Sequential()\n",
    "\n",
    "model_rnn.add(layers.SimpleRNN(64, return_sequences=True, input_shape=(60, 50)))\n",
    "model_rnn.add(layers.Dropout(0.2))\n",
    "model_rnn.add(layers.SimpleRNN(64, return_sequences=True))\n",
    "model_rnn.add(layers.Dropout(0.2))\n",
    "model_rnn.add(layers.SimpleRNN(64, return_sequences=True))\n",
    "model_rnn.add(layers.Dropout(0.2))\n",
    "model_rnn.add(layers.GlobalMaxPooling1D())\n",
    "model_rnn.add(layers.Dense(1, activation='sigmoid'))\n",
    "\n",
    "cp = ModelCheckpoint('/home/developer/Documents/Master/TFM/models/model_rnn/', save_best_only=True)\n",
    "\n",
    "model_rnn.compile(optimizer=Adam(learning_rate=0.0001),\n",
    "              loss=BinaryCrossentropy(),\n",
    "              metrics=['accuracy', AUC(name='auc')])\n",
    "model_rnn.summary()"
   ]
  },
  {
   "cell_type": "code",
   "execution_count": 13,
   "metadata": {},
   "outputs": [
    {
     "name": "stdout",
     "output_type": "stream",
     "text": [
      "Epoch 1/100\n",
      "1066/1066 [==============================] - ETA: 0s - loss: 0.6559 - accuracy: 0.5916 - auc: 0.6437INFO:tensorflow:Assets written to: /home/developer/Documents/Master/TFM/models/model_rnn/assets\n"
     ]
    },
    {
     "name": "stderr",
     "output_type": "stream",
     "text": [
      "INFO:tensorflow:Assets written to: /home/developer/Documents/Master/TFM/models/model_rnn/assets\n"
     ]
    },
    {
     "name": "stdout",
     "output_type": "stream",
     "text": [
      "1066/1066 [==============================] - 81s 73ms/step - loss: 0.6559 - accuracy: 0.5916 - auc: 0.6437 - val_loss: 0.6015 - val_accuracy: 0.6777 - val_auc: 0.7483\n",
      "Epoch 2/100\n",
      "1066/1066 [==============================] - ETA: 0s - loss: 0.5911 - accuracy: 0.6736 - auc: 0.7489INFO:tensorflow:Assets written to: /home/developer/Documents/Master/TFM/models/model_rnn/assets\n"
     ]
    },
    {
     "name": "stderr",
     "output_type": "stream",
     "text": [
      "INFO:tensorflow:Assets written to: /home/developer/Documents/Master/TFM/models/model_rnn/assets\n"
     ]
    },
    {
     "name": "stdout",
     "output_type": "stream",
     "text": [
      "1066/1066 [==============================] - 80s 75ms/step - loss: 0.5911 - accuracy: 0.6736 - auc: 0.7489 - val_loss: 0.5722 - val_accuracy: 0.6975 - val_auc: 0.7692\n",
      "Epoch 3/100\n",
      "1066/1066 [==============================] - 76s 71ms/step - loss: 0.5847 - accuracy: 0.6835 - auc: 0.7548 - val_loss: 0.5766 - val_accuracy: 0.6962 - val_auc: 0.7675\n",
      "Epoch 4/100\n",
      "1066/1066 [==============================] - ETA: 0s - loss: 0.5723 - accuracy: 0.6922 - auc: 0.7688INFO:tensorflow:Assets written to: /home/developer/Documents/Master/TFM/models/model_rnn/assets\n"
     ]
    },
    {
     "name": "stderr",
     "output_type": "stream",
     "text": [
      "INFO:tensorflow:Assets written to: /home/developer/Documents/Master/TFM/models/model_rnn/assets\n"
     ]
    },
    {
     "name": "stdout",
     "output_type": "stream",
     "text": [
      "1066/1066 [==============================] - 76s 71ms/step - loss: 0.5723 - accuracy: 0.6922 - auc: 0.7688 - val_loss: 0.5547 - val_accuracy: 0.7037 - val_auc: 0.7850\n",
      "Epoch 5/100\n",
      "1066/1066 [==============================] - 71s 67ms/step - loss: 0.5596 - accuracy: 0.6997 - auc: 0.7806 - val_loss: 0.5711 - val_accuracy: 0.6926 - val_auc: 0.7857\n",
      "Epoch 6/100\n",
      "1066/1066 [==============================] - ETA: 0s - loss: 0.5535 - accuracy: 0.7068 - auc: 0.7872INFO:tensorflow:Assets written to: /home/developer/Documents/Master/TFM/models/model_rnn/assets\n"
     ]
    },
    {
     "name": "stderr",
     "output_type": "stream",
     "text": [
      "INFO:tensorflow:Assets written to: /home/developer/Documents/Master/TFM/models/model_rnn/assets\n"
     ]
    },
    {
     "name": "stdout",
     "output_type": "stream",
     "text": [
      "1066/1066 [==============================] - 74s 69ms/step - loss: 0.5535 - accuracy: 0.7068 - auc: 0.7872 - val_loss: 0.5436 - val_accuracy: 0.7083 - val_auc: 0.7939\n",
      "Epoch 7/100\n",
      "1066/1066 [==============================] - 74s 69ms/step - loss: 0.5486 - accuracy: 0.7090 - auc: 0.7913 - val_loss: 0.5551 - val_accuracy: 0.7127 - val_auc: 0.7973\n",
      "Epoch 8/100\n",
      "1066/1066 [==============================] - ETA: 0s - loss: 0.5526 - accuracy: 0.7066 - auc: 0.7867INFO:tensorflow:Assets written to: /home/developer/Documents/Master/TFM/models/model_rnn/assets\n"
     ]
    },
    {
     "name": "stderr",
     "output_type": "stream",
     "text": [
      "INFO:tensorflow:Assets written to: /home/developer/Documents/Master/TFM/models/model_rnn/assets\n"
     ]
    },
    {
     "name": "stdout",
     "output_type": "stream",
     "text": [
      "1066/1066 [==============================] - 76s 72ms/step - loss: 0.5526 - accuracy: 0.7066 - auc: 0.7867 - val_loss: 0.5433 - val_accuracy: 0.7057 - val_auc: 0.7969\n",
      "Epoch 9/100\n",
      "1066/1066 [==============================] - 73s 68ms/step - loss: 0.5621 - accuracy: 0.6997 - auc: 0.7783 - val_loss: 0.5488 - val_accuracy: 0.7149 - val_auc: 0.7945\n",
      "Epoch 10/100\n",
      "1066/1066 [==============================] - ETA: 0s - loss: 0.5509 - accuracy: 0.7123 - auc: 0.7905INFO:tensorflow:Assets written to: /home/developer/Documents/Master/TFM/models/model_rnn/assets\n"
     ]
    },
    {
     "name": "stderr",
     "output_type": "stream",
     "text": [
      "INFO:tensorflow:Assets written to: /home/developer/Documents/Master/TFM/models/model_rnn/assets\n"
     ]
    },
    {
     "name": "stdout",
     "output_type": "stream",
     "text": [
      "1066/1066 [==============================] - 78s 73ms/step - loss: 0.5509 - accuracy: 0.7123 - auc: 0.7905 - val_loss: 0.5399 - val_accuracy: 0.7135 - val_auc: 0.8041\n",
      "Epoch 11/100\n",
      "1066/1066 [==============================] - ETA: 0s - loss: 0.5408 - accuracy: 0.7141 - auc: 0.7986INFO:tensorflow:Assets written to: /home/developer/Documents/Master/TFM/models/model_rnn/assets\n"
     ]
    },
    {
     "name": "stderr",
     "output_type": "stream",
     "text": [
      "INFO:tensorflow:Assets written to: /home/developer/Documents/Master/TFM/models/model_rnn/assets\n"
     ]
    },
    {
     "name": "stdout",
     "output_type": "stream",
     "text": [
      "1066/1066 [==============================] - 76s 71ms/step - loss: 0.5408 - accuracy: 0.7141 - auc: 0.7986 - val_loss: 0.5395 - val_accuracy: 0.7083 - val_auc: 0.8022\n",
      "Epoch 12/100\n",
      "1066/1066 [==============================] - ETA: 0s - loss: 0.5336 - accuracy: 0.7189 - auc: 0.8039INFO:tensorflow:Assets written to: /home/developer/Documents/Master/TFM/models/model_rnn/assets\n"
     ]
    },
    {
     "name": "stderr",
     "output_type": "stream",
     "text": [
      "INFO:tensorflow:Assets written to: /home/developer/Documents/Master/TFM/models/model_rnn/assets\n"
     ]
    },
    {
     "name": "stdout",
     "output_type": "stream",
     "text": [
      "1066/1066 [==============================] - 76s 71ms/step - loss: 0.5336 - accuracy: 0.7189 - auc: 0.8039 - val_loss: 0.5281 - val_accuracy: 0.7211 - val_auc: 0.8106\n",
      "Epoch 13/100\n",
      "1066/1066 [==============================] - ETA: 0s - loss: 0.5411 - accuracy: 0.7141 - auc: 0.7967INFO:tensorflow:Assets written to: /home/developer/Documents/Master/TFM/models/model_rnn/assets\n"
     ]
    },
    {
     "name": "stderr",
     "output_type": "stream",
     "text": [
      "INFO:tensorflow:Assets written to: /home/developer/Documents/Master/TFM/models/model_rnn/assets\n"
     ]
    },
    {
     "name": "stdout",
     "output_type": "stream",
     "text": [
      "1066/1066 [==============================] - 79s 74ms/step - loss: 0.5411 - accuracy: 0.7141 - auc: 0.7967 - val_loss: 0.5281 - val_accuracy: 0.7259 - val_auc: 0.8126\n",
      "Epoch 14/100\n",
      "1066/1066 [==============================] - 73s 69ms/step - loss: 0.5432 - accuracy: 0.7194 - auc: 0.7975 - val_loss: 0.5414 - val_accuracy: 0.7183 - val_auc: 0.8037\n",
      "Epoch 15/100\n",
      "1066/1066 [==============================] - ETA: 0s - loss: 0.5398 - accuracy: 0.7199 - auc: 0.8002INFO:tensorflow:Assets written to: /home/developer/Documents/Master/TFM/models/model_rnn/assets\n"
     ]
    },
    {
     "name": "stderr",
     "output_type": "stream",
     "text": [
      "INFO:tensorflow:Assets written to: /home/developer/Documents/Master/TFM/models/model_rnn/assets\n"
     ]
    },
    {
     "name": "stdout",
     "output_type": "stream",
     "text": [
      "1066/1066 [==============================] - 73s 68ms/step - loss: 0.5398 - accuracy: 0.7199 - auc: 0.8002 - val_loss: 0.5280 - val_accuracy: 0.7295 - val_auc: 0.8137\n",
      "Epoch 16/100\n",
      "1066/1066 [==============================] - 72s 68ms/step - loss: 0.5283 - accuracy: 0.7231 - auc: 0.8085 - val_loss: 0.5312 - val_accuracy: 0.7228 - val_auc: 0.8183\n",
      "Epoch 17/100\n",
      "1066/1066 [==============================] - 73s 69ms/step - loss: 0.5189 - accuracy: 0.7270 - auc: 0.8156 - val_loss: 0.5415 - val_accuracy: 0.7096 - val_auc: 0.8157\n",
      "Epoch 18/100\n",
      "1065/1066 [============================>.] - ETA: 0s - loss: 0.5274 - accuracy: 0.7240 - auc: 0.8094INFO:tensorflow:Assets written to: /home/developer/Documents/Master/TFM/models/model_rnn/assets\n"
     ]
    },
    {
     "name": "stderr",
     "output_type": "stream",
     "text": [
      "INFO:tensorflow:Assets written to: /home/developer/Documents/Master/TFM/models/model_rnn/assets\n"
     ]
    },
    {
     "name": "stdout",
     "output_type": "stream",
     "text": [
      "1066/1066 [==============================] - 77s 72ms/step - loss: 0.5275 - accuracy: 0.7240 - auc: 0.8094 - val_loss: 0.5166 - val_accuracy: 0.7342 - val_auc: 0.8207\n",
      "Epoch 19/100\n",
      "1066/1066 [==============================] - 73s 69ms/step - loss: 0.5221 - accuracy: 0.7286 - auc: 0.8134 - val_loss: 0.5207 - val_accuracy: 0.7253 - val_auc: 0.8146\n",
      "Epoch 20/100\n",
      "1066/1066 [==============================] - 73s 68ms/step - loss: 0.5210 - accuracy: 0.7261 - auc: 0.8138 - val_loss: 0.5222 - val_accuracy: 0.7215 - val_auc: 0.8156\n",
      "Epoch 21/100\n",
      "1066/1066 [==============================] - 73s 68ms/step - loss: 0.5233 - accuracy: 0.7276 - auc: 0.8139 - val_loss: 0.5187 - val_accuracy: 0.7364 - val_auc: 0.8220\n",
      "Epoch 22/100\n",
      "1066/1066 [==============================] - 71s 67ms/step - loss: 0.5284 - accuracy: 0.7234 - auc: 0.8091 - val_loss: 0.5205 - val_accuracy: 0.7327 - val_auc: 0.8190\n",
      "Epoch 23/100\n",
      "1066/1066 [==============================] - 73s 69ms/step - loss: 0.5278 - accuracy: 0.7207 - auc: 0.8077 - val_loss: 0.5321 - val_accuracy: 0.7193 - val_auc: 0.8152\n",
      "Epoch 24/100\n",
      "1066/1066 [==============================] - 71s 66ms/step - loss: 0.5190 - accuracy: 0.7294 - auc: 0.8162 - val_loss: 0.5227 - val_accuracy: 0.7311 - val_auc: 0.8216\n",
      "Epoch 25/100\n",
      "1066/1066 [==============================] - 72s 67ms/step - loss: 0.5249 - accuracy: 0.7245 - auc: 0.8108 - val_loss: 0.5393 - val_accuracy: 0.7179 - val_auc: 0.8025\n",
      "Epoch 26/100\n",
      "1066/1066 [==============================] - ETA: 0s - loss: 0.5233 - accuracy: 0.7258 - auc: 0.8129INFO:tensorflow:Assets written to: /home/developer/Documents/Master/TFM/models/model_rnn/assets\n"
     ]
    },
    {
     "name": "stderr",
     "output_type": "stream",
     "text": [
      "INFO:tensorflow:Assets written to: /home/developer/Documents/Master/TFM/models/model_rnn/assets\n"
     ]
    },
    {
     "name": "stdout",
     "output_type": "stream",
     "text": [
      "1066/1066 [==============================] - 77s 73ms/step - loss: 0.5233 - accuracy: 0.7258 - auc: 0.8129 - val_loss: 0.5088 - val_accuracy: 0.7406 - val_auc: 0.8276\n",
      "Epoch 27/100\n",
      "1066/1066 [==============================] - ETA: 0s - loss: 0.5111 - accuracy: 0.7337 - auc: 0.8226INFO:tensorflow:Assets written to: /home/developer/Documents/Master/TFM/models/model_rnn/assets\n"
     ]
    },
    {
     "name": "stderr",
     "output_type": "stream",
     "text": [
      "INFO:tensorflow:Assets written to: /home/developer/Documents/Master/TFM/models/model_rnn/assets\n"
     ]
    },
    {
     "name": "stdout",
     "output_type": "stream",
     "text": [
      "1066/1066 [==============================] - 75s 71ms/step - loss: 0.5111 - accuracy: 0.7337 - auc: 0.8226 - val_loss: 0.5065 - val_accuracy: 0.7409 - val_auc: 0.8303\n",
      "Epoch 28/100\n",
      "1066/1066 [==============================] - 74s 69ms/step - loss: 0.5360 - accuracy: 0.7177 - auc: 0.8015 - val_loss: 0.5701 - val_accuracy: 0.7007 - val_auc: 0.7825\n",
      "Epoch 29/100\n",
      "1066/1066 [==============================] - 72s 68ms/step - loss: 0.5485 - accuracy: 0.7140 - auc: 0.7949 - val_loss: 0.5249 - val_accuracy: 0.7345 - val_auc: 0.8193\n",
      "Epoch 30/100\n",
      "1066/1066 [==============================] - 71s 67ms/step - loss: 0.5298 - accuracy: 0.7222 - auc: 0.8099 - val_loss: 0.5161 - val_accuracy: 0.7383 - val_auc: 0.8238\n",
      "Epoch 31/100\n",
      "1066/1066 [==============================] - 71s 67ms/step - loss: 0.5142 - accuracy: 0.7339 - auc: 0.8221 - val_loss: 0.5128 - val_accuracy: 0.7365 - val_auc: 0.8268\n",
      "Epoch 32/100\n",
      "1066/1066 [==============================] - 71s 67ms/step - loss: 0.5114 - accuracy: 0.7362 - auc: 0.8236 - val_loss: 0.5089 - val_accuracy: 0.7427 - val_auc: 0.8326\n",
      "Epoch 33/100\n",
      "1066/1066 [==============================] - ETA: 0s - loss: 0.5037 - accuracy: 0.7388 - auc: 0.8284INFO:tensorflow:Assets written to: /home/developer/Documents/Master/TFM/models/model_rnn/assets\n"
     ]
    },
    {
     "name": "stderr",
     "output_type": "stream",
     "text": [
      "INFO:tensorflow:Assets written to: /home/developer/Documents/Master/TFM/models/model_rnn/assets\n"
     ]
    },
    {
     "name": "stdout",
     "output_type": "stream",
     "text": [
      "1066/1066 [==============================] - 77s 72ms/step - loss: 0.5037 - accuracy: 0.7388 - auc: 0.8284 - val_loss: 0.4998 - val_accuracy: 0.7468 - val_auc: 0.8354\n",
      "Epoch 34/100\n",
      "1066/1066 [==============================] - 70s 65ms/step - loss: 0.5070 - accuracy: 0.7375 - auc: 0.8263 - val_loss: 0.5204 - val_accuracy: 0.7257 - val_auc: 0.8197\n",
      "Epoch 35/100\n",
      "1066/1066 [==============================] - 72s 68ms/step - loss: 0.5224 - accuracy: 0.7276 - auc: 0.8139 - val_loss: 0.5158 - val_accuracy: 0.7309 - val_auc: 0.8257\n",
      "Epoch 36/100\n",
      "1066/1066 [==============================] - ETA: 0s - loss: 0.5068 - accuracy: 0.7349 - auc: 0.8255INFO:tensorflow:Assets written to: /home/developer/Documents/Master/TFM/models/model_rnn/assets\n"
     ]
    },
    {
     "name": "stderr",
     "output_type": "stream",
     "text": [
      "INFO:tensorflow:Assets written to: /home/developer/Documents/Master/TFM/models/model_rnn/assets\n"
     ]
    },
    {
     "name": "stdout",
     "output_type": "stream",
     "text": [
      "1066/1066 [==============================] - 76s 71ms/step - loss: 0.5068 - accuracy: 0.7349 - auc: 0.8255 - val_loss: 0.4941 - val_accuracy: 0.7454 - val_auc: 0.8367\n",
      "Epoch 37/100\n",
      "1066/1066 [==============================] - 71s 66ms/step - loss: 0.4961 - accuracy: 0.7452 - auc: 0.8346 - val_loss: 0.4988 - val_accuracy: 0.7494 - val_auc: 0.8373\n",
      "Epoch 38/100\n",
      "1066/1066 [==============================] - ETA: 0s - loss: 0.4947 - accuracy: 0.7443 - auc: 0.8353INFO:tensorflow:Assets written to: /home/developer/Documents/Master/TFM/models/model_rnn/assets\n"
     ]
    },
    {
     "name": "stderr",
     "output_type": "stream",
     "text": [
      "INFO:tensorflow:Assets written to: /home/developer/Documents/Master/TFM/models/model_rnn/assets\n"
     ]
    },
    {
     "name": "stdout",
     "output_type": "stream",
     "text": [
      "1066/1066 [==============================] - 76s 72ms/step - loss: 0.4947 - accuracy: 0.7443 - auc: 0.8353 - val_loss: 0.4929 - val_accuracy: 0.7495 - val_auc: 0.8400\n",
      "Epoch 39/100\n",
      "1066/1066 [==============================] - 72s 68ms/step - loss: 0.4980 - accuracy: 0.7445 - auc: 0.8332 - val_loss: 0.4929 - val_accuracy: 0.7466 - val_auc: 0.8389\n",
      "Epoch 40/100\n",
      "1066/1066 [==============================] - ETA: 0s - loss: 0.4963 - accuracy: 0.7430 - auc: 0.8337INFO:tensorflow:Assets written to: /home/developer/Documents/Master/TFM/models/model_rnn/assets\n"
     ]
    },
    {
     "name": "stderr",
     "output_type": "stream",
     "text": [
      "INFO:tensorflow:Assets written to: /home/developer/Documents/Master/TFM/models/model_rnn/assets\n"
     ]
    },
    {
     "name": "stdout",
     "output_type": "stream",
     "text": [
      "1066/1066 [==============================] - 74s 69ms/step - loss: 0.4963 - accuracy: 0.7430 - auc: 0.8337 - val_loss: 0.4917 - val_accuracy: 0.7518 - val_auc: 0.8405\n",
      "Epoch 41/100\n",
      "1066/1066 [==============================] - 72s 68ms/step - loss: 0.4985 - accuracy: 0.7438 - auc: 0.8327 - val_loss: 0.4931 - val_accuracy: 0.7499 - val_auc: 0.8394\n",
      "Epoch 42/100\n",
      "1066/1066 [==============================] - 72s 68ms/step - loss: 0.4977 - accuracy: 0.7406 - auc: 0.8330 - val_loss: 0.4964 - val_accuracy: 0.7461 - val_auc: 0.8380\n",
      "Epoch 43/100\n",
      "1066/1066 [==============================] - ETA: 0s - loss: 0.4991 - accuracy: 0.7408 - auc: 0.8320INFO:tensorflow:Assets written to: /home/developer/Documents/Master/TFM/models/model_rnn/assets\n"
     ]
    },
    {
     "name": "stderr",
     "output_type": "stream",
     "text": [
      "INFO:tensorflow:Assets written to: /home/developer/Documents/Master/TFM/models/model_rnn/assets\n"
     ]
    },
    {
     "name": "stdout",
     "output_type": "stream",
     "text": [
      "1066/1066 [==============================] - 78s 73ms/step - loss: 0.4991 - accuracy: 0.7408 - auc: 0.8320 - val_loss: 0.4903 - val_accuracy: 0.7483 - val_auc: 0.8403\n",
      "Epoch 44/100\n",
      "1066/1066 [==============================] - 71s 67ms/step - loss: 0.4993 - accuracy: 0.7418 - auc: 0.8312 - val_loss: 0.5018 - val_accuracy: 0.7464 - val_auc: 0.8361\n",
      "Epoch 45/100\n",
      "1066/1066 [==============================] - ETA: 0s - loss: 0.4903 - accuracy: 0.7477 - auc: 0.8384INFO:tensorflow:Assets written to: /home/developer/Documents/Master/TFM/models/model_rnn/assets\n"
     ]
    },
    {
     "name": "stderr",
     "output_type": "stream",
     "text": [
      "INFO:tensorflow:Assets written to: /home/developer/Documents/Master/TFM/models/model_rnn/assets\n"
     ]
    },
    {
     "name": "stdout",
     "output_type": "stream",
     "text": [
      "1066/1066 [==============================] - 73s 69ms/step - loss: 0.4903 - accuracy: 0.7477 - auc: 0.8384 - val_loss: 0.4899 - val_accuracy: 0.7549 - val_auc: 0.8424\n",
      "Epoch 46/100\n",
      "1066/1066 [==============================] - ETA: 0s - loss: 0.4921 - accuracy: 0.7453 - auc: 0.8368INFO:tensorflow:Assets written to: /home/developer/Documents/Master/TFM/models/model_rnn/assets\n"
     ]
    },
    {
     "name": "stderr",
     "output_type": "stream",
     "text": [
      "INFO:tensorflow:Assets written to: /home/developer/Documents/Master/TFM/models/model_rnn/assets\n"
     ]
    },
    {
     "name": "stdout",
     "output_type": "stream",
     "text": [
      "1066/1066 [==============================] - 74s 69ms/step - loss: 0.4921 - accuracy: 0.7453 - auc: 0.8368 - val_loss: 0.4864 - val_accuracy: 0.7525 - val_auc: 0.8448\n",
      "Epoch 47/100\n",
      "1066/1066 [==============================] - 72s 67ms/step - loss: 0.4915 - accuracy: 0.7443 - auc: 0.8370 - val_loss: 0.4957 - val_accuracy: 0.7449 - val_auc: 0.8446\n",
      "Epoch 48/100\n",
      "1066/1066 [==============================] - 81s 76ms/step - loss: 0.4918 - accuracy: 0.7458 - auc: 0.8369 - val_loss: 0.5007 - val_accuracy: 0.7454 - val_auc: 0.8336\n",
      "Epoch 49/100\n",
      "1066/1066 [==============================] - 70s 65ms/step - loss: 0.5018 - accuracy: 0.7414 - auc: 0.8300 - val_loss: 0.4871 - val_accuracy: 0.7501 - val_auc: 0.8445\n",
      "Epoch 50/100\n",
      "1066/1066 [==============================] - 72s 67ms/step - loss: 0.4898 - accuracy: 0.7485 - auc: 0.8394 - val_loss: 0.4925 - val_accuracy: 0.7431 - val_auc: 0.8437\n",
      "Epoch 51/100\n",
      "1066/1066 [==============================] - ETA: 0s - loss: 0.4842 - accuracy: 0.7505 - auc: 0.8425INFO:tensorflow:Assets written to: /home/developer/Documents/Master/TFM/models/model_rnn/assets\n"
     ]
    },
    {
     "name": "stderr",
     "output_type": "stream",
     "text": [
      "INFO:tensorflow:Assets written to: /home/developer/Documents/Master/TFM/models/model_rnn/assets\n"
     ]
    },
    {
     "name": "stdout",
     "output_type": "stream",
     "text": [
      "1066/1066 [==============================] - 77s 73ms/step - loss: 0.4842 - accuracy: 0.7505 - auc: 0.8425 - val_loss: 0.4799 - val_accuracy: 0.7588 - val_auc: 0.8481\n",
      "Epoch 52/100\n",
      "1066/1066 [==============================] - ETA: 0s - loss: 0.4813 - accuracy: 0.7525 - auc: 0.8444INFO:tensorflow:Assets written to: /home/developer/Documents/Master/TFM/models/model_rnn/assets\n"
     ]
    },
    {
     "name": "stderr",
     "output_type": "stream",
     "text": [
      "INFO:tensorflow:Assets written to: /home/developer/Documents/Master/TFM/models/model_rnn/assets\n"
     ]
    },
    {
     "name": "stdout",
     "output_type": "stream",
     "text": [
      "1066/1066 [==============================] - 74s 69ms/step - loss: 0.4813 - accuracy: 0.7525 - auc: 0.8444 - val_loss: 0.4776 - val_accuracy: 0.7569 - val_auc: 0.8496\n",
      "Epoch 53/100\n",
      "1066/1066 [==============================] - 72s 68ms/step - loss: 0.4816 - accuracy: 0.7493 - auc: 0.8440 - val_loss: 0.4793 - val_accuracy: 0.7591 - val_auc: 0.8495\n",
      "Epoch 54/100\n",
      "1066/1066 [==============================] - 73s 69ms/step - loss: 0.4816 - accuracy: 0.7512 - auc: 0.8444 - val_loss: 0.5035 - val_accuracy: 0.7399 - val_auc: 0.8362\n",
      "Epoch 55/100\n",
      "1066/1066 [==============================] - 71s 67ms/step - loss: 0.4869 - accuracy: 0.7505 - auc: 0.8410 - val_loss: 0.4799 - val_accuracy: 0.7605 - val_auc: 0.8495\n",
      "Epoch 56/100\n",
      "1066/1066 [==============================] - ETA: 0s - loss: 0.4783 - accuracy: 0.7535 - auc: 0.8473INFO:tensorflow:Assets written to: /home/developer/Documents/Master/TFM/models/model_rnn/assets\n"
     ]
    },
    {
     "name": "stderr",
     "output_type": "stream",
     "text": [
      "INFO:tensorflow:Assets written to: /home/developer/Documents/Master/TFM/models/model_rnn/assets\n"
     ]
    },
    {
     "name": "stdout",
     "output_type": "stream",
     "text": [
      "1066/1066 [==============================] - 74s 69ms/step - loss: 0.4783 - accuracy: 0.7535 - auc: 0.8473 - val_loss: 0.4741 - val_accuracy: 0.7598 - val_auc: 0.8528\n",
      "Epoch 57/100\n",
      "1066/1066 [==============================] - 71s 66ms/step - loss: 0.4829 - accuracy: 0.7492 - auc: 0.8428 - val_loss: 0.4835 - val_accuracy: 0.7480 - val_auc: 0.8472\n",
      "Epoch 58/100\n",
      "1066/1066 [==============================] - 72s 67ms/step - loss: 0.4744 - accuracy: 0.7544 - auc: 0.8493 - val_loss: 0.4748 - val_accuracy: 0.7547 - val_auc: 0.8514\n",
      "Epoch 59/100\n",
      "1066/1066 [==============================] - 73s 68ms/step - loss: 0.4764 - accuracy: 0.7549 - auc: 0.8480 - val_loss: 0.4749 - val_accuracy: 0.7606 - val_auc: 0.8521\n",
      "Epoch 60/100\n",
      "1066/1066 [==============================] - ETA: 0s - loss: 0.4685 - accuracy: 0.7584 - auc: 0.8536INFO:tensorflow:Assets written to: /home/developer/Documents/Master/TFM/models/model_rnn/assets\n"
     ]
    },
    {
     "name": "stderr",
     "output_type": "stream",
     "text": [
      "INFO:tensorflow:Assets written to: /home/developer/Documents/Master/TFM/models/model_rnn/assets\n"
     ]
    },
    {
     "name": "stdout",
     "output_type": "stream",
     "text": [
      "1066/1066 [==============================] - 77s 72ms/step - loss: 0.4685 - accuracy: 0.7584 - auc: 0.8536 - val_loss: 0.4732 - val_accuracy: 0.7620 - val_auc: 0.8544\n",
      "Epoch 61/100\n",
      "1066/1066 [==============================] - 71s 66ms/step - loss: 0.4696 - accuracy: 0.7571 - auc: 0.8527 - val_loss: 0.4821 - val_accuracy: 0.7555 - val_auc: 0.8517\n",
      "Epoch 62/100\n",
      "1066/1066 [==============================] - 71s 66ms/step - loss: 0.4750 - accuracy: 0.7559 - auc: 0.8491 - val_loss: 0.4892 - val_accuracy: 0.7583 - val_auc: 0.8501\n",
      "Epoch 63/100\n",
      "1066/1066 [==============================] - 72s 68ms/step - loss: 0.4690 - accuracy: 0.7604 - auc: 0.8536 - val_loss: 0.4735 - val_accuracy: 0.7647 - val_auc: 0.8558\n",
      "Epoch 64/100\n",
      "1066/1066 [==============================] - ETA: 0s - loss: 0.4792 - accuracy: 0.7536 - auc: 0.8464INFO:tensorflow:Assets written to: /home/developer/Documents/Master/TFM/models/model_rnn/assets\n"
     ]
    },
    {
     "name": "stderr",
     "output_type": "stream",
     "text": [
      "INFO:tensorflow:Assets written to: /home/developer/Documents/Master/TFM/models/model_rnn/assets\n"
     ]
    },
    {
     "name": "stdout",
     "output_type": "stream",
     "text": [
      "1066/1066 [==============================] - 79s 74ms/step - loss: 0.4792 - accuracy: 0.7536 - auc: 0.8464 - val_loss: 0.4726 - val_accuracy: 0.7627 - val_auc: 0.8543\n",
      "Epoch 65/100\n",
      "1066/1066 [==============================] - ETA: 0s - loss: 0.4722 - accuracy: 0.7572 - auc: 0.8509INFO:tensorflow:Assets written to: /home/developer/Documents/Master/TFM/models/model_rnn/assets\n"
     ]
    },
    {
     "name": "stderr",
     "output_type": "stream",
     "text": [
      "INFO:tensorflow:Assets written to: /home/developer/Documents/Master/TFM/models/model_rnn/assets\n"
     ]
    },
    {
     "name": "stdout",
     "output_type": "stream",
     "text": [
      "1066/1066 [==============================] - 73s 68ms/step - loss: 0.4722 - accuracy: 0.7572 - auc: 0.8509 - val_loss: 0.4658 - val_accuracy: 0.7665 - val_auc: 0.8580\n",
      "Epoch 66/100\n",
      "1066/1066 [==============================] - 71s 67ms/step - loss: 0.4773 - accuracy: 0.7547 - auc: 0.8479 - val_loss: 0.4960 - val_accuracy: 0.7431 - val_auc: 0.8387\n",
      "Epoch 67/100\n",
      "1066/1066 [==============================] - 73s 68ms/step - loss: 0.4888 - accuracy: 0.7504 - auc: 0.8412 - val_loss: 0.4742 - val_accuracy: 0.7639 - val_auc: 0.8527\n",
      "Epoch 68/100\n",
      "1066/1066 [==============================] - 70s 66ms/step - loss: 0.4725 - accuracy: 0.7562 - auc: 0.8519 - val_loss: 0.4700 - val_accuracy: 0.7617 - val_auc: 0.8546\n",
      "Epoch 69/100\n",
      "1066/1066 [==============================] - 75s 71ms/step - loss: 0.4872 - accuracy: 0.7505 - auc: 0.8423 - val_loss: 0.4782 - val_accuracy: 0.7622 - val_auc: 0.8505\n",
      "Epoch 70/100\n",
      "1066/1066 [==============================] - 71s 66ms/step - loss: 0.4786 - accuracy: 0.7549 - auc: 0.8480 - val_loss: 0.4711 - val_accuracy: 0.7643 - val_auc: 0.8548\n",
      "Epoch 71/100\n",
      "1066/1066 [==============================] - 71s 66ms/step - loss: 0.4724 - accuracy: 0.7595 - auc: 0.8524 - val_loss: 0.4690 - val_accuracy: 0.7657 - val_auc: 0.8565\n",
      "Epoch 72/100\n",
      "1066/1066 [==============================] - ETA: 0s - loss: 0.4651 - accuracy: 0.7654 - auc: 0.8573INFO:tensorflow:Assets written to: /home/developer/Documents/Master/TFM/models/model_rnn/assets\n"
     ]
    },
    {
     "name": "stderr",
     "output_type": "stream",
     "text": [
      "INFO:tensorflow:Assets written to: /home/developer/Documents/Master/TFM/models/model_rnn/assets\n"
     ]
    },
    {
     "name": "stdout",
     "output_type": "stream",
     "text": [
      "1066/1066 [==============================] - 76s 72ms/step - loss: 0.4651 - accuracy: 0.7654 - auc: 0.8573 - val_loss: 0.4652 - val_accuracy: 0.7672 - val_auc: 0.8591\n",
      "Epoch 73/100\n",
      "1066/1066 [==============================] - ETA: 0s - loss: 0.4627 - accuracy: 0.7654 - auc: 0.8588INFO:tensorflow:Assets written to: /home/developer/Documents/Master/TFM/models/model_rnn/assets\n"
     ]
    },
    {
     "name": "stderr",
     "output_type": "stream",
     "text": [
      "INFO:tensorflow:Assets written to: /home/developer/Documents/Master/TFM/models/model_rnn/assets\n"
     ]
    },
    {
     "name": "stdout",
     "output_type": "stream",
     "text": [
      "1066/1066 [==============================] - 77s 72ms/step - loss: 0.4627 - accuracy: 0.7654 - auc: 0.8588 - val_loss: 0.4646 - val_accuracy: 0.7672 - val_auc: 0.8592\n",
      "Epoch 74/100\n",
      "1066/1066 [==============================] - ETA: 0s - loss: 0.4657 - accuracy: 0.7635 - auc: 0.8566INFO:tensorflow:Assets written to: /home/developer/Documents/Master/TFM/models/model_rnn/assets\n"
     ]
    },
    {
     "name": "stderr",
     "output_type": "stream",
     "text": [
      "INFO:tensorflow:Assets written to: /home/developer/Documents/Master/TFM/models/model_rnn/assets\n"
     ]
    },
    {
     "name": "stdout",
     "output_type": "stream",
     "text": [
      "1066/1066 [==============================] - 78s 73ms/step - loss: 0.4657 - accuracy: 0.7635 - auc: 0.8566 - val_loss: 0.4606 - val_accuracy: 0.7677 - val_auc: 0.8612\n",
      "Epoch 75/100\n",
      "1066/1066 [==============================] - 72s 67ms/step - loss: 0.4749 - accuracy: 0.7581 - auc: 0.8512 - val_loss: 0.4684 - val_accuracy: 0.7632 - val_auc: 0.8573\n",
      "Epoch 76/100\n",
      "1066/1066 [==============================] - 71s 67ms/step - loss: 0.4646 - accuracy: 0.7648 - auc: 0.8583 - val_loss: 0.4656 - val_accuracy: 0.7657 - val_auc: 0.8593\n",
      "Epoch 77/100\n",
      "1066/1066 [==============================] - 71s 67ms/step - loss: 0.4593 - accuracy: 0.7685 - auc: 0.8617 - val_loss: 0.4627 - val_accuracy: 0.7657 - val_auc: 0.8610\n",
      "Epoch 78/100\n",
      "1066/1066 [==============================] - 71s 67ms/step - loss: 0.4577 - accuracy: 0.7666 - auc: 0.8622 - val_loss: 0.4611 - val_accuracy: 0.7674 - val_auc: 0.8617\n",
      "Epoch 79/100\n",
      "1066/1066 [==============================] - 100s 93ms/step - loss: 0.4534 - accuracy: 0.7705 - auc: 0.8647 - val_loss: 0.4633 - val_accuracy: 0.7684 - val_auc: 0.8629\n",
      "Epoch 80/100\n",
      "1066/1066 [==============================] - ETA: 0s - loss: 0.4547 - accuracy: 0.7704 - auc: 0.8639INFO:tensorflow:Assets written to: /home/developer/Documents/Master/TFM/models/model_rnn/assets\n"
     ]
    },
    {
     "name": "stderr",
     "output_type": "stream",
     "text": [
      "INFO:tensorflow:Assets written to: /home/developer/Documents/Master/TFM/models/model_rnn/assets\n"
     ]
    },
    {
     "name": "stdout",
     "output_type": "stream",
     "text": [
      "1066/1066 [==============================] - 77s 72ms/step - loss: 0.4547 - accuracy: 0.7704 - auc: 0.8639 - val_loss: 0.4568 - val_accuracy: 0.7689 - val_auc: 0.8646\n",
      "Epoch 81/100\n",
      "1066/1066 [==============================] - ETA: 0s - loss: 0.4530 - accuracy: 0.7690 - auc: 0.8647INFO:tensorflow:Assets written to: /home/developer/Documents/Master/TFM/models/model_rnn/assets\n"
     ]
    },
    {
     "name": "stderr",
     "output_type": "stream",
     "text": [
      "INFO:tensorflow:Assets written to: /home/developer/Documents/Master/TFM/models/model_rnn/assets\n"
     ]
    },
    {
     "name": "stdout",
     "output_type": "stream",
     "text": [
      "1066/1066 [==============================] - 74s 69ms/step - loss: 0.4530 - accuracy: 0.7690 - auc: 0.8647 - val_loss: 0.4563 - val_accuracy: 0.7709 - val_auc: 0.8652\n",
      "Epoch 82/100\n",
      "1066/1066 [==============================] - 72s 67ms/step - loss: 0.4681 - accuracy: 0.7613 - auc: 0.8545 - val_loss: 0.4663 - val_accuracy: 0.7625 - val_auc: 0.8588\n",
      "Epoch 83/100\n",
      "1066/1066 [==============================] - 72s 68ms/step - loss: 0.4652 - accuracy: 0.7637 - auc: 0.8561 - val_loss: 0.4715 - val_accuracy: 0.7631 - val_auc: 0.8585\n",
      "Epoch 84/100\n",
      "1066/1066 [==============================] - 74s 70ms/step - loss: 0.4596 - accuracy: 0.7666 - auc: 0.8606 - val_loss: 0.4652 - val_accuracy: 0.7673 - val_auc: 0.8632\n",
      "Epoch 85/100\n",
      "1066/1066 [==============================] - 72s 67ms/step - loss: 0.4636 - accuracy: 0.7632 - auc: 0.8580 - val_loss: 0.4630 - val_accuracy: 0.7688 - val_auc: 0.8637\n",
      "Epoch 86/100\n",
      "1066/1066 [==============================] - 71s 66ms/step - loss: 0.4480 - accuracy: 0.7729 - auc: 0.8680 - val_loss: 0.4567 - val_accuracy: 0.7643 - val_auc: 0.8621\n",
      "Epoch 87/100\n",
      "1066/1066 [==============================] - 73s 68ms/step - loss: 0.4476 - accuracy: 0.7716 - auc: 0.8680 - val_loss: 0.4566 - val_accuracy: 0.7684 - val_auc: 0.8669\n",
      "Epoch 88/100\n",
      "1066/1066 [==============================] - 72s 68ms/step - loss: 0.4472 - accuracy: 0.7708 - auc: 0.8678 - val_loss: 0.4568 - val_accuracy: 0.7725 - val_auc: 0.8685\n",
      "Epoch 89/100\n",
      "1066/1066 [==============================] - 73s 68ms/step - loss: 0.4440 - accuracy: 0.7742 - auc: 0.8703 - val_loss: 0.4594 - val_accuracy: 0.7669 - val_auc: 0.8650\n",
      "Epoch 90/100\n",
      "1066/1066 [==============================] - ETA: 0s - loss: 0.4425 - accuracy: 0.7783 - auc: 0.8719INFO:tensorflow:Assets written to: /home/developer/Documents/Master/TFM/models/model_rnn/assets\n"
     ]
    },
    {
     "name": "stderr",
     "output_type": "stream",
     "text": [
      "INFO:tensorflow:Assets written to: /home/developer/Documents/Master/TFM/models/model_rnn/assets\n"
     ]
    },
    {
     "name": "stdout",
     "output_type": "stream",
     "text": [
      "1066/1066 [==============================] - 75s 70ms/step - loss: 0.4425 - accuracy: 0.7783 - auc: 0.8719 - val_loss: 0.4493 - val_accuracy: 0.7736 - val_auc: 0.8695\n",
      "Epoch 91/100\n",
      "1066/1066 [==============================] - ETA: 0s - loss: 0.4450 - accuracy: 0.7747 - auc: 0.8697INFO:tensorflow:Assets written to: /home/developer/Documents/Master/TFM/models/model_rnn/assets\n"
     ]
    },
    {
     "name": "stderr",
     "output_type": "stream",
     "text": [
      "INFO:tensorflow:Assets written to: /home/developer/Documents/Master/TFM/models/model_rnn/assets\n"
     ]
    },
    {
     "name": "stdout",
     "output_type": "stream",
     "text": [
      "1066/1066 [==============================] - 72s 68ms/step - loss: 0.4450 - accuracy: 0.7747 - auc: 0.8697 - val_loss: 0.4477 - val_accuracy: 0.7756 - val_auc: 0.8698\n",
      "Epoch 92/100\n",
      "1066/1066 [==============================] - 70s 66ms/step - loss: 0.4447 - accuracy: 0.7771 - auc: 0.8705 - val_loss: 0.4679 - val_accuracy: 0.7613 - val_auc: 0.8617\n",
      "Epoch 93/100\n",
      "1066/1066 [==============================] - 70s 66ms/step - loss: 0.4452 - accuracy: 0.7740 - auc: 0.8696 - val_loss: 0.4515 - val_accuracy: 0.7747 - val_auc: 0.8687\n",
      "Epoch 94/100\n",
      "1066/1066 [==============================] - ETA: 0s - loss: 0.4337 - accuracy: 0.7815 - auc: 0.8774INFO:tensorflow:Assets written to: /home/developer/Documents/Master/TFM/models/model_rnn/assets\n"
     ]
    },
    {
     "name": "stderr",
     "output_type": "stream",
     "text": [
      "INFO:tensorflow:Assets written to: /home/developer/Documents/Master/TFM/models/model_rnn/assets\n"
     ]
    },
    {
     "name": "stdout",
     "output_type": "stream",
     "text": [
      "1066/1066 [==============================] - 79s 74ms/step - loss: 0.4337 - accuracy: 0.7815 - auc: 0.8774 - val_loss: 0.4434 - val_accuracy: 0.7762 - val_auc: 0.8718\n",
      "Epoch 95/100\n",
      "1066/1066 [==============================] - 69s 65ms/step - loss: 0.4356 - accuracy: 0.7811 - auc: 0.8761 - val_loss: 0.4485 - val_accuracy: 0.7791 - val_auc: 0.8730\n",
      "Epoch 96/100\n",
      "1066/1066 [==============================] - 71s 67ms/step - loss: 0.4523 - accuracy: 0.7698 - auc: 0.8650 - val_loss: 0.4453 - val_accuracy: 0.7748 - val_auc: 0.8722\n",
      "Epoch 97/100\n",
      "1066/1066 [==============================] - 71s 67ms/step - loss: 0.4349 - accuracy: 0.7780 - auc: 0.8759 - val_loss: 0.4449 - val_accuracy: 0.7758 - val_auc: 0.8714\n",
      "Epoch 98/100\n",
      "1066/1066 [==============================] - 71s 67ms/step - loss: 0.4427 - accuracy: 0.7765 - auc: 0.8714 - val_loss: 0.4485 - val_accuracy: 0.7752 - val_auc: 0.8708\n",
      "Epoch 99/100\n",
      "1066/1066 [==============================] - ETA: 0s - loss: 0.4360 - accuracy: 0.7790 - auc: 0.8757INFO:tensorflow:Assets written to: /home/developer/Documents/Master/TFM/models/model_rnn/assets\n"
     ]
    },
    {
     "name": "stderr",
     "output_type": "stream",
     "text": [
      "INFO:tensorflow:Assets written to: /home/developer/Documents/Master/TFM/models/model_rnn/assets\n"
     ]
    },
    {
     "name": "stdout",
     "output_type": "stream",
     "text": [
      "1066/1066 [==============================] - 86s 80ms/step - loss: 0.4360 - accuracy: 0.7790 - auc: 0.8757 - val_loss: 0.4401 - val_accuracy: 0.7829 - val_auc: 0.8755\n",
      "Epoch 100/100\n",
      "1066/1066 [==============================] - ETA: 0s - loss: 0.4329 - accuracy: 0.7817 - auc: 0.8774INFO:tensorflow:Assets written to: /home/developer/Documents/Master/TFM/models/model_rnn/assets\n"
     ]
    },
    {
     "name": "stderr",
     "output_type": "stream",
     "text": [
      "INFO:tensorflow:Assets written to: /home/developer/Documents/Master/TFM/models/model_rnn/assets\n"
     ]
    },
    {
     "name": "stdout",
     "output_type": "stream",
     "text": [
      "1066/1066 [==============================] - 75s 70ms/step - loss: 0.4329 - accuracy: 0.7817 - auc: 0.8774 - val_loss: 0.4386 - val_accuracy: 0.7802 - val_auc: 0.8758\n"
     ]
    }
   ],
   "source": [
    "history = model_rnn.fit(X_train, y_train, validation_data=(X_val, y_val), epochs=100, batch_size=32, callbacks=[cp])"
   ]
  },
  {
   "cell_type": "code",
   "execution_count": 15,
   "metadata": {},
   "outputs": [
    {
     "data": {
      "image/png": "[encoded data removed]",
      "text/plain": [
       "<Figure size 1280x480 with 2 Axes>"
      ]
     },
     "metadata": {},
     "output_type": "display_data"
    }
   ],
   "source": [
    "# Plotting training and testing curves\n",
    "default_size = plt.rcParams['figure.figsize']\n",
    "fig = plt.figure(figsize=[default_size[0] * 2, default_size[1]])\n",
    "\n",
    "fig.add_subplot(1, 2, 1)\n",
    "plt.plot(history.history['accuracy'], label = 'accuracy')         \n",
    "plt.plot(history.history['val_accuracy'], label = 'val_accuracy')  \n",
    "plt.xlabel('Epoch')\n",
    "plt.ylabel('Accuracy')\n",
    "plt.title('Accuracy')\n",
    "plt.legend(loc='lower right')\n",
    "\n",
    "fig.add_subplot(1, 2, 2)\n",
    "plt.plot(history.history['loss'], label='loss')         \n",
    "plt.plot(history.history['val_loss'], label='val_loss')  \n",
    "plt.xlabel('Epoch')\n",
    "plt.ylabel('Loss')\n",
    "plt.title('Loss')\n",
    "plt.legend(loc='upper right')\n",
    "plt.show()"
   ]
  },
  {
   "cell_type": "markdown",
   "metadata": {},
   "source": [
    "## GRU"
   ]
  },
  {
   "cell_type": "code",
   "execution_count": 7,
   "metadata": {},
   "outputs": [
    {
     "name": "stdout",
     "output_type": "stream",
     "text": [
      "Model: \"sequential\"\n",
      "_________________________________________________________________\n",
      " Layer (type)                Output Shape              Param #   \n",
      "=================================================================\n",
      " gru (GRU)                   (None, 60, 64)            22272     \n",
      "                                                                 \n",
      " dropout (Dropout)           (None, 60, 64)            0         \n",
      "                                                                 \n",
      " gru_1 (GRU)                 (None, 60, 64)            24960     \n",
      "                                                                 \n",
      " dropout_1 (Dropout)         (None, 60, 64)            0         \n",
      "                                                                 \n",
      " gru_2 (GRU)                 (None, 60, 64)            24960     \n",
      "                                                                 \n",
      " dropout_2 (Dropout)         (None, 60, 64)            0         \n",
      "                                                                 \n",
      " global_max_pooling1d (Globa  (None, 64)               0         \n",
      " lMaxPooling1D)                                                  \n",
      "                                                                 \n",
      " dense (Dense)               (None, 1)                 65        \n",
      "                                                                 \n",
      "=================================================================\n",
      "Total params: 72,257\n",
      "Trainable params: 72,257\n",
      "Non-trainable params: 0\n",
      "_________________________________________________________________\n"
     ]
    }
   ],
   "source": [
    "model_gru = Sequential()\n",
    "\n",
    "model_gru.add(layers.GRU(64, return_sequences=True, input_shape=(60, 50)))\n",
    "model_gru.add(layers.Dropout(0.2))\n",
    "model_gru.add(layers.GRU(64, return_sequences=True))\n",
    "model_gru.add(layers.Dropout(0.2))\n",
    "model_gru.add(layers.GRU(64, return_sequences=True))\n",
    "model_gru.add(layers.Dropout(0.2))\n",
    "model_gru.add(layers.GlobalMaxPooling1D())\n",
    "model_gru.add(layers.Dense(1, activation='sigmoid'))\n",
    "\n",
    "cp = ModelCheckpoint('/home/developer/Documents/Master/TFM/models/model_gru/', save_best_only=True)\n",
    "\n",
    "model_gru.compile(optimizer=Adam(learning_rate=0.0001),\n",
    "              loss=BinaryCrossentropy(),\n",
    "              metrics=['accuracy', AUC(name='auc')])\n",
    "model_gru.summary()"
   ]
  },
  {
   "cell_type": "code",
   "execution_count": 8,
   "metadata": {},
   "outputs": [
    {
     "name": "stderr",
     "output_type": "stream",
     "text": [
      "2024-03-29 16:47:17.644124: W tensorflow/tsl/framework/cpu_allocator_impl.cc:82] Allocation of 409332000 exceeds 10% of free system memory.\n",
      "2024-03-29 16:47:17.942796: W tensorflow/tsl/framework/cpu_allocator_impl.cc:82] Allocation of 409332000 exceeds 10% of free system memory.\n"
     ]
    },
    {
     "name": "stdout",
     "output_type": "stream",
     "text": [
      "Epoch 1/100\n",
      "1064/1066 [============================>.] - ETA: 0s - loss: 0.6125 - accuracy: 0.6610 - auc: 0.7237"
     ]
    },
    {
     "name": "stderr",
     "output_type": "stream",
     "text": [
      "2024-03-29 16:47:32.834831: W tensorflow/tsl/framework/cpu_allocator_impl.cc:82] Allocation of 87720000 exceeds 10% of free system memory.\n",
      "2024-03-29 16:47:32.925023: W tensorflow/tsl/framework/cpu_allocator_impl.cc:82] Allocation of 87720000 exceeds 10% of free system memory.\n",
      "WARNING:absl:Found untraced functions such as gru_cell_layer_call_fn, gru_cell_layer_call_and_return_conditional_losses, gru_cell_1_layer_call_fn, gru_cell_1_layer_call_and_return_conditional_losses, gru_cell_2_layer_call_fn while saving (showing 5 of 6). These functions will not be directly callable after loading.\n"
     ]
    },
    {
     "name": "stdout",
     "output_type": "stream",
     "text": [
      "INFO:tensorflow:Assets written to: /home/developer/Documents/Master/TFM/models/model_gru/assets\n"
     ]
    },
    {
     "name": "stderr",
     "output_type": "stream",
     "text": [
      "INFO:tensorflow:Assets written to: /home/developer/Documents/Master/TFM/models/model_gru/assets\n"
     ]
    },
    {
     "name": "stdout",
     "output_type": "stream",
     "text": [
      "1066/1066 [==============================] - 22s 16ms/step - loss: 0.6124 - accuracy: 0.6612 - auc: 0.7239 - val_loss: 0.5626 - val_accuracy: 0.7100 - val_auc: 0.7913\n",
      "Epoch 2/100\n",
      "1066/1066 [==============================] - ETA: 0s - loss: 0.5439 - accuracy: 0.7188 - auc: 0.7974"
     ]
    },
    {
     "name": "stderr",
     "output_type": "stream",
     "text": [
      "WARNING:absl:Found untraced functions such as gru_cell_layer_call_fn, gru_cell_layer_call_and_return_conditional_losses, gru_cell_1_layer_call_fn, gru_cell_1_layer_call_and_return_conditional_losses, gru_cell_2_layer_call_fn while saving (showing 5 of 6). These functions will not be directly callable after loading.\n"
     ]
    },
    {
     "name": "stdout",
     "output_type": "stream",
     "text": [
      "INFO:tensorflow:Assets written to: /home/developer/Documents/Master/TFM/models/model_gru/assets\n"
     ]
    },
    {
     "name": "stderr",
     "output_type": "stream",
     "text": [
      "INFO:tensorflow:Assets written to: /home/developer/Documents/Master/TFM/models/model_gru/assets\n"
     ]
    },
    {
     "name": "stdout",
     "output_type": "stream",
     "text": [
      "1066/1066 [==============================] - 16s 15ms/step - loss: 0.5439 - accuracy: 0.7188 - auc: 0.7974 - val_loss: 0.5479 - val_accuracy: 0.7257 - val_auc: 0.8100\n",
      "Epoch 3/100\n",
      "1063/1066 [============================>.] - ETA: 0s - loss: 0.5236 - accuracy: 0.7322 - auc: 0.8151"
     ]
    },
    {
     "name": "stderr",
     "output_type": "stream",
     "text": [
      "WARNING:absl:Found untraced functions such as gru_cell_layer_call_fn, gru_cell_layer_call_and_return_conditional_losses, gru_cell_1_layer_call_fn, gru_cell_1_layer_call_and_return_conditional_losses, gru_cell_2_layer_call_fn while saving (showing 5 of 6). These functions will not be directly callable after loading.\n"
     ]
    },
    {
     "name": "stdout",
     "output_type": "stream",
     "text": [
      "INFO:tensorflow:Assets written to: /home/developer/Documents/Master/TFM/models/model_gru/assets\n"
     ]
    },
    {
     "name": "stderr",
     "output_type": "stream",
     "text": [
      "INFO:tensorflow:Assets written to: /home/developer/Documents/Master/TFM/models/model_gru/assets\n"
     ]
    },
    {
     "name": "stdout",
     "output_type": "stream",
     "text": [
      "1066/1066 [==============================] - 15s 14ms/step - loss: 0.5235 - accuracy: 0.7323 - auc: 0.8152 - val_loss: 0.5193 - val_accuracy: 0.7397 - val_auc: 0.8256\n",
      "Epoch 4/100\n",
      "1063/1066 [============================>.] - ETA: 0s - loss: 0.5057 - accuracy: 0.7423 - auc: 0.8291"
     ]
    },
    {
     "name": "stderr",
     "output_type": "stream",
     "text": [
      "WARNING:absl:Found untraced functions such as gru_cell_layer_call_fn, gru_cell_layer_call_and_return_conditional_losses, gru_cell_1_layer_call_fn, gru_cell_1_layer_call_and_return_conditional_losses, gru_cell_2_layer_call_fn while saving (showing 5 of 6). These functions will not be directly callable after loading.\n"
     ]
    },
    {
     "name": "stdout",
     "output_type": "stream",
     "text": [
      "INFO:tensorflow:Assets written to: /home/developer/Documents/Master/TFM/models/model_gru/assets\n"
     ]
    },
    {
     "name": "stderr",
     "output_type": "stream",
     "text": [
      "INFO:tensorflow:Assets written to: /home/developer/Documents/Master/TFM/models/model_gru/assets\n"
     ]
    },
    {
     "name": "stdout",
     "output_type": "stream",
     "text": [
      "1066/1066 [==============================] - 16s 15ms/step - loss: 0.5055 - accuracy: 0.7425 - auc: 0.8292 - val_loss: 0.4996 - val_accuracy: 0.7523 - val_auc: 0.8375\n",
      "Epoch 5/100\n",
      "1065/1066 [============================>.] - ETA: 0s - loss: 0.4895 - accuracy: 0.7499 - auc: 0.8408"
     ]
    },
    {
     "name": "stderr",
     "output_type": "stream",
     "text": [
      "WARNING:absl:Found untraced functions such as gru_cell_layer_call_fn, gru_cell_layer_call_and_return_conditional_losses, gru_cell_1_layer_call_fn, gru_cell_1_layer_call_and_return_conditional_losses, gru_cell_2_layer_call_fn while saving (showing 5 of 6). These functions will not be directly callable after loading.\n"
     ]
    },
    {
     "name": "stdout",
     "output_type": "stream",
     "text": [
      "INFO:tensorflow:Assets written to: /home/developer/Documents/Master/TFM/models/model_gru/assets\n"
     ]
    },
    {
     "name": "stderr",
     "output_type": "stream",
     "text": [
      "INFO:tensorflow:Assets written to: /home/developer/Documents/Master/TFM/models/model_gru/assets\n"
     ]
    },
    {
     "name": "stdout",
     "output_type": "stream",
     "text": [
      "1066/1066 [==============================] - 15s 14ms/step - loss: 0.4894 - accuracy: 0.7500 - auc: 0.8409 - val_loss: 0.4881 - val_accuracy: 0.7573 - val_auc: 0.8458\n",
      "Epoch 6/100\n",
      "1066/1066 [==============================] - ETA: 0s - loss: 0.4779 - accuracy: 0.7570 - auc: 0.8491"
     ]
    },
    {
     "name": "stderr",
     "output_type": "stream",
     "text": [
      "WARNING:absl:Found untraced functions such as gru_cell_layer_call_fn, gru_cell_layer_call_and_return_conditional_losses, gru_cell_1_layer_call_fn, gru_cell_1_layer_call_and_return_conditional_losses, gru_cell_2_layer_call_fn while saving (showing 5 of 6). These functions will not be directly callable after loading.\n"
     ]
    },
    {
     "name": "stdout",
     "output_type": "stream",
     "text": [
      "INFO:tensorflow:Assets written to: /home/developer/Documents/Master/TFM/models/model_gru/assets\n"
     ]
    },
    {
     "name": "stderr",
     "output_type": "stream",
     "text": [
      "INFO:tensorflow:Assets written to: /home/developer/Documents/Master/TFM/models/model_gru/assets\n"
     ]
    },
    {
     "name": "stdout",
     "output_type": "stream",
     "text": [
      "1066/1066 [==============================] - 16s 15ms/step - loss: 0.4779 - accuracy: 0.7570 - auc: 0.8491 - val_loss: 0.4791 - val_accuracy: 0.7636 - val_auc: 0.8532\n",
      "Epoch 7/100\n",
      "1063/1066 [============================>.] - ETA: 0s - loss: 0.4670 - accuracy: 0.7632 - auc: 0.8565"
     ]
    },
    {
     "name": "stderr",
     "output_type": "stream",
     "text": [
      "WARNING:absl:Found untraced functions such as gru_cell_layer_call_fn, gru_cell_layer_call_and_return_conditional_losses, gru_cell_1_layer_call_fn, gru_cell_1_layer_call_and_return_conditional_losses, gru_cell_2_layer_call_fn while saving (showing 5 of 6). These functions will not be directly callable after loading.\n"
     ]
    },
    {
     "name": "stdout",
     "output_type": "stream",
     "text": [
      "INFO:tensorflow:Assets written to: /home/developer/Documents/Master/TFM/models/model_gru/assets\n"
     ]
    },
    {
     "name": "stderr",
     "output_type": "stream",
     "text": [
      "INFO:tensorflow:Assets written to: /home/developer/Documents/Master/TFM/models/model_gru/assets\n"
     ]
    },
    {
     "name": "stdout",
     "output_type": "stream",
     "text": [
      "1066/1066 [==============================] - 15s 14ms/step - loss: 0.4667 - accuracy: 0.7633 - auc: 0.8567 - val_loss: 0.4683 - val_accuracy: 0.7665 - val_auc: 0.8589\n",
      "Epoch 8/100\n",
      "1063/1066 [============================>.] - ETA: 0s - loss: 0.4593 - accuracy: 0.7692 - auc: 0.8617"
     ]
    },
    {
     "name": "stderr",
     "output_type": "stream",
     "text": [
      "WARNING:absl:Found untraced functions such as gru_cell_layer_call_fn, gru_cell_layer_call_and_return_conditional_losses, gru_cell_1_layer_call_fn, gru_cell_1_layer_call_and_return_conditional_losses, gru_cell_2_layer_call_fn while saving (showing 5 of 6). These functions will not be directly callable after loading.\n"
     ]
    },
    {
     "name": "stdout",
     "output_type": "stream",
     "text": [
      "INFO:tensorflow:Assets written to: /home/developer/Documents/Master/TFM/models/model_gru/assets\n"
     ]
    },
    {
     "name": "stderr",
     "output_type": "stream",
     "text": [
      "INFO:tensorflow:Assets written to: /home/developer/Documents/Master/TFM/models/model_gru/assets\n"
     ]
    },
    {
     "name": "stdout",
     "output_type": "stream",
     "text": [
      "1066/1066 [==============================] - 16s 15ms/step - loss: 0.4591 - accuracy: 0.7693 - auc: 0.8618 - val_loss: 0.4660 - val_accuracy: 0.7670 - val_auc: 0.8626\n",
      "Epoch 9/100\n",
      "1063/1066 [============================>.] - ETA: 0s - loss: 0.4502 - accuracy: 0.7740 - auc: 0.8674"
     ]
    },
    {
     "name": "stderr",
     "output_type": "stream",
     "text": [
      "WARNING:absl:Found untraced functions such as gru_cell_layer_call_fn, gru_cell_layer_call_and_return_conditional_losses, gru_cell_1_layer_call_fn, gru_cell_1_layer_call_and_return_conditional_losses, gru_cell_2_layer_call_fn while saving (showing 5 of 6). These functions will not be directly callable after loading.\n"
     ]
    },
    {
     "name": "stdout",
     "output_type": "stream",
     "text": [
      "INFO:tensorflow:Assets written to: /home/developer/Documents/Master/TFM/models/model_gru/assets\n"
     ]
    },
    {
     "name": "stderr",
     "output_type": "stream",
     "text": [
      "INFO:tensorflow:Assets written to: /home/developer/Documents/Master/TFM/models/model_gru/assets\n"
     ]
    },
    {
     "name": "stdout",
     "output_type": "stream",
     "text": [
      "1066/1066 [==============================] - 16s 15ms/step - loss: 0.4503 - accuracy: 0.7738 - auc: 0.8673 - val_loss: 0.4544 - val_accuracy: 0.7741 - val_auc: 0.8670\n",
      "Epoch 10/100\n",
      "1066/1066 [==============================] - 10s 9ms/step - loss: 0.4434 - accuracy: 0.7750 - auc: 0.8714 - val_loss: 0.4552 - val_accuracy: 0.7711 - val_auc: 0.8684\n",
      "Epoch 11/100\n",
      "1064/1066 [============================>.] - ETA: 0s - loss: 0.4371 - accuracy: 0.7785 - auc: 0.8753"
     ]
    },
    {
     "name": "stderr",
     "output_type": "stream",
     "text": [
      "WARNING:absl:Found untraced functions such as gru_cell_layer_call_fn, gru_cell_layer_call_and_return_conditional_losses, gru_cell_1_layer_call_fn, gru_cell_1_layer_call_and_return_conditional_losses, gru_cell_2_layer_call_fn while saving (showing 5 of 6). These functions will not be directly callable after loading.\n"
     ]
    },
    {
     "name": "stdout",
     "output_type": "stream",
     "text": [
      "INFO:tensorflow:Assets written to: /home/developer/Documents/Master/TFM/models/model_gru/assets\n"
     ]
    },
    {
     "name": "stderr",
     "output_type": "stream",
     "text": [
      "INFO:tensorflow:Assets written to: /home/developer/Documents/Master/TFM/models/model_gru/assets\n"
     ]
    },
    {
     "name": "stdout",
     "output_type": "stream",
     "text": [
      "1066/1066 [==============================] - 15s 14ms/step - loss: 0.4374 - accuracy: 0.7784 - auc: 0.8751 - val_loss: 0.4488 - val_accuracy: 0.7711 - val_auc: 0.8709\n",
      "Epoch 12/100\n",
      "1062/1066 [============================>.] - ETA: 0s - loss: 0.4330 - accuracy: 0.7841 - auc: 0.8781"
     ]
    },
    {
     "name": "stderr",
     "output_type": "stream",
     "text": [
      "WARNING:absl:Found untraced functions such as gru_cell_layer_call_fn, gru_cell_layer_call_and_return_conditional_losses, gru_cell_1_layer_call_fn, gru_cell_1_layer_call_and_return_conditional_losses, gru_cell_2_layer_call_fn while saving (showing 5 of 6). These functions will not be directly callable after loading.\n"
     ]
    },
    {
     "name": "stdout",
     "output_type": "stream",
     "text": [
      "INFO:tensorflow:Assets written to: /home/developer/Documents/Master/TFM/models/model_gru/assets\n"
     ]
    },
    {
     "name": "stderr",
     "output_type": "stream",
     "text": [
      "INFO:tensorflow:Assets written to: /home/developer/Documents/Master/TFM/models/model_gru/assets\n"
     ]
    },
    {
     "name": "stdout",
     "output_type": "stream",
     "text": [
      "1066/1066 [==============================] - 18s 17ms/step - loss: 0.4328 - accuracy: 0.7844 - auc: 0.8783 - val_loss: 0.4449 - val_accuracy: 0.7803 - val_auc: 0.8733\n",
      "Epoch 13/100\n",
      "1062/1066 [============================>.] - ETA: 0s - loss: 0.4265 - accuracy: 0.7852 - auc: 0.8815"
     ]
    },
    {
     "name": "stderr",
     "output_type": "stream",
     "text": [
      "WARNING:absl:Found untraced functions such as gru_cell_layer_call_fn, gru_cell_layer_call_and_return_conditional_losses, gru_cell_1_layer_call_fn, gru_cell_1_layer_call_and_return_conditional_losses, gru_cell_2_layer_call_fn while saving (showing 5 of 6). These functions will not be directly callable after loading.\n"
     ]
    },
    {
     "name": "stdout",
     "output_type": "stream",
     "text": [
      "INFO:tensorflow:Assets written to: /home/developer/Documents/Master/TFM/models/model_gru/assets\n"
     ]
    },
    {
     "name": "stderr",
     "output_type": "stream",
     "text": [
      "INFO:tensorflow:Assets written to: /home/developer/Documents/Master/TFM/models/model_gru/assets\n"
     ]
    },
    {
     "name": "stdout",
     "output_type": "stream",
     "text": [
      "1066/1066 [==============================] - 19s 17ms/step - loss: 0.4268 - accuracy: 0.7850 - auc: 0.8814 - val_loss: 0.4404 - val_accuracy: 0.7796 - val_auc: 0.8767\n",
      "Epoch 14/100\n",
      "1060/1066 [============================>.] - ETA: 0s - loss: 0.4218 - accuracy: 0.7862 - auc: 0.8838"
     ]
    },
    {
     "name": "stderr",
     "output_type": "stream",
     "text": [
      "WARNING:absl:Found untraced functions such as gru_cell_layer_call_fn, gru_cell_layer_call_and_return_conditional_losses, gru_cell_1_layer_call_fn, gru_cell_1_layer_call_and_return_conditional_losses, gru_cell_2_layer_call_fn while saving (showing 5 of 6). These functions will not be directly callable after loading.\n"
     ]
    },
    {
     "name": "stdout",
     "output_type": "stream",
     "text": [
      "INFO:tensorflow:Assets written to: /home/developer/Documents/Master/TFM/models/model_gru/assets\n"
     ]
    },
    {
     "name": "stderr",
     "output_type": "stream",
     "text": [
      "INFO:tensorflow:Assets written to: /home/developer/Documents/Master/TFM/models/model_gru/assets\n"
     ]
    },
    {
     "name": "stdout",
     "output_type": "stream",
     "text": [
      "1066/1066 [==============================] - 17s 16ms/step - loss: 0.4216 - accuracy: 0.7862 - auc: 0.8839 - val_loss: 0.4367 - val_accuracy: 0.7828 - val_auc: 0.8784\n",
      "Epoch 15/100\n",
      "1061/1066 [============================>.] - ETA: 0s - loss: 0.4170 - accuracy: 0.7887 - auc: 0.8868"
     ]
    },
    {
     "name": "stderr",
     "output_type": "stream",
     "text": [
      "WARNING:absl:Found untraced functions such as gru_cell_layer_call_fn, gru_cell_layer_call_and_return_conditional_losses, gru_cell_1_layer_call_fn, gru_cell_1_layer_call_and_return_conditional_losses, gru_cell_2_layer_call_fn while saving (showing 5 of 6). These functions will not be directly callable after loading.\n"
     ]
    },
    {
     "name": "stdout",
     "output_type": "stream",
     "text": [
      "INFO:tensorflow:Assets written to: /home/developer/Documents/Master/TFM/models/model_gru/assets\n"
     ]
    },
    {
     "name": "stderr",
     "output_type": "stream",
     "text": [
      "INFO:tensorflow:Assets written to: /home/developer/Documents/Master/TFM/models/model_gru/assets\n"
     ]
    },
    {
     "name": "stdout",
     "output_type": "stream",
     "text": [
      "1066/1066 [==============================] - 15s 14ms/step - loss: 0.4171 - accuracy: 0.7886 - auc: 0.8867 - val_loss: 0.4305 - val_accuracy: 0.7882 - val_auc: 0.8815\n",
      "Epoch 16/100\n",
      "1066/1066 [==============================] - ETA: 0s - loss: 0.4132 - accuracy: 0.7897 - auc: 0.8886"
     ]
    },
    {
     "name": "stderr",
     "output_type": "stream",
     "text": [
      "WARNING:absl:Found untraced functions such as gru_cell_layer_call_fn, gru_cell_layer_call_and_return_conditional_losses, gru_cell_1_layer_call_fn, gru_cell_1_layer_call_and_return_conditional_losses, gru_cell_2_layer_call_fn while saving (showing 5 of 6). These functions will not be directly callable after loading.\n"
     ]
    },
    {
     "name": "stdout",
     "output_type": "stream",
     "text": [
      "INFO:tensorflow:Assets written to: /home/developer/Documents/Master/TFM/models/model_gru/assets\n"
     ]
    },
    {
     "name": "stderr",
     "output_type": "stream",
     "text": [
      "INFO:tensorflow:Assets written to: /home/developer/Documents/Master/TFM/models/model_gru/assets\n"
     ]
    },
    {
     "name": "stdout",
     "output_type": "stream",
     "text": [
      "1066/1066 [==============================] - 16s 15ms/step - loss: 0.4132 - accuracy: 0.7897 - auc: 0.8886 - val_loss: 0.4292 - val_accuracy: 0.7900 - val_auc: 0.8835\n",
      "Epoch 17/100\n",
      "1063/1066 [============================>.] - ETA: 0s - loss: 0.4068 - accuracy: 0.7954 - auc: 0.8925"
     ]
    },
    {
     "name": "stderr",
     "output_type": "stream",
     "text": [
      "WARNING:absl:Found untraced functions such as gru_cell_layer_call_fn, gru_cell_layer_call_and_return_conditional_losses, gru_cell_1_layer_call_fn, gru_cell_1_layer_call_and_return_conditional_losses, gru_cell_2_layer_call_fn while saving (showing 5 of 6). These functions will not be directly callable after loading.\n"
     ]
    },
    {
     "name": "stdout",
     "output_type": "stream",
     "text": [
      "INFO:tensorflow:Assets written to: /home/developer/Documents/Master/TFM/models/model_gru/assets\n"
     ]
    },
    {
     "name": "stderr",
     "output_type": "stream",
     "text": [
      "INFO:tensorflow:Assets written to: /home/developer/Documents/Master/TFM/models/model_gru/assets\n"
     ]
    },
    {
     "name": "stdout",
     "output_type": "stream",
     "text": [
      "1066/1066 [==============================] - 15s 14ms/step - loss: 0.4067 - accuracy: 0.7953 - auc: 0.8925 - val_loss: 0.4291 - val_accuracy: 0.7856 - val_auc: 0.8825\n",
      "Epoch 18/100\n",
      "1060/1066 [============================>.] - ETA: 0s - loss: 0.4008 - accuracy: 0.7986 - auc: 0.8957"
     ]
    },
    {
     "name": "stderr",
     "output_type": "stream",
     "text": [
      "WARNING:absl:Found untraced functions such as gru_cell_layer_call_fn, gru_cell_layer_call_and_return_conditional_losses, gru_cell_1_layer_call_fn, gru_cell_1_layer_call_and_return_conditional_losses, gru_cell_2_layer_call_fn while saving (showing 5 of 6). These functions will not be directly callable after loading.\n"
     ]
    },
    {
     "name": "stdout",
     "output_type": "stream",
     "text": [
      "INFO:tensorflow:Assets written to: /home/developer/Documents/Master/TFM/models/model_gru/assets\n"
     ]
    },
    {
     "name": "stderr",
     "output_type": "stream",
     "text": [
      "INFO:tensorflow:Assets written to: /home/developer/Documents/Master/TFM/models/model_gru/assets\n"
     ]
    },
    {
     "name": "stdout",
     "output_type": "stream",
     "text": [
      "1066/1066 [==============================] - 15s 14ms/step - loss: 0.4008 - accuracy: 0.7987 - auc: 0.8957 - val_loss: 0.4208 - val_accuracy: 0.7892 - val_auc: 0.8866\n",
      "Epoch 19/100\n",
      "1066/1066 [==============================] - 10s 9ms/step - loss: 0.3981 - accuracy: 0.8003 - auc: 0.8973 - val_loss: 0.4343 - val_accuracy: 0.7821 - val_auc: 0.8837\n",
      "Epoch 20/100\n",
      "1066/1066 [==============================] - 10s 9ms/step - loss: 0.3926 - accuracy: 0.8033 - auc: 0.9001 - val_loss: 0.4262 - val_accuracy: 0.7897 - val_auc: 0.8882\n",
      "Epoch 21/100\n",
      "1061/1066 [============================>.] - ETA: 0s - loss: 0.3880 - accuracy: 0.8080 - auc: 0.9030"
     ]
    },
    {
     "name": "stderr",
     "output_type": "stream",
     "text": [
      "WARNING:absl:Found untraced functions such as gru_cell_layer_call_fn, gru_cell_layer_call_and_return_conditional_losses, gru_cell_1_layer_call_fn, gru_cell_1_layer_call_and_return_conditional_losses, gru_cell_2_layer_call_fn while saving (showing 5 of 6). These functions will not be directly callable after loading.\n"
     ]
    },
    {
     "name": "stdout",
     "output_type": "stream",
     "text": [
      "INFO:tensorflow:Assets written to: /home/developer/Documents/Master/TFM/models/model_gru/assets\n"
     ]
    },
    {
     "name": "stderr",
     "output_type": "stream",
     "text": [
      "INFO:tensorflow:Assets written to: /home/developer/Documents/Master/TFM/models/model_gru/assets\n"
     ]
    },
    {
     "name": "stdout",
     "output_type": "stream",
     "text": [
      "1066/1066 [==============================] - 16s 15ms/step - loss: 0.3881 - accuracy: 0.8077 - auc: 0.9029 - val_loss: 0.4132 - val_accuracy: 0.7923 - val_auc: 0.8895\n",
      "Epoch 22/100\n",
      "1063/1066 [============================>.] - ETA: 0s - loss: 0.3858 - accuracy: 0.8073 - auc: 0.9039"
     ]
    },
    {
     "name": "stderr",
     "output_type": "stream",
     "text": [
      "WARNING:absl:Found untraced functions such as gru_cell_layer_call_fn, gru_cell_layer_call_and_return_conditional_losses, gru_cell_1_layer_call_fn, gru_cell_1_layer_call_and_return_conditional_losses, gru_cell_2_layer_call_fn while saving (showing 5 of 6). These functions will not be directly callable after loading.\n"
     ]
    },
    {
     "name": "stdout",
     "output_type": "stream",
     "text": [
      "INFO:tensorflow:Assets written to: /home/developer/Documents/Master/TFM/models/model_gru/assets\n"
     ]
    },
    {
     "name": "stderr",
     "output_type": "stream",
     "text": [
      "INFO:tensorflow:Assets written to: /home/developer/Documents/Master/TFM/models/model_gru/assets\n"
     ]
    },
    {
     "name": "stdout",
     "output_type": "stream",
     "text": [
      "1066/1066 [==============================] - 15s 14ms/step - loss: 0.3860 - accuracy: 0.8070 - auc: 0.9037 - val_loss: 0.4096 - val_accuracy: 0.7960 - val_auc: 0.8925\n",
      "Epoch 23/100\n",
      "1062/1066 [============================>.] - ETA: 0s - loss: 0.3802 - accuracy: 0.8105 - auc: 0.9065"
     ]
    },
    {
     "name": "stderr",
     "output_type": "stream",
     "text": [
      "WARNING:absl:Found untraced functions such as gru_cell_layer_call_fn, gru_cell_layer_call_and_return_conditional_losses, gru_cell_1_layer_call_fn, gru_cell_1_layer_call_and_return_conditional_losses, gru_cell_2_layer_call_fn while saving (showing 5 of 6). These functions will not be directly callable after loading.\n"
     ]
    },
    {
     "name": "stdout",
     "output_type": "stream",
     "text": [
      "INFO:tensorflow:Assets written to: /home/developer/Documents/Master/TFM/models/model_gru/assets\n"
     ]
    },
    {
     "name": "stderr",
     "output_type": "stream",
     "text": [
      "INFO:tensorflow:Assets written to: /home/developer/Documents/Master/TFM/models/model_gru/assets\n"
     ]
    },
    {
     "name": "stdout",
     "output_type": "stream",
     "text": [
      "1066/1066 [==============================] - 16s 15ms/step - loss: 0.3802 - accuracy: 0.8106 - auc: 0.9065 - val_loss: 0.4056 - val_accuracy: 0.7978 - val_auc: 0.8943\n",
      "Epoch 24/100\n",
      "1066/1066 [==============================] - 10s 9ms/step - loss: 0.3772 - accuracy: 0.8122 - auc: 0.9083 - val_loss: 0.4148 - val_accuracy: 0.7938 - val_auc: 0.8930\n",
      "Epoch 25/100\n",
      "1066/1066 [==============================] - ETA: 0s - loss: 0.3739 - accuracy: 0.8145 - auc: 0.9102"
     ]
    },
    {
     "name": "stderr",
     "output_type": "stream",
     "text": [
      "WARNING:absl:Found untraced functions such as gru_cell_layer_call_fn, gru_cell_layer_call_and_return_conditional_losses, gru_cell_1_layer_call_fn, gru_cell_1_layer_call_and_return_conditional_losses, gru_cell_2_layer_call_fn while saving (showing 5 of 6). These functions will not be directly callable after loading.\n"
     ]
    },
    {
     "name": "stdout",
     "output_type": "stream",
     "text": [
      "INFO:tensorflow:Assets written to: /home/developer/Documents/Master/TFM/models/model_gru/assets\n"
     ]
    },
    {
     "name": "stderr",
     "output_type": "stream",
     "text": [
      "INFO:tensorflow:Assets written to: /home/developer/Documents/Master/TFM/models/model_gru/assets\n"
     ]
    },
    {
     "name": "stdout",
     "output_type": "stream",
     "text": [
      "1066/1066 [==============================] - 15s 14ms/step - loss: 0.3739 - accuracy: 0.8145 - auc: 0.9102 - val_loss: 0.4016 - val_accuracy: 0.7999 - val_auc: 0.8963\n",
      "Epoch 26/100\n",
      "1066/1066 [==============================] - 9s 9ms/step - loss: 0.3697 - accuracy: 0.8158 - auc: 0.9121 - val_loss: 0.4054 - val_accuracy: 0.7937 - val_auc: 0.8936\n",
      "Epoch 27/100\n",
      "1066/1066 [==============================] - ETA: 0s - loss: 0.3654 - accuracy: 0.8193 - auc: 0.9143"
     ]
    },
    {
     "name": "stderr",
     "output_type": "stream",
     "text": [
      "WARNING:absl:Found untraced functions such as gru_cell_layer_call_fn, gru_cell_layer_call_and_return_conditional_losses, gru_cell_1_layer_call_fn, gru_cell_1_layer_call_and_return_conditional_losses, gru_cell_2_layer_call_fn while saving (showing 5 of 6). These functions will not be directly callable after loading.\n"
     ]
    },
    {
     "name": "stdout",
     "output_type": "stream",
     "text": [
      "INFO:tensorflow:Assets written to: /home/developer/Documents/Master/TFM/models/model_gru/assets\n"
     ]
    },
    {
     "name": "stderr",
     "output_type": "stream",
     "text": [
      "INFO:tensorflow:Assets written to: /home/developer/Documents/Master/TFM/models/model_gru/assets\n"
     ]
    },
    {
     "name": "stdout",
     "output_type": "stream",
     "text": [
      "1066/1066 [==============================] - 14s 14ms/step - loss: 0.3654 - accuracy: 0.8193 - auc: 0.9143 - val_loss: 0.3956 - val_accuracy: 0.8015 - val_auc: 0.8990\n",
      "Epoch 28/100\n",
      "1066/1066 [==============================] - 10s 9ms/step - loss: 0.3627 - accuracy: 0.8216 - auc: 0.9157 - val_loss: 0.4046 - val_accuracy: 0.7964 - val_auc: 0.8984\n",
      "Epoch 29/100\n",
      "1065/1066 [============================>.] - ETA: 0s - loss: 0.3576 - accuracy: 0.8215 - auc: 0.9178"
     ]
    },
    {
     "name": "stderr",
     "output_type": "stream",
     "text": [
      "WARNING:absl:Found untraced functions such as gru_cell_layer_call_fn, gru_cell_layer_call_and_return_conditional_losses, gru_cell_1_layer_call_fn, gru_cell_1_layer_call_and_return_conditional_losses, gru_cell_2_layer_call_fn while saving (showing 5 of 6). These functions will not be directly callable after loading.\n"
     ]
    },
    {
     "name": "stdout",
     "output_type": "stream",
     "text": [
      "INFO:tensorflow:Assets written to: /home/developer/Documents/Master/TFM/models/model_gru/assets\n"
     ]
    },
    {
     "name": "stderr",
     "output_type": "stream",
     "text": [
      "INFO:tensorflow:Assets written to: /home/developer/Documents/Master/TFM/models/model_gru/assets\n"
     ]
    },
    {
     "name": "stdout",
     "output_type": "stream",
     "text": [
      "1066/1066 [==============================] - 16s 15ms/step - loss: 0.3576 - accuracy: 0.8215 - auc: 0.9178 - val_loss: 0.3934 - val_accuracy: 0.8007 - val_auc: 0.9002\n",
      "Epoch 30/100\n",
      "1065/1066 [============================>.] - ETA: 0s - loss: 0.3538 - accuracy: 0.8241 - auc: 0.9196"
     ]
    },
    {
     "name": "stderr",
     "output_type": "stream",
     "text": [
      "WARNING:absl:Found untraced functions such as gru_cell_layer_call_fn, gru_cell_layer_call_and_return_conditional_losses, gru_cell_1_layer_call_fn, gru_cell_1_layer_call_and_return_conditional_losses, gru_cell_2_layer_call_fn while saving (showing 5 of 6). These functions will not be directly callable after loading.\n"
     ]
    },
    {
     "name": "stdout",
     "output_type": "stream",
     "text": [
      "INFO:tensorflow:Assets written to: /home/developer/Documents/Master/TFM/models/model_gru/assets\n"
     ]
    },
    {
     "name": "stderr",
     "output_type": "stream",
     "text": [
      "INFO:tensorflow:Assets written to: /home/developer/Documents/Master/TFM/models/model_gru/assets\n"
     ]
    },
    {
     "name": "stdout",
     "output_type": "stream",
     "text": [
      "1066/1066 [==============================] - 15s 14ms/step - loss: 0.3537 - accuracy: 0.8241 - auc: 0.9196 - val_loss: 0.3916 - val_accuracy: 0.8077 - val_auc: 0.9012\n",
      "Epoch 31/100\n",
      "1060/1066 [============================>.] - ETA: 0s - loss: 0.3517 - accuracy: 0.8246 - auc: 0.9204"
     ]
    },
    {
     "name": "stderr",
     "output_type": "stream",
     "text": [
      "WARNING:absl:Found untraced functions such as gru_cell_layer_call_fn, gru_cell_layer_call_and_return_conditional_losses, gru_cell_1_layer_call_fn, gru_cell_1_layer_call_and_return_conditional_losses, gru_cell_2_layer_call_fn while saving (showing 5 of 6). These functions will not be directly callable after loading.\n"
     ]
    },
    {
     "name": "stdout",
     "output_type": "stream",
     "text": [
      "INFO:tensorflow:Assets written to: /home/developer/Documents/Master/TFM/models/model_gru/assets\n"
     ]
    },
    {
     "name": "stderr",
     "output_type": "stream",
     "text": [
      "INFO:tensorflow:Assets written to: /home/developer/Documents/Master/TFM/models/model_gru/assets\n"
     ]
    },
    {
     "name": "stdout",
     "output_type": "stream",
     "text": [
      "1066/1066 [==============================] - 15s 14ms/step - loss: 0.3519 - accuracy: 0.8244 - auc: 0.9203 - val_loss: 0.3900 - val_accuracy: 0.8041 - val_auc: 0.9026\n",
      "Epoch 32/100\n",
      "1060/1066 [============================>.] - ETA: 0s - loss: 0.3478 - accuracy: 0.8265 - auc: 0.9223"
     ]
    },
    {
     "name": "stderr",
     "output_type": "stream",
     "text": [
      "WARNING:absl:Found untraced functions such as gru_cell_layer_call_fn, gru_cell_layer_call_and_return_conditional_losses, gru_cell_1_layer_call_fn, gru_cell_1_layer_call_and_return_conditional_losses, gru_cell_2_layer_call_fn while saving (showing 5 of 6). These functions will not be directly callable after loading.\n"
     ]
    },
    {
     "name": "stdout",
     "output_type": "stream",
     "text": [
      "INFO:tensorflow:Assets written to: /home/developer/Documents/Master/TFM/models/model_gru/assets\n"
     ]
    },
    {
     "name": "stderr",
     "output_type": "stream",
     "text": [
      "INFO:tensorflow:Assets written to: /home/developer/Documents/Master/TFM/models/model_gru/assets\n"
     ]
    },
    {
     "name": "stdout",
     "output_type": "stream",
     "text": [
      "1066/1066 [==============================] - 15s 14ms/step - loss: 0.3477 - accuracy: 0.8265 - auc: 0.9223 - val_loss: 0.3854 - val_accuracy: 0.8037 - val_auc: 0.9038\n",
      "Epoch 33/100\n",
      "1066/1066 [==============================] - ETA: 0s - loss: 0.3456 - accuracy: 0.8305 - auc: 0.9237"
     ]
    },
    {
     "name": "stderr",
     "output_type": "stream",
     "text": [
      "WARNING:absl:Found untraced functions such as gru_cell_layer_call_fn, gru_cell_layer_call_and_return_conditional_losses, gru_cell_1_layer_call_fn, gru_cell_1_layer_call_and_return_conditional_losses, gru_cell_2_layer_call_fn while saving (showing 5 of 6). These functions will not be directly callable after loading.\n"
     ]
    },
    {
     "name": "stdout",
     "output_type": "stream",
     "text": [
      "INFO:tensorflow:Assets written to: /home/developer/Documents/Master/TFM/models/model_gru/assets\n"
     ]
    },
    {
     "name": "stderr",
     "output_type": "stream",
     "text": [
      "INFO:tensorflow:Assets written to: /home/developer/Documents/Master/TFM/models/model_gru/assets\n"
     ]
    },
    {
     "name": "stdout",
     "output_type": "stream",
     "text": [
      "1066/1066 [==============================] - 16s 15ms/step - loss: 0.3456 - accuracy: 0.8305 - auc: 0.9237 - val_loss: 0.3841 - val_accuracy: 0.8044 - val_auc: 0.9047\n",
      "Epoch 34/100\n",
      "1066/1066 [==============================] - 10s 9ms/step - loss: 0.3398 - accuracy: 0.8336 - auc: 0.9263 - val_loss: 0.3887 - val_accuracy: 0.8041 - val_auc: 0.9030\n",
      "Epoch 35/100\n",
      "1059/1066 [============================>.] - ETA: 0s - loss: 0.3380 - accuracy: 0.8331 - auc: 0.9270"
     ]
    },
    {
     "name": "stderr",
     "output_type": "stream",
     "text": [
      "WARNING:absl:Found untraced functions such as gru_cell_layer_call_fn, gru_cell_layer_call_and_return_conditional_losses, gru_cell_1_layer_call_fn, gru_cell_1_layer_call_and_return_conditional_losses, gru_cell_2_layer_call_fn while saving (showing 5 of 6). These functions will not be directly callable after loading.\n"
     ]
    },
    {
     "name": "stdout",
     "output_type": "stream",
     "text": [
      "INFO:tensorflow:Assets written to: /home/developer/Documents/Master/TFM/models/model_gru/assets\n"
     ]
    },
    {
     "name": "stderr",
     "output_type": "stream",
     "text": [
      "INFO:tensorflow:Assets written to: /home/developer/Documents/Master/TFM/models/model_gru/assets\n"
     ]
    },
    {
     "name": "stdout",
     "output_type": "stream",
     "text": [
      "1066/1066 [==============================] - 16s 15ms/step - loss: 0.3379 - accuracy: 0.8335 - auc: 0.9272 - val_loss: 0.3816 - val_accuracy: 0.8045 - val_auc: 0.9063\n",
      "Epoch 36/100\n",
      "1065/1066 [============================>.] - ETA: 0s - loss: 0.3352 - accuracy: 0.8356 - auc: 0.9283"
     ]
    },
    {
     "name": "stderr",
     "output_type": "stream",
     "text": [
      "WARNING:absl:Found untraced functions such as gru_cell_layer_call_fn, gru_cell_layer_call_and_return_conditional_losses, gru_cell_1_layer_call_fn, gru_cell_1_layer_call_and_return_conditional_losses, gru_cell_2_layer_call_fn while saving (showing 5 of 6). These functions will not be directly callable after loading.\n"
     ]
    },
    {
     "name": "stdout",
     "output_type": "stream",
     "text": [
      "INFO:tensorflow:Assets written to: /home/developer/Documents/Master/TFM/models/model_gru/assets\n"
     ]
    },
    {
     "name": "stderr",
     "output_type": "stream",
     "text": [
      "INFO:tensorflow:Assets written to: /home/developer/Documents/Master/TFM/models/model_gru/assets\n"
     ]
    },
    {
     "name": "stdout",
     "output_type": "stream",
     "text": [
      "1066/1066 [==============================] - 16s 15ms/step - loss: 0.3351 - accuracy: 0.8356 - auc: 0.9283 - val_loss: 0.3796 - val_accuracy: 0.8056 - val_auc: 0.9064\n",
      "Epoch 37/100\n",
      "1064/1066 [============================>.] - ETA: 0s - loss: 0.3324 - accuracy: 0.8359 - auc: 0.9294"
     ]
    },
    {
     "name": "stderr",
     "output_type": "stream",
     "text": [
      "WARNING:absl:Found untraced functions such as gru_cell_layer_call_fn, gru_cell_layer_call_and_return_conditional_losses, gru_cell_1_layer_call_fn, gru_cell_1_layer_call_and_return_conditional_losses, gru_cell_2_layer_call_fn while saving (showing 5 of 6). These functions will not be directly callable after loading.\n"
     ]
    },
    {
     "name": "stdout",
     "output_type": "stream",
     "text": [
      "INFO:tensorflow:Assets written to: /home/developer/Documents/Master/TFM/models/model_gru/assets\n"
     ]
    },
    {
     "name": "stderr",
     "output_type": "stream",
     "text": [
      "INFO:tensorflow:Assets written to: /home/developer/Documents/Master/TFM/models/model_gru/assets\n"
     ]
    },
    {
     "name": "stdout",
     "output_type": "stream",
     "text": [
      "1066/1066 [==============================] - 17s 16ms/step - loss: 0.3323 - accuracy: 0.8360 - auc: 0.9294 - val_loss: 0.3786 - val_accuracy: 0.8103 - val_auc: 0.9075\n",
      "Epoch 38/100\n",
      "1066/1066 [==============================] - 10s 9ms/step - loss: 0.3268 - accuracy: 0.8398 - auc: 0.9319 - val_loss: 0.3825 - val_accuracy: 0.8079 - val_auc: 0.9057\n",
      "Epoch 39/100\n",
      "1066/1066 [==============================] - 10s 9ms/step - loss: 0.3245 - accuracy: 0.8415 - auc: 0.9331 - val_loss: 0.3869 - val_accuracy: 0.8037 - val_auc: 0.9067\n",
      "Epoch 40/100\n",
      "1066/1066 [==============================] - 10s 9ms/step - loss: 0.3216 - accuracy: 0.8437 - auc: 0.9342 - val_loss: 0.3868 - val_accuracy: 0.8093 - val_auc: 0.9079\n",
      "Epoch 41/100\n",
      "1063/1066 [============================>.] - ETA: 0s - loss: 0.3194 - accuracy: 0.8437 - auc: 0.9351"
     ]
    },
    {
     "name": "stderr",
     "output_type": "stream",
     "text": [
      "WARNING:absl:Found untraced functions such as gru_cell_layer_call_fn, gru_cell_layer_call_and_return_conditional_losses, gru_cell_1_layer_call_fn, gru_cell_1_layer_call_and_return_conditional_losses, gru_cell_2_layer_call_fn while saving (showing 5 of 6). These functions will not be directly callable after loading.\n"
     ]
    },
    {
     "name": "stdout",
     "output_type": "stream",
     "text": [
      "INFO:tensorflow:Assets written to: /home/developer/Documents/Master/TFM/models/model_gru/assets\n"
     ]
    },
    {
     "name": "stderr",
     "output_type": "stream",
     "text": [
      "INFO:tensorflow:Assets written to: /home/developer/Documents/Master/TFM/models/model_gru/assets\n"
     ]
    },
    {
     "name": "stdout",
     "output_type": "stream",
     "text": [
      "1066/1066 [==============================] - 18s 17ms/step - loss: 0.3193 - accuracy: 0.8438 - auc: 0.9351 - val_loss: 0.3726 - val_accuracy: 0.8100 - val_auc: 0.9098\n",
      "Epoch 42/100\n",
      "1066/1066 [==============================] - 9s 9ms/step - loss: 0.3162 - accuracy: 0.8440 - auc: 0.9364 - val_loss: 0.3730 - val_accuracy: 0.8133 - val_auc: 0.9109\n",
      "Epoch 43/100\n",
      "1066/1066 [==============================] - 10s 9ms/step - loss: 0.3141 - accuracy: 0.8469 - auc: 0.9373 - val_loss: 0.3763 - val_accuracy: 0.8097 - val_auc: 0.9095\n",
      "Epoch 44/100\n",
      "1062/1066 [============================>.] - ETA: 0s - loss: 0.3105 - accuracy: 0.8480 - auc: 0.9386"
     ]
    },
    {
     "name": "stderr",
     "output_type": "stream",
     "text": [
      "WARNING:absl:Found untraced functions such as gru_cell_layer_call_fn, gru_cell_layer_call_and_return_conditional_losses, gru_cell_1_layer_call_fn, gru_cell_1_layer_call_and_return_conditional_losses, gru_cell_2_layer_call_fn while saving (showing 5 of 6). These functions will not be directly callable after loading.\n"
     ]
    },
    {
     "name": "stdout",
     "output_type": "stream",
     "text": [
      "INFO:tensorflow:Assets written to: /home/developer/Documents/Master/TFM/models/model_gru/assets\n"
     ]
    },
    {
     "name": "stderr",
     "output_type": "stream",
     "text": [
      "INFO:tensorflow:Assets written to: /home/developer/Documents/Master/TFM/models/model_gru/assets\n"
     ]
    },
    {
     "name": "stdout",
     "output_type": "stream",
     "text": [
      "1066/1066 [==============================] - 15s 14ms/step - loss: 0.3105 - accuracy: 0.8479 - auc: 0.9386 - val_loss: 0.3709 - val_accuracy: 0.8114 - val_auc: 0.9124\n",
      "Epoch 45/100\n",
      "1066/1066 [==============================] - 10s 9ms/step - loss: 0.3076 - accuracy: 0.8488 - auc: 0.9398 - val_loss: 0.3759 - val_accuracy: 0.8108 - val_auc: 0.9113\n",
      "Epoch 46/100\n",
      "1066/1066 [==============================] - 10s 9ms/step - loss: 0.3052 - accuracy: 0.8518 - auc: 0.9408 - val_loss: 0.3864 - val_accuracy: 0.8068 - val_auc: 0.9083\n",
      "Epoch 47/100\n",
      "1066/1066 [==============================] - 10s 9ms/step - loss: 0.3021 - accuracy: 0.8547 - auc: 0.9422 - val_loss: 0.3752 - val_accuracy: 0.8109 - val_auc: 0.9119\n",
      "Epoch 48/100\n",
      "1066/1066 [==============================] - 10s 9ms/step - loss: 0.2997 - accuracy: 0.8539 - auc: 0.9429 - val_loss: 0.3730 - val_accuracy: 0.8129 - val_auc: 0.9119\n",
      "Epoch 49/100\n",
      "1066/1066 [==============================] - ETA: 0s - loss: 0.2971 - accuracy: 0.8542 - auc: 0.9438"
     ]
    },
    {
     "name": "stderr",
     "output_type": "stream",
     "text": [
      "WARNING:absl:Found untraced functions such as gru_cell_layer_call_fn, gru_cell_layer_call_and_return_conditional_losses, gru_cell_1_layer_call_fn, gru_cell_1_layer_call_and_return_conditional_losses, gru_cell_2_layer_call_fn while saving (showing 5 of 6). These functions will not be directly callable after loading.\n"
     ]
    },
    {
     "name": "stdout",
     "output_type": "stream",
     "text": [
      "INFO:tensorflow:Assets written to: /home/developer/Documents/Master/TFM/models/model_gru/assets\n"
     ]
    },
    {
     "name": "stderr",
     "output_type": "stream",
     "text": [
      "INFO:tensorflow:Assets written to: /home/developer/Documents/Master/TFM/models/model_gru/assets\n"
     ]
    },
    {
     "name": "stdout",
     "output_type": "stream",
     "text": [
      "1066/1066 [==============================] - 15s 14ms/step - loss: 0.2971 - accuracy: 0.8542 - auc: 0.9438 - val_loss: 0.3665 - val_accuracy: 0.8142 - val_auc: 0.9145\n",
      "Epoch 50/100\n",
      "1066/1066 [==============================] - 10s 9ms/step - loss: 0.2919 - accuracy: 0.8597 - auc: 0.9461 - val_loss: 0.3760 - val_accuracy: 0.8131 - val_auc: 0.9116\n",
      "Epoch 51/100\n",
      "1063/1066 [============================>.] - ETA: 0s - loss: 0.2930 - accuracy: 0.8582 - auc: 0.9456"
     ]
    },
    {
     "name": "stderr",
     "output_type": "stream",
     "text": [
      "WARNING:absl:Found untraced functions such as gru_cell_layer_call_fn, gru_cell_layer_call_and_return_conditional_losses, gru_cell_1_layer_call_fn, gru_cell_1_layer_call_and_return_conditional_losses, gru_cell_2_layer_call_fn while saving (showing 5 of 6). These functions will not be directly callable after loading.\n"
     ]
    },
    {
     "name": "stdout",
     "output_type": "stream",
     "text": [
      "INFO:tensorflow:Assets written to: /home/developer/Documents/Master/TFM/models/model_gru/assets\n"
     ]
    },
    {
     "name": "stderr",
     "output_type": "stream",
     "text": [
      "INFO:tensorflow:Assets written to: /home/developer/Documents/Master/TFM/models/model_gru/assets\n"
     ]
    },
    {
     "name": "stdout",
     "output_type": "stream",
     "text": [
      "1066/1066 [==============================] - 15s 15ms/step - loss: 0.2931 - accuracy: 0.8581 - auc: 0.9456 - val_loss: 0.3641 - val_accuracy: 0.8179 - val_auc: 0.9153\n",
      "Epoch 52/100\n",
      "1066/1066 [==============================] - 10s 9ms/step - loss: 0.2884 - accuracy: 0.8593 - auc: 0.9471 - val_loss: 0.3662 - val_accuracy: 0.8124 - val_auc: 0.9153\n",
      "Epoch 53/100\n",
      "1066/1066 [==============================] - 10s 9ms/step - loss: 0.2868 - accuracy: 0.8604 - auc: 0.9477 - val_loss: 0.3681 - val_accuracy: 0.8185 - val_auc: 0.9145\n",
      "Epoch 54/100\n",
      "1066/1066 [==============================] - 10s 9ms/step - loss: 0.2831 - accuracy: 0.8625 - auc: 0.9491 - val_loss: 0.4026 - val_accuracy: 0.8059 - val_auc: 0.9065\n",
      "Epoch 55/100\n",
      "1066/1066 [==============================] - 10s 9ms/step - loss: 0.2822 - accuracy: 0.8631 - auc: 0.9497 - val_loss: 0.3717 - val_accuracy: 0.8140 - val_auc: 0.9146\n",
      "Epoch 56/100\n",
      "1066/1066 [==============================] - 10s 9ms/step - loss: 0.2776 - accuracy: 0.8644 - auc: 0.9510 - val_loss: 0.3655 - val_accuracy: 0.8222 - val_auc: 0.9166\n",
      "Epoch 57/100\n",
      "1066/1066 [==============================] - 10s 9ms/step - loss: 0.2761 - accuracy: 0.8660 - auc: 0.9516 - val_loss: 0.3730 - val_accuracy: 0.8141 - val_auc: 0.9156\n",
      "Epoch 58/100\n",
      "1066/1066 [==============================] - 10s 9ms/step - loss: 0.2750 - accuracy: 0.8649 - auc: 0.9518 - val_loss: 0.3798 - val_accuracy: 0.8081 - val_auc: 0.9121\n",
      "Epoch 59/100\n",
      "1066/1066 [==============================] - 10s 9ms/step - loss: 0.2711 - accuracy: 0.8675 - auc: 0.9532 - val_loss: 0.3665 - val_accuracy: 0.8197 - val_auc: 0.9159\n",
      "Epoch 60/100\n",
      "1066/1066 [==============================] - 10s 9ms/step - loss: 0.2710 - accuracy: 0.8673 - auc: 0.9531 - val_loss: 0.3660 - val_accuracy: 0.8167 - val_auc: 0.9157\n",
      "Epoch 61/100\n",
      "1063/1066 [============================>.] - ETA: 0s - loss: 0.2665 - accuracy: 0.8713 - auc: 0.9548"
     ]
    },
    {
     "name": "stderr",
     "output_type": "stream",
     "text": [
      "WARNING:absl:Found untraced functions such as gru_cell_layer_call_fn, gru_cell_layer_call_and_return_conditional_losses, gru_cell_1_layer_call_fn, gru_cell_1_layer_call_and_return_conditional_losses, gru_cell_2_layer_call_fn while saving (showing 5 of 6). These functions will not be directly callable after loading.\n"
     ]
    },
    {
     "name": "stdout",
     "output_type": "stream",
     "text": [
      "INFO:tensorflow:Assets written to: /home/developer/Documents/Master/TFM/models/model_gru/assets\n"
     ]
    },
    {
     "name": "stderr",
     "output_type": "stream",
     "text": [
      "INFO:tensorflow:Assets written to: /home/developer/Documents/Master/TFM/models/model_gru/assets\n"
     ]
    },
    {
     "name": "stdout",
     "output_type": "stream",
     "text": [
      "1066/1066 [==============================] - 15s 14ms/step - loss: 0.2664 - accuracy: 0.8713 - auc: 0.9548 - val_loss: 0.3612 - val_accuracy: 0.8168 - val_auc: 0.9170\n",
      "Epoch 62/100\n",
      "1066/1066 [==============================] - 10s 9ms/step - loss: 0.2653 - accuracy: 0.8712 - auc: 0.9555 - val_loss: 0.3649 - val_accuracy: 0.8219 - val_auc: 0.9181\n",
      "Epoch 63/100\n",
      "1066/1066 [==============================] - 10s 9ms/step - loss: 0.2630 - accuracy: 0.8723 - auc: 0.9562 - val_loss: 0.3654 - val_accuracy: 0.8227 - val_auc: 0.9173\n",
      "Epoch 64/100\n",
      "1066/1066 [==============================] - 10s 9ms/step - loss: 0.2614 - accuracy: 0.8725 - auc: 0.9564 - val_loss: 0.3756 - val_accuracy: 0.8179 - val_auc: 0.9162\n",
      "Epoch 65/100\n",
      "1066/1066 [==============================] - 10s 9ms/step - loss: 0.2592 - accuracy: 0.8745 - auc: 0.9573 - val_loss: 0.3643 - val_accuracy: 0.8259 - val_auc: 0.9187\n",
      "Epoch 66/100\n",
      "1062/1066 [============================>.] - ETA: 0s - loss: 0.2557 - accuracy: 0.8758 - auc: 0.9584"
     ]
    },
    {
     "name": "stderr",
     "output_type": "stream",
     "text": [
      "WARNING:absl:Found untraced functions such as gru_cell_layer_call_fn, gru_cell_layer_call_and_return_conditional_losses, gru_cell_1_layer_call_fn, gru_cell_1_layer_call_and_return_conditional_losses, gru_cell_2_layer_call_fn while saving (showing 5 of 6). These functions will not be directly callable after loading.\n"
     ]
    },
    {
     "name": "stdout",
     "output_type": "stream",
     "text": [
      "INFO:tensorflow:Assets written to: /home/developer/Documents/Master/TFM/models/model_gru/assets\n"
     ]
    },
    {
     "name": "stderr",
     "output_type": "stream",
     "text": [
      "INFO:tensorflow:Assets written to: /home/developer/Documents/Master/TFM/models/model_gru/assets\n"
     ]
    },
    {
     "name": "stdout",
     "output_type": "stream",
     "text": [
      "1066/1066 [==============================] - 16s 15ms/step - loss: 0.2556 - accuracy: 0.8758 - auc: 0.9584 - val_loss: 0.3607 - val_accuracy: 0.8226 - val_auc: 0.9190\n",
      "Epoch 67/100\n",
      "1066/1066 [==============================] - 10s 9ms/step - loss: 0.2527 - accuracy: 0.8771 - auc: 0.9593 - val_loss: 0.3675 - val_accuracy: 0.8215 - val_auc: 0.9172\n",
      "Epoch 68/100\n",
      "1062/1066 [============================>.] - ETA: 0s - loss: 0.2530 - accuracy: 0.8775 - auc: 0.9594"
     ]
    },
    {
     "name": "stderr",
     "output_type": "stream",
     "text": [
      "WARNING:absl:Found untraced functions such as gru_cell_layer_call_fn, gru_cell_layer_call_and_return_conditional_losses, gru_cell_1_layer_call_fn, gru_cell_1_layer_call_and_return_conditional_losses, gru_cell_2_layer_call_fn while saving (showing 5 of 6). These functions will not be directly callable after loading.\n"
     ]
    },
    {
     "name": "stdout",
     "output_type": "stream",
     "text": [
      "INFO:tensorflow:Assets written to: /home/developer/Documents/Master/TFM/models/model_gru/assets\n"
     ]
    },
    {
     "name": "stderr",
     "output_type": "stream",
     "text": [
      "INFO:tensorflow:Assets written to: /home/developer/Documents/Master/TFM/models/model_gru/assets\n"
     ]
    },
    {
     "name": "stdout",
     "output_type": "stream",
     "text": [
      "1066/1066 [==============================] - 16s 15ms/step - loss: 0.2533 - accuracy: 0.8773 - auc: 0.9593 - val_loss: 0.3600 - val_accuracy: 0.8241 - val_auc: 0.9204\n",
      "Epoch 69/100\n",
      "1064/1066 [============================>.] - ETA: 0s - loss: 0.2487 - accuracy: 0.8806 - auc: 0.9608"
     ]
    },
    {
     "name": "stderr",
     "output_type": "stream",
     "text": [
      "WARNING:absl:Found untraced functions such as gru_cell_layer_call_fn, gru_cell_layer_call_and_return_conditional_losses, gru_cell_1_layer_call_fn, gru_cell_1_layer_call_and_return_conditional_losses, gru_cell_2_layer_call_fn while saving (showing 5 of 6). These functions will not be directly callable after loading.\n"
     ]
    },
    {
     "name": "stdout",
     "output_type": "stream",
     "text": [
      "INFO:tensorflow:Assets written to: /home/developer/Documents/Master/TFM/models/model_gru/assets\n"
     ]
    },
    {
     "name": "stderr",
     "output_type": "stream",
     "text": [
      "INFO:tensorflow:Assets written to: /home/developer/Documents/Master/TFM/models/model_gru/assets\n"
     ]
    },
    {
     "name": "stdout",
     "output_type": "stream",
     "text": [
      "1066/1066 [==============================] - 17s 16ms/step - loss: 0.2486 - accuracy: 0.8806 - auc: 0.9609 - val_loss: 0.3596 - val_accuracy: 0.8263 - val_auc: 0.9206\n",
      "Epoch 70/100\n",
      "1066/1066 [==============================] - 10s 10ms/step - loss: 0.2475 - accuracy: 0.8796 - auc: 0.9610 - val_loss: 0.3638 - val_accuracy: 0.8279 - val_auc: 0.9215\n",
      "Epoch 71/100\n",
      "1066/1066 [==============================] - 10s 10ms/step - loss: 0.2455 - accuracy: 0.8820 - auc: 0.9616 - val_loss: 0.3623 - val_accuracy: 0.8267 - val_auc: 0.9193\n",
      "Epoch 72/100\n",
      "1066/1066 [==============================] - 10s 10ms/step - loss: 0.2447 - accuracy: 0.8831 - auc: 0.9620 - val_loss: 0.3753 - val_accuracy: 0.8181 - val_auc: 0.9175\n",
      "Epoch 73/100\n",
      "1066/1066 [==============================] - ETA: 0s - loss: 0.2416 - accuracy: 0.8810 - auc: 0.9626"
     ]
    },
    {
     "name": "stderr",
     "output_type": "stream",
     "text": [
      "WARNING:absl:Found untraced functions such as gru_cell_layer_call_fn, gru_cell_layer_call_and_return_conditional_losses, gru_cell_1_layer_call_fn, gru_cell_1_layer_call_and_return_conditional_losses, gru_cell_2_layer_call_fn while saving (showing 5 of 6). These functions will not be directly callable after loading.\n"
     ]
    },
    {
     "name": "stdout",
     "output_type": "stream",
     "text": [
      "INFO:tensorflow:Assets written to: /home/developer/Documents/Master/TFM/models/model_gru/assets\n"
     ]
    },
    {
     "name": "stderr",
     "output_type": "stream",
     "text": [
      "INFO:tensorflow:Assets written to: /home/developer/Documents/Master/TFM/models/model_gru/assets\n"
     ]
    },
    {
     "name": "stdout",
     "output_type": "stream",
     "text": [
      "1066/1066 [==============================] - 20s 19ms/step - loss: 0.2416 - accuracy: 0.8810 - auc: 0.9626 - val_loss: 0.3572 - val_accuracy: 0.8311 - val_auc: 0.9228\n",
      "Epoch 74/100\n",
      "1066/1066 [==============================] - 10s 10ms/step - loss: 0.2426 - accuracy: 0.8832 - auc: 0.9627 - val_loss: 0.3644 - val_accuracy: 0.8238 - val_auc: 0.9194\n",
      "Epoch 75/100\n",
      "1066/1066 [==============================] - 10s 9ms/step - loss: 0.2380 - accuracy: 0.8843 - auc: 0.9639 - val_loss: 0.3612 - val_accuracy: 0.8272 - val_auc: 0.9210\n",
      "Epoch 76/100\n",
      "1066/1066 [==============================] - 10s 9ms/step - loss: 0.2371 - accuracy: 0.8851 - auc: 0.9643 - val_loss: 0.3607 - val_accuracy: 0.8264 - val_auc: 0.9210\n",
      "Epoch 77/100\n",
      "1066/1066 [==============================] - 10s 9ms/step - loss: 0.2343 - accuracy: 0.8858 - auc: 0.9648 - val_loss: 0.3611 - val_accuracy: 0.8271 - val_auc: 0.9206\n",
      "Epoch 78/100\n",
      "1066/1066 [==============================] - 10s 9ms/step - loss: 0.2323 - accuracy: 0.8880 - auc: 0.9655 - val_loss: 0.3813 - val_accuracy: 0.8219 - val_auc: 0.9183\n",
      "Epoch 79/100\n",
      "1066/1066 [==============================] - 10s 9ms/step - loss: 0.2311 - accuracy: 0.8865 - auc: 0.9657 - val_loss: 0.3667 - val_accuracy: 0.8300 - val_auc: 0.9222\n",
      "Epoch 80/100\n",
      "1066/1066 [==============================] - 10s 9ms/step - loss: 0.2280 - accuracy: 0.8885 - auc: 0.9667 - val_loss: 0.3711 - val_accuracy: 0.8249 - val_auc: 0.9193\n",
      "Epoch 81/100\n",
      "1066/1066 [==============================] - 10s 9ms/step - loss: 0.2286 - accuracy: 0.8888 - auc: 0.9666 - val_loss: 0.3645 - val_accuracy: 0.8286 - val_auc: 0.9207\n",
      "Epoch 82/100\n",
      "1066/1066 [==============================] - 10s 9ms/step - loss: 0.2266 - accuracy: 0.8904 - auc: 0.9671 - val_loss: 0.3810 - val_accuracy: 0.8218 - val_auc: 0.9160\n",
      "Epoch 83/100\n",
      "1066/1066 [==============================] - 10s 10ms/step - loss: 0.2243 - accuracy: 0.8904 - auc: 0.9678 - val_loss: 0.3686 - val_accuracy: 0.8301 - val_auc: 0.9219\n",
      "Epoch 84/100\n",
      "1066/1066 [==============================] - 10s 9ms/step - loss: 0.2207 - accuracy: 0.8930 - auc: 0.9688 - val_loss: 0.3795 - val_accuracy: 0.8272 - val_auc: 0.9181\n",
      "Epoch 85/100\n",
      "1066/1066 [==============================] - 10s 9ms/step - loss: 0.2215 - accuracy: 0.8905 - auc: 0.9683 - val_loss: 0.3681 - val_accuracy: 0.8295 - val_auc: 0.9219\n",
      "Epoch 86/100\n",
      "1066/1066 [==============================] - 10s 9ms/step - loss: 0.2199 - accuracy: 0.8924 - auc: 0.9687 - val_loss: 0.3675 - val_accuracy: 0.8300 - val_auc: 0.9226\n",
      "Epoch 87/100\n",
      "1066/1066 [==============================] - 10s 9ms/step - loss: 0.2177 - accuracy: 0.8943 - auc: 0.9696 - val_loss: 0.3773 - val_accuracy: 0.8275 - val_auc: 0.9204\n",
      "Epoch 88/100\n",
      "1066/1066 [==============================] - 10s 9ms/step - loss: 0.2177 - accuracy: 0.8935 - auc: 0.9695 - val_loss: 0.3672 - val_accuracy: 0.8324 - val_auc: 0.9234\n",
      "Epoch 89/100\n",
      "1066/1066 [==============================] - 10s 9ms/step - loss: 0.2150 - accuracy: 0.8951 - auc: 0.9703 - val_loss: 0.3736 - val_accuracy: 0.8316 - val_auc: 0.9232\n",
      "Epoch 90/100\n",
      "1066/1066 [==============================] - 10s 9ms/step - loss: 0.2138 - accuracy: 0.8958 - auc: 0.9707 - val_loss: 0.3717 - val_accuracy: 0.8286 - val_auc: 0.9214\n",
      "Epoch 91/100\n",
      "1066/1066 [==============================] - 10s 9ms/step - loss: 0.2132 - accuracy: 0.8966 - auc: 0.9710 - val_loss: 0.3862 - val_accuracy: 0.8300 - val_auc: 0.9190\n",
      "Epoch 92/100\n",
      "1066/1066 [==============================] - 10s 9ms/step - loss: 0.2080 - accuracy: 0.8992 - auc: 0.9724 - val_loss: 0.3706 - val_accuracy: 0.8313 - val_auc: 0.9226\n",
      "Epoch 93/100\n",
      "1066/1066 [==============================] - 10s 9ms/step - loss: 0.2091 - accuracy: 0.8984 - auc: 0.9720 - val_loss: 0.4068 - val_accuracy: 0.8178 - val_auc: 0.9140\n",
      "Epoch 94/100\n",
      "1066/1066 [==============================] - 10s 9ms/step - loss: 0.2089 - accuracy: 0.8984 - auc: 0.9720 - val_loss: 0.3702 - val_accuracy: 0.8335 - val_auc: 0.9213\n",
      "Epoch 95/100\n",
      "1066/1066 [==============================] - 9s 9ms/step - loss: 0.2056 - accuracy: 0.9000 - auc: 0.9729 - val_loss: 0.3746 - val_accuracy: 0.8269 - val_auc: 0.9198\n",
      "Epoch 96/100\n",
      "1066/1066 [==============================] - 10s 9ms/step - loss: 0.2037 - accuracy: 0.9011 - auc: 0.9733 - val_loss: 0.3937 - val_accuracy: 0.8271 - val_auc: 0.9191\n",
      "Epoch 97/100\n",
      "1066/1066 [==============================] - 10s 9ms/step - loss: 0.2017 - accuracy: 0.9012 - auc: 0.9739 - val_loss: 0.3817 - val_accuracy: 0.8309 - val_auc: 0.9230\n",
      "Epoch 98/100\n",
      "1066/1066 [==============================] - 10s 10ms/step - loss: 0.2029 - accuracy: 0.9011 - auc: 0.9734 - val_loss: 0.4079 - val_accuracy: 0.8198 - val_auc: 0.9149\n",
      "Epoch 99/100\n",
      "1066/1066 [==============================] - 10s 9ms/step - loss: 0.2024 - accuracy: 0.9023 - auc: 0.9736 - val_loss: 0.3802 - val_accuracy: 0.8317 - val_auc: 0.9222\n",
      "Epoch 100/100\n",
      "1066/1066 [==============================] - 10s 9ms/step - loss: 0.2015 - accuracy: 0.9025 - auc: 0.9739 - val_loss: 0.3713 - val_accuracy: 0.8332 - val_auc: 0.9247\n"
     ]
    }
   ],
   "source": [
    "history = model_gru.fit(X_train, y_train, validation_data=(X_val, y_val), epochs=100, batch_size=32, callbacks=[cp])"
   ]
  },
  {
   "cell_type": "code",
   "execution_count": 9,
   "metadata": {},
   "outputs": [
    {
     "data": {
      "image/png": "[encoded data removed]",
      "text/plain": [
       "<Figure size 1280x480 with 2 Axes>"
      ]
     },
     "metadata": {},
     "output_type": "display_data"
    }
   ],
   "source": [
    "# Plotting training and testing curves\n",
    "default_size = plt.rcParams['figure.figsize']\n",
    "fig = plt.figure(figsize=[default_size[0] * 2, default_size[1]])\n",
    "\n",
    "fig.add_subplot(1, 2, 1)\n",
    "plt.plot(history.history['accuracy'], label = 'accuracy')         \n",
    "plt.plot(history.history['val_accuracy'], label = 'val_accuracy')  \n",
    "plt.xlabel('Epoch')\n",
    "plt.ylabel('Accuracy')\n",
    "plt.title('Accuracy')\n",
    "plt.legend(loc='lower right')\n",
    "\n",
    "fig.add_subplot(1, 2, 2)\n",
    "plt.plot(history.history['loss'], label='loss')         \n",
    "plt.plot(history.history['val_loss'], label='val_loss')  \n",
    "plt.xlabel('Epoch')\n",
    "plt.ylabel('Loss')\n",
    "plt.title('Loss')\n",
    "plt.legend(loc='upper right')\n",
    "plt.show()"
   ]
  },
  {
   "cell_type": "markdown",
   "metadata": {},
   "source": [
    "## LSTM"
   ]
  },
  {
   "cell_type": "code",
   "execution_count": 10,
   "metadata": {},
   "outputs": [
    {
     "name": "stdout",
     "output_type": "stream",
     "text": [
      "Model: \"sequential_1\"\n",
      "_________________________________________________________________\n",
      " Layer (type)                Output Shape              Param #   \n",
      "=================================================================\n",
      " lstm (LSTM)                 (None, 60, 64)            29440     \n",
      "                                                                 \n",
      " dropout_3 (Dropout)         (None, 60, 64)            0         \n",
      "                                                                 \n",
      " lstm_1 (LSTM)               (None, 60, 64)            33024     \n",
      "                                                                 \n",
      " dropout_4 (Dropout)         (None, 60, 64)            0         \n",
      "                                                                 \n",
      " lstm_2 (LSTM)               (None, 60, 64)            33024     \n",
      "                                                                 \n",
      " dropout_5 (Dropout)         (None, 60, 64)            0         \n",
      "                                                                 \n",
      " global_max_pooling1d_1 (Glo  (None, 64)               0         \n",
      " balMaxPooling1D)                                                \n",
      "                                                                 \n",
      " dense_1 (Dense)             (None, 1)                 65        \n",
      "                                                                 \n",
      "=================================================================\n",
      "Total params: 95,553\n",
      "Trainable params: 95,553\n",
      "Non-trainable params: 0\n",
      "_________________________________________________________________\n"
     ]
    },
    {
     "name": "stderr",
     "output_type": "stream",
     "text": [
      "2024-03-29 17:08:12.272391: W tensorflow/tsl/framework/cpu_allocator_impl.cc:82] Allocation of 409332000 exceeds 10% of free system memory.\n"
     ]
    },
    {
     "name": "stdout",
     "output_type": "stream",
     "text": [
      "Epoch 1/100\n",
      "1063/1066 [============================>.] - ETA: 0s - loss: 0.5957 - accuracy: 0.6824 - auc: 0.7459"
     ]
    },
    {
     "name": "stderr",
     "output_type": "stream",
     "text": [
      "WARNING:absl:Found untraced functions such as lstm_cell_layer_call_fn, lstm_cell_layer_call_and_return_conditional_losses, lstm_cell_1_layer_call_fn, lstm_cell_1_layer_call_and_return_conditional_losses, lstm_cell_2_layer_call_fn while saving (showing 5 of 6). These functions will not be directly callable after loading.\n"
     ]
    },
    {
     "name": "stdout",
     "output_type": "stream",
     "text": [
      "INFO:tensorflow:Assets written to: /home/developer/Documents/Master/TFM/models/model_lstm/assets\n"
     ]
    },
    {
     "name": "stderr",
     "output_type": "stream",
     "text": [
      "INFO:tensorflow:Assets written to: /home/developer/Documents/Master/TFM/models/model_lstm/assets\n"
     ]
    },
    {
     "name": "stdout",
     "output_type": "stream",
     "text": [
      "1066/1066 [==============================] - 25s 20ms/step - loss: 0.5956 - accuracy: 0.6824 - auc: 0.7460 - val_loss: 0.5720 - val_accuracy: 0.7220 - val_auc: 0.7981\n",
      "Epoch 2/100\n",
      "1065/1066 [============================>.] - ETA: 0s - loss: 0.5379 - accuracy: 0.7241 - auc: 0.8040"
     ]
    },
    {
     "name": "stderr",
     "output_type": "stream",
     "text": [
      "WARNING:absl:Found untraced functions such as lstm_cell_layer_call_fn, lstm_cell_layer_call_and_return_conditional_losses, lstm_cell_1_layer_call_fn, lstm_cell_1_layer_call_and_return_conditional_losses, lstm_cell_2_layer_call_fn while saving (showing 5 of 6). These functions will not be directly callable after loading.\n"
     ]
    },
    {
     "name": "stdout",
     "output_type": "stream",
     "text": [
      "INFO:tensorflow:Assets written to: /home/developer/Documents/Master/TFM/models/model_lstm/assets\n"
     ]
    },
    {
     "name": "stderr",
     "output_type": "stream",
     "text": [
      "INFO:tensorflow:Assets written to: /home/developer/Documents/Master/TFM/models/model_lstm/assets\n"
     ]
    },
    {
     "name": "stdout",
     "output_type": "stream",
     "text": [
      "1066/1066 [==============================] - 21s 20ms/step - loss: 0.5378 - accuracy: 0.7240 - auc: 0.8040 - val_loss: 0.5470 - val_accuracy: 0.7372 - val_auc: 0.8197\n",
      "Epoch 3/100\n",
      "1065/1066 [============================>.] - ETA: 0s - loss: 0.5164 - accuracy: 0.7359 - auc: 0.8213"
     ]
    },
    {
     "name": "stderr",
     "output_type": "stream",
     "text": [
      "WARNING:absl:Found untraced functions such as lstm_cell_layer_call_fn, lstm_cell_layer_call_and_return_conditional_losses, lstm_cell_1_layer_call_fn, lstm_cell_1_layer_call_and_return_conditional_losses, lstm_cell_2_layer_call_fn while saving (showing 5 of 6). These functions will not be directly callable after loading.\n"
     ]
    },
    {
     "name": "stdout",
     "output_type": "stream",
     "text": [
      "INFO:tensorflow:Assets written to: /home/developer/Documents/Master/TFM/models/model_lstm/assets\n"
     ]
    },
    {
     "name": "stderr",
     "output_type": "stream",
     "text": [
      "INFO:tensorflow:Assets written to: /home/developer/Documents/Master/TFM/models/model_lstm/assets\n"
     ]
    },
    {
     "name": "stdout",
     "output_type": "stream",
     "text": [
      "1066/1066 [==============================] - 19s 18ms/step - loss: 0.5164 - accuracy: 0.7360 - auc: 0.8213 - val_loss: 0.5377 - val_accuracy: 0.7435 - val_auc: 0.8307\n",
      "Epoch 4/100\n",
      "1066/1066 [==============================] - ETA: 0s - loss: 0.5011 - accuracy: 0.7431 - auc: 0.8331"
     ]
    },
    {
     "name": "stderr",
     "output_type": "stream",
     "text": [
      "WARNING:absl:Found untraced functions such as lstm_cell_layer_call_fn, lstm_cell_layer_call_and_return_conditional_losses, lstm_cell_1_layer_call_fn, lstm_cell_1_layer_call_and_return_conditional_losses, lstm_cell_2_layer_call_fn while saving (showing 5 of 6). These functions will not be directly callable after loading.\n"
     ]
    },
    {
     "name": "stdout",
     "output_type": "stream",
     "text": [
      "INFO:tensorflow:Assets written to: /home/developer/Documents/Master/TFM/models/model_lstm/assets\n"
     ]
    },
    {
     "name": "stderr",
     "output_type": "stream",
     "text": [
      "INFO:tensorflow:Assets written to: /home/developer/Documents/Master/TFM/models/model_lstm/assets\n"
     ]
    },
    {
     "name": "stdout",
     "output_type": "stream",
     "text": [
      "1066/1066 [==============================] - 19s 18ms/step - loss: 0.5011 - accuracy: 0.7431 - auc: 0.8331 - val_loss: 0.5214 - val_accuracy: 0.7490 - val_auc: 0.8408\n",
      "Epoch 5/100\n",
      "1062/1066 [============================>.] - ETA: 0s - loss: 0.4873 - accuracy: 0.7506 - auc: 0.8429"
     ]
    },
    {
     "name": "stderr",
     "output_type": "stream",
     "text": [
      "WARNING:absl:Found untraced functions such as lstm_cell_layer_call_fn, lstm_cell_layer_call_and_return_conditional_losses, lstm_cell_1_layer_call_fn, lstm_cell_1_layer_call_and_return_conditional_losses, lstm_cell_2_layer_call_fn while saving (showing 5 of 6). These functions will not be directly callable after loading.\n"
     ]
    },
    {
     "name": "stdout",
     "output_type": "stream",
     "text": [
      "INFO:tensorflow:Assets written to: /home/developer/Documents/Master/TFM/models/model_lstm/assets\n"
     ]
    },
    {
     "name": "stderr",
     "output_type": "stream",
     "text": [
      "INFO:tensorflow:Assets written to: /home/developer/Documents/Master/TFM/models/model_lstm/assets\n"
     ]
    },
    {
     "name": "stdout",
     "output_type": "stream",
     "text": [
      "1066/1066 [==============================] - 17s 16ms/step - loss: 0.4874 - accuracy: 0.7504 - auc: 0.8428 - val_loss: 0.5073 - val_accuracy: 0.7570 - val_auc: 0.8488\n",
      "Epoch 6/100\n",
      "1065/1066 [============================>.] - ETA: 0s - loss: 0.4730 - accuracy: 0.7570 - auc: 0.8522"
     ]
    },
    {
     "name": "stderr",
     "output_type": "stream",
     "text": [
      "WARNING:absl:Found untraced functions such as lstm_cell_layer_call_fn, lstm_cell_layer_call_and_return_conditional_losses, lstm_cell_1_layer_call_fn, lstm_cell_1_layer_call_and_return_conditional_losses, lstm_cell_2_layer_call_fn while saving (showing 5 of 6). These functions will not be directly callable after loading.\n"
     ]
    },
    {
     "name": "stdout",
     "output_type": "stream",
     "text": [
      "INFO:tensorflow:Assets written to: /home/developer/Documents/Master/TFM/models/model_lstm/assets\n"
     ]
    },
    {
     "name": "stderr",
     "output_type": "stream",
     "text": [
      "INFO:tensorflow:Assets written to: /home/developer/Documents/Master/TFM/models/model_lstm/assets\n"
     ]
    },
    {
     "name": "stdout",
     "output_type": "stream",
     "text": [
      "1066/1066 [==============================] - 18s 17ms/step - loss: 0.4730 - accuracy: 0.7570 - auc: 0.8521 - val_loss: 0.4969 - val_accuracy: 0.7596 - val_auc: 0.8573\n",
      "Epoch 7/100\n",
      "1061/1066 [============================>.] - ETA: 0s - loss: 0.4615 - accuracy: 0.7656 - auc: 0.8602"
     ]
    },
    {
     "name": "stderr",
     "output_type": "stream",
     "text": [
      "WARNING:absl:Found untraced functions such as lstm_cell_layer_call_fn, lstm_cell_layer_call_and_return_conditional_losses, lstm_cell_1_layer_call_fn, lstm_cell_1_layer_call_and_return_conditional_losses, lstm_cell_2_layer_call_fn while saving (showing 5 of 6). These functions will not be directly callable after loading.\n"
     ]
    },
    {
     "name": "stdout",
     "output_type": "stream",
     "text": [
      "INFO:tensorflow:Assets written to: /home/developer/Documents/Master/TFM/models/model_lstm/assets\n"
     ]
    },
    {
     "name": "stderr",
     "output_type": "stream",
     "text": [
      "INFO:tensorflow:Assets written to: /home/developer/Documents/Master/TFM/models/model_lstm/assets\n"
     ]
    },
    {
     "name": "stdout",
     "output_type": "stream",
     "text": [
      "1066/1066 [==============================] - 17s 16ms/step - loss: 0.4615 - accuracy: 0.7654 - auc: 0.8602 - val_loss: 0.4842 - val_accuracy: 0.7666 - val_auc: 0.8617\n",
      "Epoch 8/100\n",
      "1064/1066 [============================>.] - ETA: 0s - loss: 0.4533 - accuracy: 0.7688 - auc: 0.8653"
     ]
    },
    {
     "name": "stderr",
     "output_type": "stream",
     "text": [
      "WARNING:absl:Found untraced functions such as lstm_cell_layer_call_fn, lstm_cell_layer_call_and_return_conditional_losses, lstm_cell_1_layer_call_fn, lstm_cell_1_layer_call_and_return_conditional_losses, lstm_cell_2_layer_call_fn while saving (showing 5 of 6). These functions will not be directly callable after loading.\n"
     ]
    },
    {
     "name": "stdout",
     "output_type": "stream",
     "text": [
      "INFO:tensorflow:Assets written to: /home/developer/Documents/Master/TFM/models/model_lstm/assets\n"
     ]
    },
    {
     "name": "stderr",
     "output_type": "stream",
     "text": [
      "INFO:tensorflow:Assets written to: /home/developer/Documents/Master/TFM/models/model_lstm/assets\n"
     ]
    },
    {
     "name": "stdout",
     "output_type": "stream",
     "text": [
      "1066/1066 [==============================] - 18s 17ms/step - loss: 0.4532 - accuracy: 0.7688 - auc: 0.8653 - val_loss: 0.4840 - val_accuracy: 0.7570 - val_auc: 0.8638\n",
      "Epoch 9/100\n",
      "1066/1066 [==============================] - ETA: 0s - loss: 0.4458 - accuracy: 0.7739 - auc: 0.8702"
     ]
    },
    {
     "name": "stderr",
     "output_type": "stream",
     "text": [
      "WARNING:absl:Found untraced functions such as lstm_cell_layer_call_fn, lstm_cell_layer_call_and_return_conditional_losses, lstm_cell_1_layer_call_fn, lstm_cell_1_layer_call_and_return_conditional_losses, lstm_cell_2_layer_call_fn while saving (showing 5 of 6). These functions will not be directly callable after loading.\n"
     ]
    },
    {
     "name": "stdout",
     "output_type": "stream",
     "text": [
      "INFO:tensorflow:Assets written to: /home/developer/Documents/Master/TFM/models/model_lstm/assets\n"
     ]
    },
    {
     "name": "stderr",
     "output_type": "stream",
     "text": [
      "INFO:tensorflow:Assets written to: /home/developer/Documents/Master/TFM/models/model_lstm/assets\n"
     ]
    },
    {
     "name": "stdout",
     "output_type": "stream",
     "text": [
      "1066/1066 [==============================] - 17s 16ms/step - loss: 0.4458 - accuracy: 0.7739 - auc: 0.8702 - val_loss: 0.4684 - val_accuracy: 0.7750 - val_auc: 0.8716\n",
      "Epoch 10/100\n",
      "1066/1066 [==============================] - 11s 10ms/step - loss: 0.4376 - accuracy: 0.7779 - auc: 0.8753 - val_loss: 0.4770 - val_accuracy: 0.7732 - val_auc: 0.8721\n",
      "Epoch 11/100\n",
      "1065/1066 [============================>.] - ETA: 0s - loss: 0.4314 - accuracy: 0.7841 - auc: 0.8796"
     ]
    },
    {
     "name": "stderr",
     "output_type": "stream",
     "text": [
      "WARNING:absl:Found untraced functions such as lstm_cell_layer_call_fn, lstm_cell_layer_call_and_return_conditional_losses, lstm_cell_1_layer_call_fn, lstm_cell_1_layer_call_and_return_conditional_losses, lstm_cell_2_layer_call_fn while saving (showing 5 of 6). These functions will not be directly callable after loading.\n"
     ]
    },
    {
     "name": "stdout",
     "output_type": "stream",
     "text": [
      "INFO:tensorflow:Assets written to: /home/developer/Documents/Master/TFM/models/model_lstm/assets\n"
     ]
    },
    {
     "name": "stderr",
     "output_type": "stream",
     "text": [
      "INFO:tensorflow:Assets written to: /home/developer/Documents/Master/TFM/models/model_lstm/assets\n"
     ]
    },
    {
     "name": "stdout",
     "output_type": "stream",
     "text": [
      "1066/1066 [==============================] - 18s 17ms/step - loss: 0.4314 - accuracy: 0.7842 - auc: 0.8796 - val_loss: 0.4615 - val_accuracy: 0.7780 - val_auc: 0.8784\n",
      "Epoch 12/100\n",
      "1066/1066 [==============================] - 11s 10ms/step - loss: 0.4242 - accuracy: 0.7860 - auc: 0.8833 - val_loss: 0.4628 - val_accuracy: 0.7741 - val_auc: 0.8762\n",
      "Epoch 13/100\n",
      "1063/1066 [============================>.] - ETA: 0s - loss: 0.4193 - accuracy: 0.7905 - auc: 0.8868"
     ]
    },
    {
     "name": "stderr",
     "output_type": "stream",
     "text": [
      "WARNING:absl:Found untraced functions such as lstm_cell_layer_call_fn, lstm_cell_layer_call_and_return_conditional_losses, lstm_cell_1_layer_call_fn, lstm_cell_1_layer_call_and_return_conditional_losses, lstm_cell_2_layer_call_fn while saving (showing 5 of 6). These functions will not be directly callable after loading.\n"
     ]
    },
    {
     "name": "stdout",
     "output_type": "stream",
     "text": [
      "INFO:tensorflow:Assets written to: /home/developer/Documents/Master/TFM/models/model_lstm/assets\n"
     ]
    },
    {
     "name": "stderr",
     "output_type": "stream",
     "text": [
      "INFO:tensorflow:Assets written to: /home/developer/Documents/Master/TFM/models/model_lstm/assets\n"
     ]
    },
    {
     "name": "stdout",
     "output_type": "stream",
     "text": [
      "1066/1066 [==============================] - 18s 16ms/step - loss: 0.4192 - accuracy: 0.7905 - auc: 0.8868 - val_loss: 0.4460 - val_accuracy: 0.7795 - val_auc: 0.8823\n",
      "Epoch 14/100\n",
      "1066/1066 [==============================] - 11s 10ms/step - loss: 0.4141 - accuracy: 0.7931 - auc: 0.8892 - val_loss: 0.4602 - val_accuracy: 0.7767 - val_auc: 0.8790\n",
      "Epoch 15/100\n",
      "1064/1066 [============================>.] - ETA: 0s - loss: 0.4084 - accuracy: 0.7953 - auc: 0.8926"
     ]
    },
    {
     "name": "stderr",
     "output_type": "stream",
     "text": [
      "WARNING:absl:Found untraced functions such as lstm_cell_layer_call_fn, lstm_cell_layer_call_and_return_conditional_losses, lstm_cell_1_layer_call_fn, lstm_cell_1_layer_call_and_return_conditional_losses, lstm_cell_2_layer_call_fn while saving (showing 5 of 6). These functions will not be directly callable after loading.\n"
     ]
    },
    {
     "name": "stdout",
     "output_type": "stream",
     "text": [
      "INFO:tensorflow:Assets written to: /home/developer/Documents/Master/TFM/models/model_lstm/assets\n"
     ]
    },
    {
     "name": "stderr",
     "output_type": "stream",
     "text": [
      "INFO:tensorflow:Assets written to: /home/developer/Documents/Master/TFM/models/model_lstm/assets\n"
     ]
    },
    {
     "name": "stdout",
     "output_type": "stream",
     "text": [
      "1066/1066 [==============================] - 17s 16ms/step - loss: 0.4084 - accuracy: 0.7954 - auc: 0.8927 - val_loss: 0.4460 - val_accuracy: 0.7859 - val_auc: 0.8870\n",
      "Epoch 16/100\n",
      "1064/1066 [============================>.] - ETA: 0s - loss: 0.4048 - accuracy: 0.7978 - auc: 0.8947"
     ]
    },
    {
     "name": "stderr",
     "output_type": "stream",
     "text": [
      "WARNING:absl:Found untraced functions such as lstm_cell_layer_call_fn, lstm_cell_layer_call_and_return_conditional_losses, lstm_cell_1_layer_call_fn, lstm_cell_1_layer_call_and_return_conditional_losses, lstm_cell_2_layer_call_fn while saving (showing 5 of 6). These functions will not be directly callable after loading.\n"
     ]
    },
    {
     "name": "stdout",
     "output_type": "stream",
     "text": [
      "INFO:tensorflow:Assets written to: /home/developer/Documents/Master/TFM/models/model_lstm/assets\n"
     ]
    },
    {
     "name": "stderr",
     "output_type": "stream",
     "text": [
      "INFO:tensorflow:Assets written to: /home/developer/Documents/Master/TFM/models/model_lstm/assets\n"
     ]
    },
    {
     "name": "stdout",
     "output_type": "stream",
     "text": [
      "1066/1066 [==============================] - 18s 17ms/step - loss: 0.4047 - accuracy: 0.7977 - auc: 0.8947 - val_loss: 0.4377 - val_accuracy: 0.7852 - val_auc: 0.8875\n",
      "Epoch 17/100\n",
      "1062/1066 [============================>.] - ETA: 0s - loss: 0.3990 - accuracy: 0.8017 - auc: 0.8979"
     ]
    },
    {
     "name": "stderr",
     "output_type": "stream",
     "text": [
      "WARNING:absl:Found untraced functions such as lstm_cell_layer_call_fn, lstm_cell_layer_call_and_return_conditional_losses, lstm_cell_1_layer_call_fn, lstm_cell_1_layer_call_and_return_conditional_losses, lstm_cell_2_layer_call_fn while saving (showing 5 of 6). These functions will not be directly callable after loading.\n"
     ]
    },
    {
     "name": "stdout",
     "output_type": "stream",
     "text": [
      "INFO:tensorflow:Assets written to: /home/developer/Documents/Master/TFM/models/model_lstm/assets\n"
     ]
    },
    {
     "name": "stderr",
     "output_type": "stream",
     "text": [
      "INFO:tensorflow:Assets written to: /home/developer/Documents/Master/TFM/models/model_lstm/assets\n"
     ]
    },
    {
     "name": "stdout",
     "output_type": "stream",
     "text": [
      "1066/1066 [==============================] - 17s 16ms/step - loss: 0.3987 - accuracy: 0.8019 - auc: 0.8981 - val_loss: 0.4298 - val_accuracy: 0.7900 - val_auc: 0.8915\n",
      "Epoch 18/100\n",
      "1066/1066 [==============================] - 11s 10ms/step - loss: 0.3938 - accuracy: 0.8022 - auc: 0.9003 - val_loss: 0.4343 - val_accuracy: 0.7929 - val_auc: 0.8916\n",
      "Epoch 19/100\n",
      "1066/1066 [==============================] - ETA: 0s - loss: 0.3893 - accuracy: 0.8055 - auc: 0.9026"
     ]
    },
    {
     "name": "stderr",
     "output_type": "stream",
     "text": [
      "WARNING:absl:Found untraced functions such as lstm_cell_layer_call_fn, lstm_cell_layer_call_and_return_conditional_losses, lstm_cell_1_layer_call_fn, lstm_cell_1_layer_call_and_return_conditional_losses, lstm_cell_2_layer_call_fn while saving (showing 5 of 6). These functions will not be directly callable after loading.\n"
     ]
    },
    {
     "name": "stdout",
     "output_type": "stream",
     "text": [
      "INFO:tensorflow:Assets written to: /home/developer/Documents/Master/TFM/models/model_lstm/assets\n"
     ]
    },
    {
     "name": "stderr",
     "output_type": "stream",
     "text": [
      "INFO:tensorflow:Assets written to: /home/developer/Documents/Master/TFM/models/model_lstm/assets\n"
     ]
    },
    {
     "name": "stdout",
     "output_type": "stream",
     "text": [
      "1066/1066 [==============================] - 17s 16ms/step - loss: 0.3893 - accuracy: 0.8055 - auc: 0.9026 - val_loss: 0.4242 - val_accuracy: 0.7923 - val_auc: 0.8938\n",
      "Epoch 20/100\n",
      "1066/1066 [==============================] - 11s 10ms/step - loss: 0.3871 - accuracy: 0.8058 - auc: 0.9038 - val_loss: 0.4348 - val_accuracy: 0.7938 - val_auc: 0.8944\n",
      "Epoch 21/100\n",
      "1066/1066 [==============================] - 11s 10ms/step - loss: 0.3804 - accuracy: 0.8103 - auc: 0.9075 - val_loss: 0.4351 - val_accuracy: 0.7910 - val_auc: 0.8960\n",
      "Epoch 22/100\n",
      "1064/1066 [============================>.] - ETA: 0s - loss: 0.3766 - accuracy: 0.8128 - auc: 0.9092"
     ]
    },
    {
     "name": "stderr",
     "output_type": "stream",
     "text": [
      "WARNING:absl:Found untraced functions such as lstm_cell_layer_call_fn, lstm_cell_layer_call_and_return_conditional_losses, lstm_cell_1_layer_call_fn, lstm_cell_1_layer_call_and_return_conditional_losses, lstm_cell_2_layer_call_fn while saving (showing 5 of 6). These functions will not be directly callable after loading.\n"
     ]
    },
    {
     "name": "stdout",
     "output_type": "stream",
     "text": [
      "INFO:tensorflow:Assets written to: /home/developer/Documents/Master/TFM/models/model_lstm/assets\n"
     ]
    },
    {
     "name": "stderr",
     "output_type": "stream",
     "text": [
      "INFO:tensorflow:Assets written to: /home/developer/Documents/Master/TFM/models/model_lstm/assets\n"
     ]
    },
    {
     "name": "stdout",
     "output_type": "stream",
     "text": [
      "1066/1066 [==============================] - 18s 17ms/step - loss: 0.3765 - accuracy: 0.8130 - auc: 0.9092 - val_loss: 0.4241 - val_accuracy: 0.7973 - val_auc: 0.8966\n",
      "Epoch 23/100\n",
      "1066/1066 [==============================] - 11s 10ms/step - loss: 0.3726 - accuracy: 0.8133 - auc: 0.9110 - val_loss: 0.4285 - val_accuracy: 0.7973 - val_auc: 0.8976\n",
      "Epoch 24/100\n",
      "1062/1066 [============================>.] - ETA: 0s - loss: 0.3674 - accuracy: 0.8179 - auc: 0.9137"
     ]
    },
    {
     "name": "stderr",
     "output_type": "stream",
     "text": [
      "WARNING:absl:Found untraced functions such as lstm_cell_layer_call_fn, lstm_cell_layer_call_and_return_conditional_losses, lstm_cell_1_layer_call_fn, lstm_cell_1_layer_call_and_return_conditional_losses, lstm_cell_2_layer_call_fn while saving (showing 5 of 6). These functions will not be directly callable after loading.\n"
     ]
    },
    {
     "name": "stdout",
     "output_type": "stream",
     "text": [
      "INFO:tensorflow:Assets written to: /home/developer/Documents/Master/TFM/models/model_lstm/assets\n"
     ]
    },
    {
     "name": "stderr",
     "output_type": "stream",
     "text": [
      "INFO:tensorflow:Assets written to: /home/developer/Documents/Master/TFM/models/model_lstm/assets\n"
     ]
    },
    {
     "name": "stdout",
     "output_type": "stream",
     "text": [
      "1066/1066 [==============================] - 16s 15ms/step - loss: 0.3676 - accuracy: 0.8176 - auc: 0.9136 - val_loss: 0.4197 - val_accuracy: 0.7903 - val_auc: 0.8977\n",
      "Epoch 25/100\n",
      "1061/1066 [============================>.] - ETA: 0s - loss: 0.3639 - accuracy: 0.8171 - auc: 0.9150"
     ]
    },
    {
     "name": "stderr",
     "output_type": "stream",
     "text": [
      "WARNING:absl:Found untraced functions such as lstm_cell_layer_call_fn, lstm_cell_layer_call_and_return_conditional_losses, lstm_cell_1_layer_call_fn, lstm_cell_1_layer_call_and_return_conditional_losses, lstm_cell_2_layer_call_fn while saving (showing 5 of 6). These functions will not be directly callable after loading.\n"
     ]
    },
    {
     "name": "stdout",
     "output_type": "stream",
     "text": [
      "INFO:tensorflow:Assets written to: /home/developer/Documents/Master/TFM/models/model_lstm/assets\n"
     ]
    },
    {
     "name": "stderr",
     "output_type": "stream",
     "text": [
      "INFO:tensorflow:Assets written to: /home/developer/Documents/Master/TFM/models/model_lstm/assets\n"
     ]
    },
    {
     "name": "stdout",
     "output_type": "stream",
     "text": [
      "1066/1066 [==============================] - 19s 18ms/step - loss: 0.3637 - accuracy: 0.8173 - auc: 0.9152 - val_loss: 0.4144 - val_accuracy: 0.7988 - val_auc: 0.9003\n",
      "Epoch 26/100\n",
      "1066/1066 [==============================] - 11s 11ms/step - loss: 0.3591 - accuracy: 0.8198 - auc: 0.9173 - val_loss: 0.4169 - val_accuracy: 0.7929 - val_auc: 0.8986\n",
      "Epoch 27/100\n",
      "1062/1066 [============================>.] - ETA: 0s - loss: 0.3541 - accuracy: 0.8233 - auc: 0.9199"
     ]
    },
    {
     "name": "stderr",
     "output_type": "stream",
     "text": [
      "WARNING:absl:Found untraced functions such as lstm_cell_layer_call_fn, lstm_cell_layer_call_and_return_conditional_losses, lstm_cell_1_layer_call_fn, lstm_cell_1_layer_call_and_return_conditional_losses, lstm_cell_2_layer_call_fn while saving (showing 5 of 6). These functions will not be directly callable after loading.\n"
     ]
    },
    {
     "name": "stdout",
     "output_type": "stream",
     "text": [
      "INFO:tensorflow:Assets written to: /home/developer/Documents/Master/TFM/models/model_lstm/assets\n"
     ]
    },
    {
     "name": "stderr",
     "output_type": "stream",
     "text": [
      "INFO:tensorflow:Assets written to: /home/developer/Documents/Master/TFM/models/model_lstm/assets\n"
     ]
    },
    {
     "name": "stdout",
     "output_type": "stream",
     "text": [
      "1066/1066 [==============================] - 21s 20ms/step - loss: 0.3541 - accuracy: 0.8233 - auc: 0.9199 - val_loss: 0.4079 - val_accuracy: 0.8015 - val_auc: 0.9016\n",
      "Epoch 28/100\n",
      "1062/1066 [============================>.] - ETA: 0s - loss: 0.3536 - accuracy: 0.8230 - auc: 0.9200"
     ]
    },
    {
     "name": "stderr",
     "output_type": "stream",
     "text": [
      "WARNING:absl:Found untraced functions such as lstm_cell_layer_call_fn, lstm_cell_layer_call_and_return_conditional_losses, lstm_cell_1_layer_call_fn, lstm_cell_1_layer_call_and_return_conditional_losses, lstm_cell_2_layer_call_fn while saving (showing 5 of 6). These functions will not be directly callable after loading.\n"
     ]
    },
    {
     "name": "stdout",
     "output_type": "stream",
     "text": [
      "INFO:tensorflow:Assets written to: /home/developer/Documents/Master/TFM/models/model_lstm/assets\n"
     ]
    },
    {
     "name": "stderr",
     "output_type": "stream",
     "text": [
      "INFO:tensorflow:Assets written to: /home/developer/Documents/Master/TFM/models/model_lstm/assets\n"
     ]
    },
    {
     "name": "stdout",
     "output_type": "stream",
     "text": [
      "1066/1066 [==============================] - 18s 17ms/step - loss: 0.3533 - accuracy: 0.8233 - auc: 0.9202 - val_loss: 0.4058 - val_accuracy: 0.7971 - val_auc: 0.9027\n",
      "Epoch 29/100\n",
      "1066/1066 [==============================] - 11s 11ms/step - loss: 0.3476 - accuracy: 0.8268 - auc: 0.9231 - val_loss: 0.4072 - val_accuracy: 0.8007 - val_auc: 0.9025\n",
      "Epoch 30/100\n",
      "1066/1066 [==============================] - 11s 10ms/step - loss: 0.3453 - accuracy: 0.8279 - auc: 0.9242 - val_loss: 0.4138 - val_accuracy: 0.7893 - val_auc: 0.8989\n",
      "Epoch 31/100\n",
      "1063/1066 [============================>.] - ETA: 0s - loss: 0.3442 - accuracy: 0.8271 - auc: 0.9243"
     ]
    },
    {
     "name": "stderr",
     "output_type": "stream",
     "text": [
      "WARNING:absl:Found untraced functions such as lstm_cell_layer_call_fn, lstm_cell_layer_call_and_return_conditional_losses, lstm_cell_1_layer_call_fn, lstm_cell_1_layer_call_and_return_conditional_losses, lstm_cell_2_layer_call_fn while saving (showing 5 of 6). These functions will not be directly callable after loading.\n"
     ]
    },
    {
     "name": "stdout",
     "output_type": "stream",
     "text": [
      "INFO:tensorflow:Assets written to: /home/developer/Documents/Master/TFM/models/model_lstm/assets\n"
     ]
    },
    {
     "name": "stderr",
     "output_type": "stream",
     "text": [
      "INFO:tensorflow:Assets written to: /home/developer/Documents/Master/TFM/models/model_lstm/assets\n"
     ]
    },
    {
     "name": "stdout",
     "output_type": "stream",
     "text": [
      "1066/1066 [==============================] - 19s 18ms/step - loss: 0.3442 - accuracy: 0.8271 - auc: 0.9243 - val_loss: 0.4047 - val_accuracy: 0.8008 - val_auc: 0.9044\n",
      "Epoch 32/100\n",
      "1063/1066 [============================>.] - ETA: 0s - loss: 0.3374 - accuracy: 0.8322 - auc: 0.9275"
     ]
    },
    {
     "name": "stderr",
     "output_type": "stream",
     "text": [
      "WARNING:absl:Found untraced functions such as lstm_cell_layer_call_fn, lstm_cell_layer_call_and_return_conditional_losses, lstm_cell_1_layer_call_fn, lstm_cell_1_layer_call_and_return_conditional_losses, lstm_cell_2_layer_call_fn while saving (showing 5 of 6). These functions will not be directly callable after loading.\n"
     ]
    },
    {
     "name": "stdout",
     "output_type": "stream",
     "text": [
      "INFO:tensorflow:Assets written to: /home/developer/Documents/Master/TFM/models/model_lstm/assets\n"
     ]
    },
    {
     "name": "stderr",
     "output_type": "stream",
     "text": [
      "INFO:tensorflow:Assets written to: /home/developer/Documents/Master/TFM/models/model_lstm/assets\n"
     ]
    },
    {
     "name": "stdout",
     "output_type": "stream",
     "text": [
      "1066/1066 [==============================] - 18s 16ms/step - loss: 0.3374 - accuracy: 0.8323 - auc: 0.9276 - val_loss: 0.3935 - val_accuracy: 0.8012 - val_auc: 0.9071\n",
      "Epoch 33/100\n",
      "1066/1066 [==============================] - 11s 10ms/step - loss: 0.3339 - accuracy: 0.8337 - auc: 0.9290 - val_loss: 0.4052 - val_accuracy: 0.8018 - val_auc: 0.9042\n",
      "Epoch 34/100\n",
      "1065/1066 [============================>.] - ETA: 0s - loss: 0.3308 - accuracy: 0.8367 - auc: 0.9306"
     ]
    },
    {
     "name": "stderr",
     "output_type": "stream",
     "text": [
      "WARNING:absl:Found untraced functions such as lstm_cell_layer_call_fn, lstm_cell_layer_call_and_return_conditional_losses, lstm_cell_1_layer_call_fn, lstm_cell_1_layer_call_and_return_conditional_losses, lstm_cell_2_layer_call_fn while saving (showing 5 of 6). These functions will not be directly callable after loading.\n"
     ]
    },
    {
     "name": "stdout",
     "output_type": "stream",
     "text": [
      "INFO:tensorflow:Assets written to: /home/developer/Documents/Master/TFM/models/model_lstm/assets\n"
     ]
    },
    {
     "name": "stderr",
     "output_type": "stream",
     "text": [
      "INFO:tensorflow:Assets written to: /home/developer/Documents/Master/TFM/models/model_lstm/assets\n"
     ]
    },
    {
     "name": "stdout",
     "output_type": "stream",
     "text": [
      "1066/1066 [==============================] - 18s 17ms/step - loss: 0.3307 - accuracy: 0.8368 - auc: 0.9307 - val_loss: 0.3859 - val_accuracy: 0.8053 - val_auc: 0.9102\n",
      "Epoch 35/100\n",
      "1066/1066 [==============================] - 11s 10ms/step - loss: 0.3266 - accuracy: 0.8369 - auc: 0.9321 - val_loss: 0.3897 - val_accuracy: 0.8094 - val_auc: 0.9097\n",
      "Epoch 36/100\n",
      "1066/1066 [==============================] - 11s 10ms/step - loss: 0.3251 - accuracy: 0.8396 - auc: 0.9331 - val_loss: 0.3973 - val_accuracy: 0.8064 - val_auc: 0.9068\n",
      "Epoch 37/100\n",
      "1064/1066 [============================>.] - ETA: 0s - loss: 0.3213 - accuracy: 0.8412 - auc: 0.9346"
     ]
    },
    {
     "name": "stderr",
     "output_type": "stream",
     "text": [
      "WARNING:absl:Found untraced functions such as lstm_cell_layer_call_fn, lstm_cell_layer_call_and_return_conditional_losses, lstm_cell_1_layer_call_fn, lstm_cell_1_layer_call_and_return_conditional_losses, lstm_cell_2_layer_call_fn while saving (showing 5 of 6). These functions will not be directly callable after loading.\n"
     ]
    },
    {
     "name": "stdout",
     "output_type": "stream",
     "text": [
      "INFO:tensorflow:Assets written to: /home/developer/Documents/Master/TFM/models/model_lstm/assets\n"
     ]
    },
    {
     "name": "stderr",
     "output_type": "stream",
     "text": [
      "INFO:tensorflow:Assets written to: /home/developer/Documents/Master/TFM/models/model_lstm/assets\n"
     ]
    },
    {
     "name": "stdout",
     "output_type": "stream",
     "text": [
      "1066/1066 [==============================] - 17s 16ms/step - loss: 0.3213 - accuracy: 0.8413 - auc: 0.9347 - val_loss: 0.3826 - val_accuracy: 0.8126 - val_auc: 0.9107\n",
      "Epoch 38/100\n",
      "1066/1066 [==============================] - 11s 10ms/step - loss: 0.3179 - accuracy: 0.8408 - auc: 0.9355 - val_loss: 0.3836 - val_accuracy: 0.8071 - val_auc: 0.9101\n",
      "Epoch 39/100\n",
      "1066/1066 [==============================] - 11s 10ms/step - loss: 0.3140 - accuracy: 0.8445 - auc: 0.9374 - val_loss: 0.3842 - val_accuracy: 0.8090 - val_auc: 0.9096\n",
      "Epoch 40/100\n",
      "1061/1066 [============================>.] - ETA: 0s - loss: 0.3109 - accuracy: 0.8465 - auc: 0.9388"
     ]
    },
    {
     "name": "stderr",
     "output_type": "stream",
     "text": [
      "WARNING:absl:Found untraced functions such as lstm_cell_layer_call_fn, lstm_cell_layer_call_and_return_conditional_losses, lstm_cell_1_layer_call_fn, lstm_cell_1_layer_call_and_return_conditional_losses, lstm_cell_2_layer_call_fn while saving (showing 5 of 6). These functions will not be directly callable after loading.\n"
     ]
    },
    {
     "name": "stdout",
     "output_type": "stream",
     "text": [
      "INFO:tensorflow:Assets written to: /home/developer/Documents/Master/TFM/models/model_lstm/assets\n"
     ]
    },
    {
     "name": "stderr",
     "output_type": "stream",
     "text": [
      "INFO:tensorflow:Assets written to: /home/developer/Documents/Master/TFM/models/model_lstm/assets\n"
     ]
    },
    {
     "name": "stdout",
     "output_type": "stream",
     "text": [
      "1066/1066 [==============================] - 18s 17ms/step - loss: 0.3109 - accuracy: 0.8464 - auc: 0.9387 - val_loss: 0.3801 - val_accuracy: 0.8108 - val_auc: 0.9114\n",
      "Epoch 41/100\n",
      "1066/1066 [==============================] - 11s 10ms/step - loss: 0.3073 - accuracy: 0.8493 - auc: 0.9404 - val_loss: 0.3813 - val_accuracy: 0.8100 - val_auc: 0.9124\n",
      "Epoch 42/100\n",
      "1061/1066 [============================>.] - ETA: 0s - loss: 0.3049 - accuracy: 0.8489 - auc: 0.9409"
     ]
    },
    {
     "name": "stderr",
     "output_type": "stream",
     "text": [
      "WARNING:absl:Found untraced functions such as lstm_cell_layer_call_fn, lstm_cell_layer_call_and_return_conditional_losses, lstm_cell_1_layer_call_fn, lstm_cell_1_layer_call_and_return_conditional_losses, lstm_cell_2_layer_call_fn while saving (showing 5 of 6). These functions will not be directly callable after loading.\n"
     ]
    },
    {
     "name": "stdout",
     "output_type": "stream",
     "text": [
      "INFO:tensorflow:Assets written to: /home/developer/Documents/Master/TFM/models/model_lstm/assets\n"
     ]
    },
    {
     "name": "stderr",
     "output_type": "stream",
     "text": [
      "INFO:tensorflow:Assets written to: /home/developer/Documents/Master/TFM/models/model_lstm/assets\n"
     ]
    },
    {
     "name": "stdout",
     "output_type": "stream",
     "text": [
      "1066/1066 [==============================] - 18s 17ms/step - loss: 0.3047 - accuracy: 0.8489 - auc: 0.9409 - val_loss: 0.3787 - val_accuracy: 0.8105 - val_auc: 0.9116\n",
      "Epoch 43/100\n",
      "1066/1066 [==============================] - 11s 10ms/step - loss: 0.3022 - accuracy: 0.8507 - auc: 0.9420 - val_loss: 0.3869 - val_accuracy: 0.8059 - val_auc: 0.9095\n",
      "Epoch 44/100\n",
      "1066/1066 [==============================] - 11s 10ms/step - loss: 0.2971 - accuracy: 0.8546 - auc: 0.9443 - val_loss: 0.3947 - val_accuracy: 0.7986 - val_auc: 0.9064\n",
      "Epoch 45/100\n",
      "1062/1066 [============================>.] - ETA: 0s - loss: 0.2936 - accuracy: 0.8550 - auc: 0.9456"
     ]
    },
    {
     "name": "stderr",
     "output_type": "stream",
     "text": [
      "WARNING:absl:Found untraced functions such as lstm_cell_layer_call_fn, lstm_cell_layer_call_and_return_conditional_losses, lstm_cell_1_layer_call_fn, lstm_cell_1_layer_call_and_return_conditional_losses, lstm_cell_2_layer_call_fn while saving (showing 5 of 6). These functions will not be directly callable after loading.\n"
     ]
    },
    {
     "name": "stdout",
     "output_type": "stream",
     "text": [
      "INFO:tensorflow:Assets written to: /home/developer/Documents/Master/TFM/models/model_lstm/assets\n"
     ]
    },
    {
     "name": "stderr",
     "output_type": "stream",
     "text": [
      "INFO:tensorflow:Assets written to: /home/developer/Documents/Master/TFM/models/model_lstm/assets\n"
     ]
    },
    {
     "name": "stdout",
     "output_type": "stream",
     "text": [
      "1066/1066 [==============================] - 18s 17ms/step - loss: 0.2935 - accuracy: 0.8551 - auc: 0.9456 - val_loss: 0.3737 - val_accuracy: 0.8126 - val_auc: 0.9143\n",
      "Epoch 46/100\n",
      "1066/1066 [==============================] - 11s 10ms/step - loss: 0.2947 - accuracy: 0.8576 - auc: 0.9454 - val_loss: 0.3879 - val_accuracy: 0.8063 - val_auc: 0.9091\n",
      "Epoch 47/100\n",
      "1066/1066 [==============================] - 11s 10ms/step - loss: 0.2909 - accuracy: 0.8586 - auc: 0.9468 - val_loss: 0.3888 - val_accuracy: 0.8093 - val_auc: 0.9092\n",
      "Epoch 48/100\n",
      "1065/1066 [============================>.] - ETA: 0s - loss: 0.2852 - accuracy: 0.8617 - auc: 0.9489"
     ]
    },
    {
     "name": "stderr",
     "output_type": "stream",
     "text": [
      "WARNING:absl:Found untraced functions such as lstm_cell_layer_call_fn, lstm_cell_layer_call_and_return_conditional_losses, lstm_cell_1_layer_call_fn, lstm_cell_1_layer_call_and_return_conditional_losses, lstm_cell_2_layer_call_fn while saving (showing 5 of 6). These functions will not be directly callable after loading.\n"
     ]
    },
    {
     "name": "stdout",
     "output_type": "stream",
     "text": [
      "INFO:tensorflow:Assets written to: /home/developer/Documents/Master/TFM/models/model_lstm/assets\n"
     ]
    },
    {
     "name": "stderr",
     "output_type": "stream",
     "text": [
      "INFO:tensorflow:Assets written to: /home/developer/Documents/Master/TFM/models/model_lstm/assets\n"
     ]
    },
    {
     "name": "stdout",
     "output_type": "stream",
     "text": [
      "1066/1066 [==============================] - 17s 16ms/step - loss: 0.2854 - accuracy: 0.8617 - auc: 0.9488 - val_loss: 0.3677 - val_accuracy: 0.8204 - val_auc: 0.9179\n",
      "Epoch 49/100\n",
      "1066/1066 [==============================] - 11s 10ms/step - loss: 0.2855 - accuracy: 0.8612 - auc: 0.9488 - val_loss: 0.3743 - val_accuracy: 0.8187 - val_auc: 0.9159\n",
      "Epoch 50/100\n",
      "1065/1066 [============================>.] - ETA: 0s - loss: 0.2812 - accuracy: 0.8624 - auc: 0.9502"
     ]
    },
    {
     "name": "stderr",
     "output_type": "stream",
     "text": [
      "WARNING:absl:Found untraced functions such as lstm_cell_layer_call_fn, lstm_cell_layer_call_and_return_conditional_losses, lstm_cell_1_layer_call_fn, lstm_cell_1_layer_call_and_return_conditional_losses, lstm_cell_2_layer_call_fn while saving (showing 5 of 6). These functions will not be directly callable after loading.\n"
     ]
    },
    {
     "name": "stdout",
     "output_type": "stream",
     "text": [
      "INFO:tensorflow:Assets written to: /home/developer/Documents/Master/TFM/models/model_lstm/assets\n"
     ]
    },
    {
     "name": "stderr",
     "output_type": "stream",
     "text": [
      "INFO:tensorflow:Assets written to: /home/developer/Documents/Master/TFM/models/model_lstm/assets\n"
     ]
    },
    {
     "name": "stdout",
     "output_type": "stream",
     "text": [
      "1066/1066 [==============================] - 19s 17ms/step - loss: 0.2812 - accuracy: 0.8624 - auc: 0.9502 - val_loss: 0.3665 - val_accuracy: 0.8194 - val_auc: 0.9185\n",
      "Epoch 51/100\n",
      "1066/1066 [==============================] - 11s 10ms/step - loss: 0.2784 - accuracy: 0.8641 - auc: 0.9514 - val_loss: 0.3701 - val_accuracy: 0.8120 - val_auc: 0.9143\n",
      "Epoch 52/100\n",
      "1066/1066 [==============================] - 12s 11ms/step - loss: 0.2766 - accuracy: 0.8661 - auc: 0.9521 - val_loss: 0.3688 - val_accuracy: 0.8192 - val_auc: 0.9163\n",
      "Epoch 53/100\n",
      "1066/1066 [==============================] - 12s 11ms/step - loss: 0.2747 - accuracy: 0.8659 - auc: 0.9526 - val_loss: 0.3750 - val_accuracy: 0.8115 - val_auc: 0.9144\n",
      "Epoch 54/100\n",
      "1063/1066 [============================>.] - ETA: 0s - loss: 0.2711 - accuracy: 0.8693 - auc: 0.9540"
     ]
    },
    {
     "name": "stderr",
     "output_type": "stream",
     "text": [
      "WARNING:absl:Found untraced functions such as lstm_cell_layer_call_fn, lstm_cell_layer_call_and_return_conditional_losses, lstm_cell_1_layer_call_fn, lstm_cell_1_layer_call_and_return_conditional_losses, lstm_cell_2_layer_call_fn while saving (showing 5 of 6). These functions will not be directly callable after loading.\n"
     ]
    },
    {
     "name": "stdout",
     "output_type": "stream",
     "text": [
      "INFO:tensorflow:Assets written to: /home/developer/Documents/Master/TFM/models/model_lstm/assets\n"
     ]
    },
    {
     "name": "stderr",
     "output_type": "stream",
     "text": [
      "INFO:tensorflow:Assets written to: /home/developer/Documents/Master/TFM/models/model_lstm/assets\n"
     ]
    },
    {
     "name": "stdout",
     "output_type": "stream",
     "text": [
      "1066/1066 [==============================] - 22s 21ms/step - loss: 0.2711 - accuracy: 0.8693 - auc: 0.9540 - val_loss: 0.3624 - val_accuracy: 0.8218 - val_auc: 0.9192\n",
      "Epoch 55/100\n",
      "1066/1066 [==============================] - 12s 11ms/step - loss: 0.2683 - accuracy: 0.8701 - auc: 0.9549 - val_loss: 0.3740 - val_accuracy: 0.8138 - val_auc: 0.9145\n",
      "Epoch 56/100\n",
      "1066/1066 [==============================] - 12s 11ms/step - loss: 0.2689 - accuracy: 0.8698 - auc: 0.9545 - val_loss: 0.3660 - val_accuracy: 0.8187 - val_auc: 0.9166\n",
      "Epoch 57/100\n",
      "1066/1066 [==============================] - 12s 11ms/step - loss: 0.2643 - accuracy: 0.8717 - auc: 0.9562 - val_loss: 0.3671 - val_accuracy: 0.8116 - val_auc: 0.9151\n",
      "Epoch 58/100\n",
      "1065/1066 [============================>.] - ETA: 0s - loss: 0.2620 - accuracy: 0.8737 - auc: 0.9571"
     ]
    },
    {
     "name": "stderr",
     "output_type": "stream",
     "text": [
      "WARNING:absl:Found untraced functions such as lstm_cell_layer_call_fn, lstm_cell_layer_call_and_return_conditional_losses, lstm_cell_1_layer_call_fn, lstm_cell_1_layer_call_and_return_conditional_losses, lstm_cell_2_layer_call_fn while saving (showing 5 of 6). These functions will not be directly callable after loading.\n"
     ]
    },
    {
     "name": "stdout",
     "output_type": "stream",
     "text": [
      "INFO:tensorflow:Assets written to: /home/developer/Documents/Master/TFM/models/model_lstm/assets\n"
     ]
    },
    {
     "name": "stderr",
     "output_type": "stream",
     "text": [
      "INFO:tensorflow:Assets written to: /home/developer/Documents/Master/TFM/models/model_lstm/assets\n"
     ]
    },
    {
     "name": "stdout",
     "output_type": "stream",
     "text": [
      "1066/1066 [==============================] - 18s 17ms/step - loss: 0.2620 - accuracy: 0.8737 - auc: 0.9572 - val_loss: 0.3590 - val_accuracy: 0.8212 - val_auc: 0.9196\n",
      "Epoch 59/100\n",
      "1066/1066 [==============================] - 11s 10ms/step - loss: 0.2590 - accuracy: 0.8747 - auc: 0.9579 - val_loss: 0.3826 - val_accuracy: 0.8086 - val_auc: 0.9112\n",
      "Epoch 60/100\n",
      "1066/1066 [==============================] - 11s 10ms/step - loss: 0.2551 - accuracy: 0.8768 - auc: 0.9591 - val_loss: 0.3740 - val_accuracy: 0.8153 - val_auc: 0.9142\n",
      "Epoch 61/100\n",
      "1066/1066 [==============================] - 11s 10ms/step - loss: 0.2547 - accuracy: 0.8769 - auc: 0.9594 - val_loss: 0.3615 - val_accuracy: 0.8249 - val_auc: 0.9197\n",
      "Epoch 62/100\n",
      "1066/1066 [==============================] - 11s 10ms/step - loss: 0.2499 - accuracy: 0.8791 - auc: 0.9608 - val_loss: 0.3706 - val_accuracy: 0.8148 - val_auc: 0.9161\n",
      "Epoch 63/100\n",
      "1064/1066 [============================>.] - ETA: 0s - loss: 0.2521 - accuracy: 0.8786 - auc: 0.9601"
     ]
    },
    {
     "name": "stderr",
     "output_type": "stream",
     "text": [
      "WARNING:absl:Found untraced functions such as lstm_cell_layer_call_fn, lstm_cell_layer_call_and_return_conditional_losses, lstm_cell_1_layer_call_fn, lstm_cell_1_layer_call_and_return_conditional_losses, lstm_cell_2_layer_call_fn while saving (showing 5 of 6). These functions will not be directly callable after loading.\n"
     ]
    },
    {
     "name": "stdout",
     "output_type": "stream",
     "text": [
      "INFO:tensorflow:Assets written to: /home/developer/Documents/Master/TFM/models/model_lstm/assets\n"
     ]
    },
    {
     "name": "stderr",
     "output_type": "stream",
     "text": [
      "INFO:tensorflow:Assets written to: /home/developer/Documents/Master/TFM/models/model_lstm/assets\n"
     ]
    },
    {
     "name": "stdout",
     "output_type": "stream",
     "text": [
      "1066/1066 [==============================] - 19s 18ms/step - loss: 0.2522 - accuracy: 0.8785 - auc: 0.9601 - val_loss: 0.3532 - val_accuracy: 0.8219 - val_auc: 0.9212\n",
      "Epoch 64/100\n",
      "1066/1066 [==============================] - 11s 10ms/step - loss: 0.2488 - accuracy: 0.8802 - auc: 0.9613 - val_loss: 0.3557 - val_accuracy: 0.8216 - val_auc: 0.9210\n",
      "Epoch 65/100\n",
      "1066/1066 [==============================] - 11s 10ms/step - loss: 0.2459 - accuracy: 0.8798 - auc: 0.9620 - val_loss: 0.3793 - val_accuracy: 0.8130 - val_auc: 0.9130\n",
      "Epoch 66/100\n",
      "1066/1066 [==============================] - ETA: 0s - loss: 0.2452 - accuracy: 0.8808 - auc: 0.9624"
     ]
    },
    {
     "name": "stderr",
     "output_type": "stream",
     "text": [
      "WARNING:absl:Found untraced functions such as lstm_cell_layer_call_fn, lstm_cell_layer_call_and_return_conditional_losses, lstm_cell_1_layer_call_fn, lstm_cell_1_layer_call_and_return_conditional_losses, lstm_cell_2_layer_call_fn while saving (showing 5 of 6). These functions will not be directly callable after loading.\n"
     ]
    },
    {
     "name": "stdout",
     "output_type": "stream",
     "text": [
      "INFO:tensorflow:Assets written to: /home/developer/Documents/Master/TFM/models/model_lstm/assets\n"
     ]
    },
    {
     "name": "stderr",
     "output_type": "stream",
     "text": [
      "INFO:tensorflow:Assets written to: /home/developer/Documents/Master/TFM/models/model_lstm/assets\n"
     ]
    },
    {
     "name": "stdout",
     "output_type": "stream",
     "text": [
      "1066/1066 [==============================] - 18s 17ms/step - loss: 0.2452 - accuracy: 0.8808 - auc: 0.9624 - val_loss: 0.3518 - val_accuracy: 0.8246 - val_auc: 0.9225\n",
      "Epoch 67/100\n",
      "1066/1066 [==============================] - 11s 10ms/step - loss: 0.2419 - accuracy: 0.8844 - auc: 0.9635 - val_loss: 0.3611 - val_accuracy: 0.8183 - val_auc: 0.9192\n",
      "Epoch 68/100\n",
      "1066/1066 [==============================] - ETA: 0s - loss: 0.2423 - accuracy: 0.8834 - auc: 0.9632"
     ]
    },
    {
     "name": "stderr",
     "output_type": "stream",
     "text": [
      "WARNING:absl:Found untraced functions such as lstm_cell_layer_call_fn, lstm_cell_layer_call_and_return_conditional_losses, lstm_cell_1_layer_call_fn, lstm_cell_1_layer_call_and_return_conditional_losses, lstm_cell_2_layer_call_fn while saving (showing 5 of 6). These functions will not be directly callable after loading.\n"
     ]
    },
    {
     "name": "stdout",
     "output_type": "stream",
     "text": [
      "INFO:tensorflow:Assets written to: /home/developer/Documents/Master/TFM/models/model_lstm/assets\n"
     ]
    },
    {
     "name": "stderr",
     "output_type": "stream",
     "text": [
      "INFO:tensorflow:Assets written to: /home/developer/Documents/Master/TFM/models/model_lstm/assets\n"
     ]
    },
    {
     "name": "stdout",
     "output_type": "stream",
     "text": [
      "1066/1066 [==============================] - 19s 18ms/step - loss: 0.2423 - accuracy: 0.8834 - auc: 0.9632 - val_loss: 0.3483 - val_accuracy: 0.8252 - val_auc: 0.9236\n",
      "Epoch 69/100\n",
      "1066/1066 [==============================] - 11s 10ms/step - loss: 0.2380 - accuracy: 0.8839 - auc: 0.9646 - val_loss: 0.3502 - val_accuracy: 0.8267 - val_auc: 0.9226\n",
      "Epoch 70/100\n",
      "1066/1066 [==============================] - 11s 10ms/step - loss: 0.2363 - accuracy: 0.8860 - auc: 0.9650 - val_loss: 0.3600 - val_accuracy: 0.8164 - val_auc: 0.9190\n",
      "Epoch 71/100\n",
      "1066/1066 [==============================] - 11s 10ms/step - loss: 0.2369 - accuracy: 0.8845 - auc: 0.9647 - val_loss: 0.3554 - val_accuracy: 0.8213 - val_auc: 0.9207\n",
      "Epoch 72/100\n",
      "1066/1066 [==============================] - 11s 10ms/step - loss: 0.2363 - accuracy: 0.8873 - auc: 0.9651 - val_loss: 0.3570 - val_accuracy: 0.8209 - val_auc: 0.9199\n",
      "Epoch 73/100\n",
      "1064/1066 [============================>.] - ETA: 0s - loss: 0.2319 - accuracy: 0.8875 - auc: 0.9662"
     ]
    },
    {
     "name": "stderr",
     "output_type": "stream",
     "text": [
      "WARNING:absl:Found untraced functions such as lstm_cell_layer_call_fn, lstm_cell_layer_call_and_return_conditional_losses, lstm_cell_1_layer_call_fn, lstm_cell_1_layer_call_and_return_conditional_losses, lstm_cell_2_layer_call_fn while saving (showing 5 of 6). These functions will not be directly callable after loading.\n"
     ]
    },
    {
     "name": "stdout",
     "output_type": "stream",
     "text": [
      "INFO:tensorflow:Assets written to: /home/developer/Documents/Master/TFM/models/model_lstm/assets\n"
     ]
    },
    {
     "name": "stderr",
     "output_type": "stream",
     "text": [
      "INFO:tensorflow:Assets written to: /home/developer/Documents/Master/TFM/models/model_lstm/assets\n"
     ]
    },
    {
     "name": "stdout",
     "output_type": "stream",
     "text": [
      "1066/1066 [==============================] - 17s 16ms/step - loss: 0.2321 - accuracy: 0.8873 - auc: 0.9662 - val_loss: 0.3481 - val_accuracy: 0.8295 - val_auc: 0.9236\n",
      "Epoch 74/100\n",
      "1062/1066 [============================>.] - ETA: 0s - loss: 0.2294 - accuracy: 0.8896 - auc: 0.9671"
     ]
    },
    {
     "name": "stderr",
     "output_type": "stream",
     "text": [
      "WARNING:absl:Found untraced functions such as lstm_cell_layer_call_fn, lstm_cell_layer_call_and_return_conditional_losses, lstm_cell_1_layer_call_fn, lstm_cell_1_layer_call_and_return_conditional_losses, lstm_cell_2_layer_call_fn while saving (showing 5 of 6). These functions will not be directly callable after loading.\n"
     ]
    },
    {
     "name": "stdout",
     "output_type": "stream",
     "text": [
      "INFO:tensorflow:Assets written to: /home/developer/Documents/Master/TFM/models/model_lstm/assets\n"
     ]
    },
    {
     "name": "stderr",
     "output_type": "stream",
     "text": [
      "INFO:tensorflow:Assets written to: /home/developer/Documents/Master/TFM/models/model_lstm/assets\n"
     ]
    },
    {
     "name": "stdout",
     "output_type": "stream",
     "text": [
      "1066/1066 [==============================] - 19s 18ms/step - loss: 0.2298 - accuracy: 0.8892 - auc: 0.9670 - val_loss: 0.3456 - val_accuracy: 0.8283 - val_auc: 0.9244\n",
      "Epoch 75/100\n",
      "1066/1066 [==============================] - 11s 10ms/step - loss: 0.2269 - accuracy: 0.8912 - auc: 0.9679 - val_loss: 0.3468 - val_accuracy: 0.8261 - val_auc: 0.9243\n",
      "Epoch 76/100\n",
      "1066/1066 [==============================] - 11s 10ms/step - loss: 0.2259 - accuracy: 0.8915 - auc: 0.9680 - val_loss: 0.3503 - val_accuracy: 0.8252 - val_auc: 0.9235\n",
      "Epoch 77/100\n",
      "1066/1066 [==============================] - 11s 10ms/step - loss: 0.2250 - accuracy: 0.8926 - auc: 0.9685 - val_loss: 0.3562 - val_accuracy: 0.8264 - val_auc: 0.9202\n",
      "Epoch 78/100\n",
      "1066/1066 [==============================] - 11s 10ms/step - loss: 0.2237 - accuracy: 0.8929 - auc: 0.9688 - val_loss: 0.3507 - val_accuracy: 0.8274 - val_auc: 0.9224\n",
      "Epoch 79/100\n",
      "1066/1066 [==============================] - 11s 11ms/step - loss: 0.2224 - accuracy: 0.8922 - auc: 0.9690 - val_loss: 0.3490 - val_accuracy: 0.8293 - val_auc: 0.9249\n",
      "Epoch 80/100\n",
      "1066/1066 [==============================] - 11s 10ms/step - loss: 0.2173 - accuracy: 0.8944 - auc: 0.9704 - val_loss: 0.3503 - val_accuracy: 0.8294 - val_auc: 0.9231\n",
      "Epoch 81/100\n",
      "1066/1066 [==============================] - 11s 10ms/step - loss: 0.2146 - accuracy: 0.8984 - auc: 0.9713 - val_loss: 0.3488 - val_accuracy: 0.8286 - val_auc: 0.9230\n",
      "Epoch 82/100\n",
      "1066/1066 [==============================] - 12s 11ms/step - loss: 0.2173 - accuracy: 0.8959 - auc: 0.9706 - val_loss: 0.3827 - val_accuracy: 0.8163 - val_auc: 0.9157\n",
      "Epoch 83/100\n",
      "1066/1066 [==============================] - 12s 11ms/step - loss: 0.2145 - accuracy: 0.8979 - auc: 0.9713 - val_loss: 0.3499 - val_accuracy: 0.8300 - val_auc: 0.9240\n",
      "Epoch 84/100\n",
      "1066/1066 [==============================] - 11s 11ms/step - loss: 0.2128 - accuracy: 0.8979 - auc: 0.9717 - val_loss: 0.3477 - val_accuracy: 0.8301 - val_auc: 0.9252\n",
      "Epoch 85/100\n",
      "1066/1066 [==============================] - 11s 11ms/step - loss: 0.2091 - accuracy: 0.9005 - auc: 0.9729 - val_loss: 0.3461 - val_accuracy: 0.8293 - val_auc: 0.9253\n",
      "Epoch 86/100\n",
      "1066/1066 [==============================] - 11s 11ms/step - loss: 0.2079 - accuracy: 0.9004 - auc: 0.9729 - val_loss: 0.3499 - val_accuracy: 0.8327 - val_auc: 0.9243\n",
      "Epoch 87/100\n",
      "1066/1066 [==============================] - 12s 11ms/step - loss: 0.2096 - accuracy: 0.9007 - auc: 0.9727 - val_loss: 0.3506 - val_accuracy: 0.8323 - val_auc: 0.9235\n",
      "Epoch 88/100\n",
      "1066/1066 [==============================] - 11s 10ms/step - loss: 0.2073 - accuracy: 0.9011 - auc: 0.9732 - val_loss: 0.3484 - val_accuracy: 0.8305 - val_auc: 0.9236\n",
      "Epoch 89/100\n",
      "1065/1066 [============================>.] - ETA: 0s - loss: 0.2040 - accuracy: 0.9023 - auc: 0.9740"
     ]
    },
    {
     "name": "stderr",
     "output_type": "stream",
     "text": [
      "WARNING:absl:Found untraced functions such as lstm_cell_layer_call_fn, lstm_cell_layer_call_and_return_conditional_losses, lstm_cell_1_layer_call_fn, lstm_cell_1_layer_call_and_return_conditional_losses, lstm_cell_2_layer_call_fn while saving (showing 5 of 6). These functions will not be directly callable after loading.\n"
     ]
    },
    {
     "name": "stdout",
     "output_type": "stream",
     "text": [
      "INFO:tensorflow:Assets written to: /home/developer/Documents/Master/TFM/models/model_lstm/assets\n"
     ]
    },
    {
     "name": "stderr",
     "output_type": "stream",
     "text": [
      "INFO:tensorflow:Assets written to: /home/developer/Documents/Master/TFM/models/model_lstm/assets\n"
     ]
    },
    {
     "name": "stdout",
     "output_type": "stream",
     "text": [
      "1066/1066 [==============================] - 20s 19ms/step - loss: 0.2039 - accuracy: 0.9023 - auc: 0.9740 - val_loss: 0.3422 - val_accuracy: 0.8378 - val_auc: 0.9273\n",
      "Epoch 90/100\n",
      "1066/1066 [==============================] - 11s 10ms/step - loss: 0.2005 - accuracy: 0.9050 - auc: 0.9750 - val_loss: 0.3465 - val_accuracy: 0.8334 - val_auc: 0.9269\n",
      "Epoch 91/100\n",
      "1066/1066 [==============================] - 11s 10ms/step - loss: 0.2057 - accuracy: 0.9007 - auc: 0.9735 - val_loss: 0.3495 - val_accuracy: 0.8335 - val_auc: 0.9234\n",
      "Epoch 92/100\n",
      "1066/1066 [==============================] - 11s 10ms/step - loss: 0.1990 - accuracy: 0.9038 - auc: 0.9752 - val_loss: 0.3457 - val_accuracy: 0.8343 - val_auc: 0.9250\n",
      "Epoch 93/100\n",
      "1066/1066 [==============================] - 11s 10ms/step - loss: 0.2024 - accuracy: 0.9042 - auc: 0.9746 - val_loss: 0.3592 - val_accuracy: 0.8257 - val_auc: 0.9209\n",
      "Epoch 94/100\n",
      "1066/1066 [==============================] - 11s 10ms/step - loss: 0.2016 - accuracy: 0.9055 - auc: 0.9748 - val_loss: 0.3443 - val_accuracy: 0.8347 - val_auc: 0.9260\n",
      "Epoch 95/100\n",
      "1066/1066 [==============================] - 11s 10ms/step - loss: 0.1949 - accuracy: 0.9056 - auc: 0.9763 - val_loss: 0.3470 - val_accuracy: 0.8353 - val_auc: 0.9261\n",
      "Epoch 96/100\n",
      "1066/1066 [==============================] - 12s 11ms/step - loss: 0.1941 - accuracy: 0.9079 - auc: 0.9766 - val_loss: 0.3656 - val_accuracy: 0.8249 - val_auc: 0.9164\n",
      "Epoch 97/100\n",
      "1066/1066 [==============================] - 11s 10ms/step - loss: 0.1936 - accuracy: 0.9075 - auc: 0.9767 - val_loss: 0.3469 - val_accuracy: 0.8330 - val_auc: 0.9263\n",
      "Epoch 98/100\n",
      "1066/1066 [==============================] - 11s 10ms/step - loss: 0.1937 - accuracy: 0.9095 - auc: 0.9767 - val_loss: 0.3517 - val_accuracy: 0.8337 - val_auc: 0.9252\n",
      "Epoch 99/100\n",
      "1061/1066 [============================>.] - ETA: 0s - loss: 0.1923 - accuracy: 0.9092 - auc: 0.9771"
     ]
    },
    {
     "name": "stderr",
     "output_type": "stream",
     "text": [
      "WARNING:absl:Found untraced functions such as lstm_cell_layer_call_fn, lstm_cell_layer_call_and_return_conditional_losses, lstm_cell_1_layer_call_fn, lstm_cell_1_layer_call_and_return_conditional_losses, lstm_cell_2_layer_call_fn while saving (showing 5 of 6). These functions will not be directly callable after loading.\n"
     ]
    },
    {
     "name": "stdout",
     "output_type": "stream",
     "text": [
      "INFO:tensorflow:Assets written to: /home/developer/Documents/Master/TFM/models/model_lstm/assets\n"
     ]
    },
    {
     "name": "stderr",
     "output_type": "stream",
     "text": [
      "INFO:tensorflow:Assets written to: /home/developer/Documents/Master/TFM/models/model_lstm/assets\n"
     ]
    },
    {
     "name": "stdout",
     "output_type": "stream",
     "text": [
      "1066/1066 [==============================] - 18s 17ms/step - loss: 0.1921 - accuracy: 0.9093 - auc: 0.9771 - val_loss: 0.3419 - val_accuracy: 0.8350 - val_auc: 0.9283\n",
      "Epoch 100/100\n",
      "1066/1066 [==============================] - 11s 10ms/step - loss: 0.1920 - accuracy: 0.9082 - auc: 0.9770 - val_loss: 0.3503 - val_accuracy: 0.8298 - val_auc: 0.9243\n"
     ]
    }
   ],
   "source": [
    "from tensorflow.keras.models import Sequential\n",
    "from tensorflow.keras import layers, regularizers, optimizers\n",
    "from tensorflow.keras.callbacks import ModelCheckpoint, EarlyStopping\n",
    "\n",
    "model = Sequential()\n",
    "\n",
    "# Permitir secuencias de longitud variable\n",
    "model.add(layers.Input(shape=(60, 50)))  # 'None' permite secuencias de longitud variable\n",
    "model.add(layers.LSTM(64, return_sequences=True))\n",
    "model.add(layers.Dropout(0.4))\n",
    "model.add(layers.LSTM(64, return_sequences=True))\n",
    "model.add(layers.Dropout(0.4))\n",
    "model.add(layers.LSTM(64, return_sequences=True))\n",
    "model.add(layers.Dropout(0.4))\n",
    "\n",
    "\n",
    "\n",
    "# Usar GlobalMaxPooling1D para manejar secuencias de longitud variable\n",
    "model.add(layers.GlobalMaxPooling1D())\n",
    "\n",
    "model.add(layers.Dense(1, activation='sigmoid', kernel_regularizer=regularizers.l2(0.001)))\n",
    "\n",
    "# Callbacks\n",
    "checkpoint_path = '/home/developer/Documents/Master/TFM/models/model_lstm/'\n",
    "checkpoint = ModelCheckpoint(checkpoint_path, save_best_only=True)\n",
    "early_stopping = EarlyStopping(monitor='val_loss', patience=500, restore_best_weights=True)\n",
    "\n",
    "# Compilar el modelo\n",
    "adam_optimizer = optimizers.Adam(learning_rate=0.0001)\n",
    "model.compile(optimizer=adam_optimizer, loss='binary_crossentropy', metrics=['accuracy', 'AUC'])\n",
    "\n",
    "# Resumen del modelo\n",
    "model.summary()\n",
    "\n",
    "# Entrenar el modelo\n",
    "history = model.fit(X_train, y_train, epochs=100, batch_size=32, validation_data=(X_val, y_val), callbacks=[checkpoint, early_stopping])\n"
   ]
  },
  {
   "cell_type": "code",
   "execution_count": 11,
   "metadata": {},
   "outputs": [
    {
     "data": {
      "image/png": "[encoded data removed]",
      "text/plain": [
       "<Figure size 1280x480 with 2 Axes>"
      ]
     },
     "metadata": {},
     "output_type": "display_data"
    }
   ],
   "source": [
    "# Plotting training and testing curves\n",
    "default_size = plt.rcParams['figure.figsize']\n",
    "fig = plt.figure(figsize=[default_size[0] * 2, default_size[1]])\n",
    "\n",
    "fig.add_subplot(1, 2, 1)\n",
    "plt.plot(history.history['accuracy'], label = 'accuracy')         \n",
    "plt.plot(history.history['val_accuracy'], label = 'val_accuracy')  \n",
    "plt.xlabel('Epoch')\n",
    "plt.ylabel('Accuracy')\n",
    "plt.title('Accuracy')\n",
    "plt.legend(loc='lower right')\n",
    "\n",
    "fig.add_subplot(1, 2, 2)\n",
    "plt.plot(history.history['loss'], label='loss')         \n",
    "plt.plot(history.history['val_loss'], label='val_loss')  \n",
    "plt.xlabel('Epoch')\n",
    "plt.ylabel('Loss')\n",
    "plt.title('Loss')\n",
    "plt.legend(loc='upper right')\n",
    "plt.show()"
   ]
  },
  {
   "cell_type": "code",
   "execution_count": 41,
   "metadata": {},
   "outputs": [],
   "source": [
    "# Cargar el modelo SavedModel\n",
    "model = tf.keras.models.load_model('/home/developer/Documents/Master/TFM/models/model_lstm')\n",
    "\n",
    "# Guardar el modelo en formato H5\n",
    "model.save('/home/developer/Documents/Master/TFM/models/model_LSTM.h5')"
   ]
  },
  {
   "cell_type": "code",
   "execution_count": 17,
   "metadata": {},
   "outputs": [
    {
     "ename": "KeyboardInterrupt",
     "evalue": "",
     "output_type": "error",
     "traceback": [
      "\u001b[0;31m---------------------------------------------------------------------------\u001b[0m",
      "\u001b[0;31mKeyboardInterrupt\u001b[0m                         Traceback (most recent call last)",
      "Cell \u001b[0;32mIn[17], line 6\u001b[0m\n\u001b[1;32m      3\u001b[0m \u001b[38;5;28;01mfrom\u001b[39;00m \u001b[38;5;21;01msklearn\u001b[39;00m\u001b[38;5;21;01m.\u001b[39;00m\u001b[38;5;21;01mmetrics\u001b[39;00m \u001b[38;5;28;01mimport\u001b[39;00m classification_report\n\u001b[1;32m      4\u001b[0m \u001b[38;5;28;01mimport\u001b[39;00m \u001b[38;5;21;01mtensorflow\u001b[39;00m \u001b[38;5;28;01mas\u001b[39;00m \u001b[38;5;21;01mtf\u001b[39;00m\n\u001b[0;32m----> 6\u001b[0m best_model \u001b[38;5;241m=\u001b[39m \u001b[43mload_model\u001b[49m\u001b[43m(\u001b[49m\u001b[38;5;124;43m'\u001b[39;49m\u001b[38;5;124;43m/home/developer/Documents/Master/TFM/models/model_lstm/\u001b[39;49m\u001b[38;5;124;43m'\u001b[39;49m\u001b[43m)\u001b[49m\n\u001b[1;32m      7\u001b[0m test_predictions \u001b[38;5;241m=\u001b[39m (best_model\u001b[38;5;241m.\u001b[39mpredict(X_test) \u001b[38;5;241m>\u001b[39m \u001b[38;5;241m0.5\u001b[39m)\u001b[38;5;241m.\u001b[39mastype(\u001b[38;5;28mint\u001b[39m)\n\u001b[1;32m     11\u001b[0m \u001b[38;5;28mprint\u001b[39m(classification_report(y_test, test_predictions))\n",
      "File \u001b[0;32m~/anaconda3/envs/tf/lib/python3.9/site-packages/keras/utils/traceback_utils.py:65\u001b[0m, in \u001b[0;36mfilter_traceback.<locals>.error_handler\u001b[0;34m(*args, **kwargs)\u001b[0m\n\u001b[1;32m     63\u001b[0m filtered_tb \u001b[38;5;241m=\u001b[39m \u001b[38;5;28;01mNone\u001b[39;00m\n\u001b[1;32m     64\u001b[0m \u001b[38;5;28;01mtry\u001b[39;00m:\n\u001b[0;32m---> 65\u001b[0m     \u001b[38;5;28;01mreturn\u001b[39;00m \u001b[43mfn\u001b[49m\u001b[43m(\u001b[49m\u001b[38;5;241;43m*\u001b[39;49m\u001b[43margs\u001b[49m\u001b[43m,\u001b[49m\u001b[43m \u001b[49m\u001b[38;5;241;43m*\u001b[39;49m\u001b[38;5;241;43m*\u001b[39;49m\u001b[43mkwargs\u001b[49m\u001b[43m)\u001b[49m\n\u001b[1;32m     66\u001b[0m \u001b[38;5;28;01mexcept\u001b[39;00m \u001b[38;5;167;01mException\u001b[39;00m \u001b[38;5;28;01mas\u001b[39;00m e:\n\u001b[1;32m     67\u001b[0m     filtered_tb \u001b[38;5;241m=\u001b[39m _process_traceback_frames(e\u001b[38;5;241m.\u001b[39m__traceback__)\n",
      "File \u001b[0;32m~/anaconda3/envs/tf/lib/python3.9/site-packages/keras/saving/legacy/save.py:232\u001b[0m, in \u001b[0;36mload_model\u001b[0;34m(filepath, custom_objects, compile, options)\u001b[0m\n\u001b[1;32m    227\u001b[0m     \u001b[38;5;28;01mraise\u001b[39;00m \u001b[38;5;167;01mIOError\u001b[39;00m(\n\u001b[1;32m    228\u001b[0m         \u001b[38;5;124mf\u001b[39m\u001b[38;5;124m\"\u001b[39m\u001b[38;5;124mNo file or directory found at \u001b[39m\u001b[38;5;132;01m{\u001b[39;00mfilepath_str\u001b[38;5;132;01m}\u001b[39;00m\u001b[38;5;124m\"\u001b[39m\n\u001b[1;32m    229\u001b[0m     )\n\u001b[1;32m    231\u001b[0m \u001b[38;5;28;01mif\u001b[39;00m tf\u001b[38;5;241m.\u001b[39mio\u001b[38;5;241m.\u001b[39mgfile\u001b[38;5;241m.\u001b[39misdir(filepath_str):\n\u001b[0;32m--> 232\u001b[0m     \u001b[38;5;28;01mreturn\u001b[39;00m \u001b[43msaved_model_load\u001b[49m\u001b[38;5;241;43m.\u001b[39;49m\u001b[43mload\u001b[49m\u001b[43m(\u001b[49m\n\u001b[1;32m    233\u001b[0m \u001b[43m        \u001b[49m\u001b[43mfilepath_str\u001b[49m\u001b[43m,\u001b[49m\u001b[43m \u001b[49m\u001b[38;5;28;43mcompile\u001b[39;49m\u001b[43m,\u001b[49m\u001b[43m \u001b[49m\u001b[43moptions\u001b[49m\n\u001b[1;32m    234\u001b[0m \u001b[43m    \u001b[49m\u001b[43m)\u001b[49m\n\u001b[1;32m    235\u001b[0m \u001b[38;5;28;01melse\u001b[39;00m:\n\u001b[1;32m    236\u001b[0m     \u001b[38;5;28;01mif\u001b[39;00m h5py \u001b[38;5;129;01mis\u001b[39;00m \u001b[38;5;28;01mNone\u001b[39;00m:\n",
      "File \u001b[0;32m~/anaconda3/envs/tf/lib/python3.9/site-packages/keras/saving/legacy/saved_model/load.py:144\u001b[0m, in \u001b[0;36mload\u001b[0;34m(path, compile, options)\u001b[0m\n\u001b[1;32m    140\u001b[0m \u001b[38;5;28;01mwith\u001b[39;00m warnings\u001b[38;5;241m.\u001b[39mcatch_warnings():\n\u001b[1;32m    141\u001b[0m     warnings\u001b[38;5;241m.\u001b[39mfilterwarnings(\n\u001b[1;32m    142\u001b[0m         \u001b[38;5;124m\"\u001b[39m\u001b[38;5;124mignore\u001b[39m\u001b[38;5;124m\"\u001b[39m, message\u001b[38;5;241m=\u001b[39m\u001b[38;5;124m\"\u001b[39m\u001b[38;5;124mTrying to load ShardedVariables\u001b[39m\u001b[38;5;124m\"\u001b[39m\n\u001b[1;32m    143\u001b[0m     )\n\u001b[0;32m--> 144\u001b[0m     loaded \u001b[38;5;241m=\u001b[39m \u001b[43mtf\u001b[49m\u001b[38;5;241;43m.\u001b[39;49m\u001b[43m__internal__\u001b[49m\u001b[38;5;241;43m.\u001b[39;49m\u001b[43msaved_model\u001b[49m\u001b[38;5;241;43m.\u001b[39;49m\u001b[43mload_partial\u001b[49m\u001b[43m(\u001b[49m\n\u001b[1;32m    145\u001b[0m \u001b[43m        \u001b[49m\u001b[43mpath\u001b[49m\u001b[43m,\u001b[49m\u001b[43m \u001b[49m\u001b[43mnodes_to_load\u001b[49m\u001b[43m,\u001b[49m\u001b[43m \u001b[49m\u001b[43moptions\u001b[49m\u001b[38;5;241;43m=\u001b[39;49m\u001b[43moptions\u001b[49m\n\u001b[1;32m    146\u001b[0m \u001b[43m    \u001b[49m\u001b[43m)\u001b[49m\n\u001b[1;32m    148\u001b[0m \u001b[38;5;66;03m# Finalize the loaded layers and remove the extra tracked dependencies.\u001b[39;00m\n\u001b[1;32m    149\u001b[0m keras_loader\u001b[38;5;241m.\u001b[39mfinalize_objects()\n",
      "File \u001b[0;32m~/anaconda3/envs/tf/lib/python3.9/site-packages/tensorflow/python/saved_model/load.py:958\u001b[0m, in \u001b[0;36mload_partial\u001b[0;34m(export_dir, filters, tags, options)\u001b[0m\n\u001b[1;32m    956\u001b[0m \u001b[38;5;28;01mwith\u001b[39;00m ops\u001b[38;5;241m.\u001b[39minit_scope():\n\u001b[1;32m    957\u001b[0m   \u001b[38;5;28;01mtry\u001b[39;00m:\n\u001b[0;32m--> 958\u001b[0m     loader \u001b[38;5;241m=\u001b[39m \u001b[43mLoader\u001b[49m\u001b[43m(\u001b[49m\u001b[43mobject_graph_proto\u001b[49m\u001b[43m,\u001b[49m\u001b[43m \u001b[49m\u001b[43msaved_model_proto\u001b[49m\u001b[43m,\u001b[49m\u001b[43m \u001b[49m\u001b[43mexport_dir\u001b[49m\u001b[43m,\u001b[49m\n\u001b[1;32m    959\u001b[0m \u001b[43m                    \u001b[49m\u001b[43mckpt_options\u001b[49m\u001b[43m,\u001b[49m\u001b[43m \u001b[49m\u001b[43moptions\u001b[49m\u001b[43m,\u001b[49m\u001b[43m \u001b[49m\u001b[43mfilters\u001b[49m\u001b[43m)\u001b[49m\n\u001b[1;32m    960\u001b[0m   \u001b[38;5;28;01mexcept\u001b[39;00m errors\u001b[38;5;241m.\u001b[39mNotFoundError \u001b[38;5;28;01mas\u001b[39;00m err:\n\u001b[1;32m    961\u001b[0m     \u001b[38;5;28;01mraise\u001b[39;00m \u001b[38;5;167;01mFileNotFoundError\u001b[39;00m(\n\u001b[1;32m    962\u001b[0m         \u001b[38;5;28mstr\u001b[39m(err) \u001b[38;5;241m+\u001b[39m \u001b[38;5;124m\"\u001b[39m\u001b[38;5;130;01m\\n\u001b[39;00m\u001b[38;5;124m You may be trying to load on a different device \u001b[39m\u001b[38;5;124m\"\u001b[39m\n\u001b[1;32m    963\u001b[0m         \u001b[38;5;124m\"\u001b[39m\u001b[38;5;124mfrom the computational device. Consider setting the \u001b[39m\u001b[38;5;124m\"\u001b[39m\n\u001b[1;32m    964\u001b[0m         \u001b[38;5;124m\"\u001b[39m\u001b[38;5;124m`experimental_io_device` option in `tf.saved_model.LoadOptions` \u001b[39m\u001b[38;5;124m\"\u001b[39m\n\u001b[1;32m    965\u001b[0m         \u001b[38;5;124m\"\u001b[39m\u001b[38;5;124mto the io_device such as \u001b[39m\u001b[38;5;124m'\u001b[39m\u001b[38;5;124m/job:localhost\u001b[39m\u001b[38;5;124m'\u001b[39m\u001b[38;5;124m.\u001b[39m\u001b[38;5;124m\"\u001b[39m)\n",
      "File \u001b[0;32m~/anaconda3/envs/tf/lib/python3.9/site-packages/tensorflow/python/saved_model/load.py:154\u001b[0m, in \u001b[0;36mLoader.__init__\u001b[0;34m(self, object_graph_proto, saved_model_proto, export_dir, ckpt_options, save_options, filters)\u001b[0m\n\u001b[1;32m    151\u001b[0m \u001b[38;5;28mself\u001b[39m\u001b[38;5;241m.\u001b[39m_proto \u001b[38;5;241m=\u001b[39m object_graph_proto\n\u001b[1;32m    152\u001b[0m \u001b[38;5;28mself\u001b[39m\u001b[38;5;241m.\u001b[39m_export_dir \u001b[38;5;241m=\u001b[39m export_dir\n\u001b[1;32m    153\u001b[0m \u001b[38;5;28mself\u001b[39m\u001b[38;5;241m.\u001b[39m_concrete_functions \u001b[38;5;241m=\u001b[39m (\n\u001b[0;32m--> 154\u001b[0m     \u001b[43mfunction_deserialization\u001b[49m\u001b[38;5;241;43m.\u001b[39;49m\u001b[43mload_function_def_library\u001b[49m\u001b[43m(\u001b[49m\n\u001b[1;32m    155\u001b[0m \u001b[43m        \u001b[49m\u001b[43mlibrary\u001b[49m\u001b[38;5;241;43m=\u001b[39;49m\u001b[43mmeta_graph\u001b[49m\u001b[38;5;241;43m.\u001b[39;49m\u001b[43mgraph_def\u001b[49m\u001b[38;5;241;43m.\u001b[39;49m\u001b[43mlibrary\u001b[49m\u001b[43m,\u001b[49m\n\u001b[1;32m    156\u001b[0m \u001b[43m        \u001b[49m\u001b[43msaved_object_graph\u001b[49m\u001b[38;5;241;43m=\u001b[39;49m\u001b[38;5;28;43mself\u001b[39;49m\u001b[38;5;241;43m.\u001b[39;49m\u001b[43m_proto\u001b[49m\u001b[43m,\u001b[49m\n\u001b[1;32m    157\u001b[0m \u001b[43m        \u001b[49m\u001b[43mwrapper_function\u001b[49m\u001b[38;5;241;43m=\u001b[39;49m\u001b[43m_WrapperFunction\u001b[49m\u001b[43m)\u001b[49m)\n\u001b[1;32m    158\u001b[0m \u001b[38;5;66;03m# Store a set of all concrete functions that have been set up with\u001b[39;00m\n\u001b[1;32m    159\u001b[0m \u001b[38;5;66;03m# captures.\u001b[39;00m\n\u001b[1;32m    160\u001b[0m \u001b[38;5;28mself\u001b[39m\u001b[38;5;241m.\u001b[39m_restored_concrete_functions \u001b[38;5;241m=\u001b[39m \u001b[38;5;28mset\u001b[39m()\n",
      "File \u001b[0;32m~/anaconda3/envs/tf/lib/python3.9/site-packages/tensorflow/python/saved_model/function_deserialization.py:416\u001b[0m, in \u001b[0;36mload_function_def_library\u001b[0;34m(library, saved_object_graph, load_shared_name_suffix, wrapper_function)\u001b[0m\n\u001b[1;32m    410\u001b[0m \u001b[38;5;66;03m# There is no need to copy all functions into the function def graph. It\u001b[39;00m\n\u001b[1;32m    411\u001b[0m \u001b[38;5;66;03m# leads to a O(n^2) increase of memory when importing functions and the\u001b[39;00m\n\u001b[1;32m    412\u001b[0m \u001b[38;5;66;03m# extra function definitions are a no-op since they already imported as a\u001b[39;00m\n\u001b[1;32m    413\u001b[0m \u001b[38;5;66;03m# function before and passed in explicitly (due to the topologic sort\u001b[39;00m\n\u001b[1;32m    414\u001b[0m \u001b[38;5;66;03m# import).\u001b[39;00m\n\u001b[1;32m    415\u001b[0m \u001b[38;5;28;01mwith\u001b[39;00m graph\u001b[38;5;241m.\u001b[39mas_default():\n\u001b[0;32m--> 416\u001b[0m   func_graph \u001b[38;5;241m=\u001b[39m \u001b[43mfunction_def_lib\u001b[49m\u001b[38;5;241;43m.\u001b[39;49m\u001b[43mfunction_def_to_graph\u001b[49m\u001b[43m(\u001b[49m\n\u001b[1;32m    417\u001b[0m \u001b[43m      \u001b[49m\u001b[43mfdef\u001b[49m\u001b[43m,\u001b[49m\n\u001b[1;32m    418\u001b[0m \u001b[43m      \u001b[49m\u001b[43mstructured_input_signature\u001b[49m\u001b[38;5;241;43m=\u001b[39;49m\u001b[43mstructured_input_signature\u001b[49m\u001b[43m,\u001b[49m\n\u001b[1;32m    419\u001b[0m \u001b[43m      \u001b[49m\u001b[43mstructured_outputs\u001b[49m\u001b[38;5;241;43m=\u001b[39;49m\u001b[43mstructured_outputs\u001b[49m\u001b[43m)\u001b[49m\n\u001b[1;32m    420\u001b[0m \u001b[38;5;66;03m# Restores gradients for function-call ops (not the same as ops that use\u001b[39;00m\n\u001b[1;32m    421\u001b[0m \u001b[38;5;66;03m# custom gradients)\u001b[39;00m\n\u001b[1;32m    422\u001b[0m _restore_gradient_functions(func_graph, renamed_functions, loaded_gradients)\n",
      "File \u001b[0;32m~/anaconda3/envs/tf/lib/python3.9/site-packages/tensorflow/python/framework/function_def_to_graph.py:87\u001b[0m, in \u001b[0;36mfunction_def_to_graph\u001b[0;34m(fdef, structured_input_signature, structured_outputs, input_shapes)\u001b[0m\n\u001b[1;32m     82\u001b[0m graph_def, nested_to_flat_tensor_name \u001b[38;5;241m=\u001b[39m function_def_to_graph_def(\n\u001b[1;32m     83\u001b[0m     fdef, input_shapes)\n\u001b[1;32m     85\u001b[0m \u001b[38;5;28;01mwith\u001b[39;00m func_graph\u001b[38;5;241m.\u001b[39mas_default():\n\u001b[1;32m     86\u001b[0m   \u001b[38;5;66;03m# Add all function nodes to the graph.\u001b[39;00m\n\u001b[0;32m---> 87\u001b[0m   \u001b[43mimporter\u001b[49m\u001b[38;5;241;43m.\u001b[39;49m\u001b[43mimport_graph_def_for_function\u001b[49m\u001b[43m(\u001b[49m\u001b[43mgraph_def\u001b[49m\u001b[43m,\u001b[49m\u001b[43m \u001b[49m\u001b[43mname\u001b[49m\u001b[38;5;241;43m=\u001b[39;49m\u001b[38;5;124;43m\"\u001b[39;49m\u001b[38;5;124;43m\"\u001b[39;49m\u001b[43m)\u001b[49m\n\u001b[1;32m     89\u001b[0m   \u001b[38;5;66;03m# Initialize fields specific to FuncGraph.\u001b[39;00m\n\u001b[1;32m     90\u001b[0m \n\u001b[1;32m     91\u001b[0m   \u001b[38;5;66;03m# inputs\u001b[39;00m\n\u001b[1;32m     92\u001b[0m   input_tensor_names \u001b[38;5;241m=\u001b[39m [\n\u001b[1;32m     93\u001b[0m       nested_to_flat_tensor_name[arg\u001b[38;5;241m.\u001b[39mname] \u001b[38;5;28;01mfor\u001b[39;00m arg \u001b[38;5;129;01min\u001b[39;00m fdef\u001b[38;5;241m.\u001b[39msignature\u001b[38;5;241m.\u001b[39minput_arg\n\u001b[1;32m     94\u001b[0m   ]\n",
      "File \u001b[0;32m~/anaconda3/envs/tf/lib/python3.9/site-packages/tensorflow/python/framework/importer.py:414\u001b[0m, in \u001b[0;36mimport_graph_def_for_function\u001b[0;34m(graph_def, name)\u001b[0m\n\u001b[1;32m    411\u001b[0m \u001b[38;5;28;01mdef\u001b[39;00m \u001b[38;5;21mimport_graph_def_for_function\u001b[39m(  \u001b[38;5;66;03m# pylint: disable=invalid-name\u001b[39;00m\n\u001b[1;32m    412\u001b[0m     graph_def, name\u001b[38;5;241m=\u001b[39m\u001b[38;5;28;01mNone\u001b[39;00m):\n\u001b[1;32m    413\u001b[0m \u001b[38;5;250m  \u001b[39m\u001b[38;5;124;03m\"\"\"Like import_graph_def but does not validate colocation constraints.\"\"\"\u001b[39;00m\n\u001b[0;32m--> 414\u001b[0m   \u001b[38;5;28;01mreturn\u001b[39;00m \u001b[43m_import_graph_def_internal\u001b[49m\u001b[43m(\u001b[49m\n\u001b[1;32m    415\u001b[0m \u001b[43m      \u001b[49m\u001b[43mgraph_def\u001b[49m\u001b[43m,\u001b[49m\u001b[43m \u001b[49m\u001b[43mvalidate_colocation_constraints\u001b[49m\u001b[38;5;241;43m=\u001b[39;49m\u001b[38;5;28;43;01mFalse\u001b[39;49;00m\u001b[43m,\u001b[49m\u001b[43m \u001b[49m\u001b[43mname\u001b[49m\u001b[38;5;241;43m=\u001b[39;49m\u001b[43mname\u001b[49m\u001b[43m)\u001b[49m\n",
      "File \u001b[0;32m~/anaconda3/envs/tf/lib/python3.9/site-packages/tensorflow/python/framework/importer.py:497\u001b[0m, in \u001b[0;36m_import_graph_def_internal\u001b[0;34m(graph_def, input_map, return_elements, validate_colocation_constraints, name, producer_op_list)\u001b[0m\n\u001b[1;32m    492\u001b[0m \u001b[38;5;66;03m# _ProcessNewOps mutates the new operations. _mutation_lock ensures a\u001b[39;00m\n\u001b[1;32m    493\u001b[0m \u001b[38;5;66;03m# Session.run call cannot occur between creating the TF_Operations in the\u001b[39;00m\n\u001b[1;32m    494\u001b[0m \u001b[38;5;66;03m# TF_GraphImportGraphDefWithResults call and mutating the them in\u001b[39;00m\n\u001b[1;32m    495\u001b[0m \u001b[38;5;66;03m# _ProcessNewOps.\u001b[39;00m\n\u001b[1;32m    496\u001b[0m \u001b[38;5;28;01mwith\u001b[39;00m graph\u001b[38;5;241m.\u001b[39m_mutation_lock():  \u001b[38;5;66;03m# pylint: disable=protected-access\u001b[39;00m\n\u001b[0;32m--> 497\u001b[0m   \u001b[38;5;28;01mwith\u001b[39;00m c_api_util\u001b[38;5;241m.\u001b[39mtf_buffer(\u001b[43mgraph_def\u001b[49m\u001b[38;5;241;43m.\u001b[39;49m\u001b[43mSerializeToString\u001b[49m\u001b[43m(\u001b[49m\u001b[43m)\u001b[49m) \u001b[38;5;28;01mas\u001b[39;00m serialized:\n\u001b[1;32m    498\u001b[0m     \u001b[38;5;28;01mtry\u001b[39;00m:\n\u001b[1;32m    499\u001b[0m       \u001b[38;5;28;01mwith\u001b[39;00m graph\u001b[38;5;241m.\u001b[39m_c_graph\u001b[38;5;241m.\u001b[39mget() \u001b[38;5;28;01mas\u001b[39;00m c_graph:  \u001b[38;5;66;03m# pylint: disable=protected-access\u001b[39;00m\n",
      "\u001b[0;31mKeyboardInterrupt\u001b[0m: "
     ]
    }
   ],
   "source": [
    "cp = ModelCheckpoint('/home/developer/Documents/Master/TFM/models/model_lstm/best_model.h5', save_best_only=True)\n",
    "from tensorflow.keras.models import load_model\n",
    "from sklearn.metrics import classification_report\n",
    "import tensorflow as tf\n",
    "\n",
    "best_model = load_model('/home/developer/Documents/Master/TFM/models/model_lstm/')\n",
    "test_predictions = (best_model.predict(X_test) > 0.5).astype(int)\n",
    "\n",
    "\n",
    "\n",
    "print(classification_report(y_test, test_predictions))"
   ]
  },
  {
   "cell_type": "code",
   "execution_count": 16,
   "metadata": {},
   "outputs": [
    {
     "name": "stdout",
     "output_type": "stream",
     "text": [
      "Loading model from: /home/developer/Documents/Master/TFM/models/model_mp/\n",
      "229/229 [==============================] - 0s 860us/step\n",
      "Loading model from: /home/developer/Documents/Master/TFM/models/model_rnn/\n",
      "229/229 [==============================] - 4s 16ms/step\n",
      "Loading model from: /home/developer/Documents/Master/TFM/models/model_gru/\n",
      "229/229 [==============================] - 1s 4ms/step\n",
      "Loading model from: /home/developer/Documents/Master/TFM/models/model_lstm/\n",
      "229/229 [==============================] - 2s 5ms/step\n"
     ]
    },
    {
     "data": {
      "image/png": "[encoded data removed]",
      "text/plain": [
       "<Figure size 1600x1000 with 1 Axes>"
      ]
     },
     "metadata": {},
     "output_type": "display_data"
    }
   ],
   "source": [
    "from tensorflow.keras.models import load_model\n",
    "from sklearn.metrics import classification_report, precision_recall_fscore_support\n",
    "import matplotlib.pyplot as plt\n",
    "import numpy as np\n",
    "# Nombres de los modelos y sus rutas\n",
    "model_paths = {\n",
    "    'MLP': '/home/developer/Documents/Master/TFM/models/model_mp/',\n",
    "    'RNN': '/home/developer/Documents/Master/TFM/models/model_rnn/',\n",
    "    'GRU': '/home/developer/Documents/Master/TFM/models/model_gru/',\n",
    "    'LSTM': '/home/developer/Documents/Master/TFM/models/model_lstm/'\n",
    "}\n",
    "\n",
    "# Carga los modelos y evalúa en el conjunto de prueba\n",
    "metrics = {}\n",
    "\n",
    "for model_name, path in model_paths.items():\n",
    "    print(f\"Loading model from: {path}\")\n",
    "    model = load_model(path)\n",
    "    predictions = (model.predict(X_test) > 0.5).astype(int)\n",
    "    report = precision_recall_fscore_support(y_test, predictions, average='binary')\n",
    "    # Redondear las métricas a dos decimales antes de almacenarlas\n",
    "    metrics[model_name] = [round(metric, 2) for metric in report[:-1]]  # Exclude support\n",
    "\n",
    "# Preparación de datos para la gráfica\n",
    "labels = list(metrics.keys())\n",
    "precision = [metrics[model][0] for model in labels]\n",
    "recall = [metrics[model][1] for model in labels]\n",
    "f1_score = [metrics[model][2] for model in labels]\n",
    "\n",
    "# Tamaño de la gráfica\n",
    "x = np.arange(len(labels))\n",
    "width = 0.2\n",
    "\n",
    "# Ajuste del tamaño de la figura para evitar superposición\n",
    "fig, ax = plt.subplots(figsize=(16, 10))\n",
    "\n",
    "# Agregando barras para cada métrica\n",
    "rects1 = ax.bar(x - width, precision, width, label='Precision')\n",
    "rects2 = ax.bar(x, recall, width, label='Recall')\n",
    "rects3 = ax.bar(x + width, f1_score, width, label='F1-score')\n",
    "\n",
    "# Añadiendo etiquetas y títulos\n",
    "ax.set_ylabel('Scores')\n",
    "ax.set_title('Model performance comparison')\n",
    "ax.set_xticks(x)\n",
    "ax.set_xticklabels(labels)\n",
    "ax.legend(loc='upper left', bbox_to_anchor=(1, 1))  # Mueve la leyenda fuera de la gráfica\n",
    "\n",
    "# Ajustar el rango del eje y para que no comience en 0 si no es necesario\n",
    "lower_bound = min(precision + recall + f1_score) * 0.8\n",
    "upper_bound = max(precision + recall + f1_score) * 1.1\n",
    "ax.set_ylim([lower_bound, upper_bound])\n",
    "\n",
    "# Función para añadir etiquetas sobre cada barra\n",
    "def add_labels(rects):\n",
    "    for rect in rects:\n",
    "        height = rect.get_height()\n",
    "        ax.annotate('{}'.format(height),\n",
    "                    xy=(rect.get_x() + rect.get_width() / 2, height),\n",
    "                    xytext=(0, 3),  # 3 puntos de desplazamiento vertical\n",
    "                    textcoords=\"offset points\",\n",
    "                    ha='center', va='bottom')\n",
    "\n",
    "# Añadir etiquetas\n",
    "add_labels(rects1)\n",
    "add_labels(rects2)\n",
    "add_labels(rects3)\n",
    "\n",
    "# Ajustar layout para considerar la leyenda\n",
    "fig.tight_layout(rect=[0, 0, 0.76, 1])\n",
    "\n",
    "\n",
    "\n",
    "plt.show()"
   ]
  },
  {
   "cell_type": "code",
   "execution_count": 31,
   "metadata": {},
   "outputs": [
    {
     "name": "stdout",
     "output_type": "stream",
     "text": [
      "1/1 [==============================] - 1s 779ms/step\n",
      "[0.5422434]\n",
      "El sentimiento de la frase es: ('Positivo', array([0.5422434], dtype=float32))\n"
     ]
    }
   ],
   "source": [
    "\n",
    "\n",
    "\n",
    "model = tf.keras.models.load_model('/home/developer/Documents/Master/TFM/model_LSTM.h5')\n",
    "def predict_sentiment(text):\n",
    "    # Preprocesar el texto\n",
    "    word_vectors = message_to_word_vectors(text)\n",
    "    \n",
    "    # Asegurarse de que hay al menos un vector de palabra, si no, agregar un vector cero\n",
    "    if len(word_vectors) == 0:\n",
    "        word_vectors = np.zeros((1, 50))\n",
    "    \n",
    "    # Realizar padding si es necesario\n",
    "    word_vectors_padded = pad_X([word_vectors], desired_sequence_length=80)\n",
    "    \n",
    "    # Predecir el sentimiento\n",
    "    prediction = model.predict(word_vectors_padded)\n",
    "    \n",
    "    # Interpretar la salida\n",
    "    sentiment = 'Positivo' if prediction[0] > 0.5 else 'Negativo'\n",
    "    print(prediction[0])\n",
    "    return sentiment, prediction[0]\n",
    "\n",
    "# Ejemplo de uso\n",
    "text = \"with upcoming election india saga going important pair look current modi leads govt elected with deal brexit combination this weekly looks juicy bears imho\"\n",
    "sentiment = predict_sentiment(text)\n",
    "print(f\"El sentimiento de la frase es: {sentiment}\")"
   ]
  }
 ],
 "metadata": {
  "kernelspec": {
   "display_name": "Python 3",
   "language": "python",
   "name": "python3"
  },
  "language_info": {
   "codemirror_mode": {
    "name": "ipython",
    "version": 3
   },
   "file_extension": ".py",
   "mimetype": "text/x-python",
   "name": "python",
   "nbconvert_exporter": "python",
   "pygments_lexer": "ipython3",
   "version": "3.9.18"
  }
 },
 "nbformat": 4,
 "nbformat_minor": 2
}
